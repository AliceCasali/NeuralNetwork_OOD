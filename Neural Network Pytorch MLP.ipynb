{
 "cells": [
  {
   "cell_type": "markdown",
   "metadata": {},
   "source": [
    "# Neural Network Pytorch MLP"
   ]
  },
  {
   "cell_type": "markdown",
   "metadata": {},
   "source": [
    "Vogliamo modellare un multi-layer perceptron utilizzando **Pytorch** per classificare il dataset MNIST."
   ]
  },
  {
   "cell_type": "code",
   "execution_count": 50,
   "metadata": {},
   "outputs": [
    {
     "name": "stdout",
     "output_type": "stream",
     "text": [
      "Using PyTorch version: 0.4.1.post2 CUDA: False\n"
     ]
    }
   ],
   "source": [
    "%matplotlib inline\n",
    "\n",
    "import torch\n",
    "import torch.nn as nn\n",
    "import torch.nn.functional as F\n",
    "import torch.optim as optim\n",
    "from torchvision import datasets, transforms\n",
    "from torch.autograd import Variable\n",
    "\n",
    "import numpy as np\n",
    "import matplotlib.pyplot as plt\n",
    "import seaborn as sns\n",
    "\n",
    "cuda = torch.cuda.is_available()\n",
    "print('Using PyTorch version:', torch.__version__, 'CUDA:', cuda)"
   ]
  },
  {
   "cell_type": "markdown",
   "metadata": {},
   "source": [
    "## Dati\n",
    "Vogliamo utilizzare il dataset MNIST, si può scaricare direttamente o caricarlo dai documenti."
   ]
  },
  {
   "cell_type": "code",
   "execution_count": 51,
   "metadata": {},
   "outputs": [],
   "source": [
    "batch_size = 32\n",
    "\n",
    "kwargs = {'num_workers': 1, 'pin_memory': True} if cuda else {}\n",
    "\n",
    "train_loader = torch.utils.data.DataLoader(\n",
    "    datasets.MNIST('./data', train=True, download=True,\n",
    "                   transform=transforms.Compose([\n",
    "                       transforms.ToTensor(),\n",
    "                       transforms.Normalize((0.1307,), (0.3081,))\n",
    "                   ])),\n",
    "    batch_size=batch_size, shuffle=True, **kwargs)\n",
    "\n",
    "test_loader = torch.utils.data.DataLoader(\n",
    "    datasets.MNIST('./data', train=False, transform=transforms.Compose([\n",
    "                       transforms.ToTensor(),\n",
    "                       transforms.Normalize((0.1307,), (0.3081,))\n",
    "                   ])),\n",
    "    batch_size=batch_size, shuffle=False, **kwargs)"
   ]
  },
  {
   "cell_type": "markdown",
   "metadata": {},
   "source": [
    "Vogliamo ora estrarre le prime tre classi in modo da fare il train solo su queste."
   ]
  },
  {
   "cell_type": "code",
   "execution_count": 52,
   "metadata": {},
   "outputs": [],
   "source": [
    "train_l = train_loader.dataset.train_labels\n",
    "train_d = train_loader.dataset.train_data\n",
    "\n",
    "zeros = train_d[train_l == 0]\n",
    "ones = train_d[train_l == 1]\n",
    "twos = train_d[train_l == 2]\n",
    "\n",
    "\n",
    "data012 = torch.cat([zeros, ones, twos])\n",
    "labels012 = torch.cat([torch.zeros((len(zeros),)), torch.ones((len(ones),)), 2.0*torch.ones((len(twos),))])\n",
    "# ADB: Qui ho notato che c'e' un problema: le immagini sono int8, ma devono essere float32.\n",
    "# Faccio la conversione e divido per 255.0 (cosi' i pixel sono fra 0.0 e 1.0).\n",
    "data012 = data012.type(torch.float32) / 255.0\n",
    "labels012 = labels012.type(torch.LongTensor)"
   ]
  },
  {
   "cell_type": "markdown",
   "metadata": {},
   "source": [
    "Adesso creiamo un nuovo dataset per il train in modo da vedere come reagisce il classificatore."
   ]
  },
  {
   "cell_type": "code",
   "execution_count": 53,
   "metadata": {},
   "outputs": [],
   "source": [
    "test_l = test_loader.dataset.test_labels\n",
    "test_d = test_loader.dataset.test_data\n",
    "\n",
    "threes = test_d[test_l == 3]\n",
    "fours = test_d[test_l == 4]\n",
    "fives = test_d[test_l == 5]\n",
    "\n",
    "data345 = torch.cat([threes, fours, fives])\n",
    "#labels345 = torch.cat([torch.threes((len(threes), 1)), torch.fours((len(fours), 1)), 2.0*torch.fours((len(fives), 1))])\n",
    "\n",
    "# ADB: Qui ho notato che c'e' un problema: le immagini sono int8, ma devono essere float32.\n",
    "# Faccio la conversione e divido per 255.0 (cosi' i pixel sono fra 0.0 e 1.0).\n",
    "data345 = data345.type(torch.float32) / 255.0"
   ]
  },
  {
   "cell_type": "markdown",
   "metadata": {},
   "source": [
    "Adesso possiamo utilizzare i nuovi dataset creati per train e test."
   ]
  },
  {
   "cell_type": "code",
   "execution_count": 54,
   "metadata": {},
   "outputs": [],
   "source": [
    "# ADB: Ho modificato qui!\n",
    "from torch.utils.data import TensorDataset\n",
    "\n",
    "# Creo due Dataset dalle immagini e ettichette.\n",
    "train_ds012 = TensorDataset(data012, labels012)\n",
    "# Uso il nuovo dataset composto da immagini e etichette\n",
    "train_loader012 = torch.utils.data.DataLoader(train_ds012, batch_size=batch_size, shuffle=True, **kwargs)\n",
    "\n",
    "validation_ds012 = TensorDataset(data012, labels012)\n",
    "validation_loader012 = torch.utils.data.DataLoader(validation_ds012, batch_size=batch_size, shuffle=True, **kwargs)\n",
    "\n",
    "# Target deve essere un LongTensor non un FloatTensor\n",
    "labels012 = labels012.type(torch.LongTensor)\n",
    "\n",
    "# Qui le ettichette non importano, quindo penso che vada bene come ha fatto lei.\n",
    "test_loader345 = torch.utils.data.DataLoader(data345, batch_size=batch_size, shuffle=True, **kwargs)"
   ]
  },
  {
   "cell_type": "markdown",
   "metadata": {},
   "source": [
    "## ADB: Osservazioni\n",
    "Stiamo mischiando un po' i concetti di 'train', 'test' e 'validate'. Per noi, servono:\n",
    "\n",
    "- Dati IN DISTRIBUTION per training (il train_loader012 va bene per questo). \n",
    "- Dati IN DISTRIBUTION per validation (i.e. per monitorare quanto bene classifichiamo le classi IN DISTRIBUTION). NON abbiamo questi data per la validation per ora.  \n",
    "- Dati OUT OF DISTRIBUTION (OOD) per i test finali (questo abbiamo, ma abbiamo chiamato 'validation'). Non possiamo usare questi dati nella funzione validate() sotto, per esempio, perche' non abbiamo ettichette e perche' non sono IN DISTRIBUTION. \n",
    "\n",
    "\n",
    "Riassumendo: bisogna anche estrarre/filtrare immagini e ettichette da validation_loader con le ettichette [0, 1, 2] per usare come validation."
   ]
  },
  {
   "cell_type": "markdown",
   "metadata": {},
   "source": [
    "## Prove"
   ]
  },
  {
   "cell_type": "markdown",
   "metadata": {},
   "source": [
    "1) Proviamo a stampare le prime 10 immagini del train:"
   ]
  },
  {
   "cell_type": "code",
   "execution_count": 55,
   "metadata": {},
   "outputs": [
    {
     "name": "stdout",
     "output_type": "stream",
     "text": [
      "X_train: torch.Size([32, 28, 28]) type: torch.FloatTensor\n",
      "y_train: torch.Size([32]) type: torch.LongTensor\n"
     ]
    }
   ],
   "source": [
    "# ADB: qui ho modificato perche' ora ogni batch contiene un gruppo di immagini e anche un gruppo di label.\n",
    "for (X_train, y_train) in train_loader012:\n",
    "    print('X_train:', X_train.size(), 'type:', X_train.type())\n",
    "    print('y_train:', y_train.size(), 'type:', y_train.type())\n",
    "    break"
   ]
  },
  {
   "cell_type": "code",
   "execution_count": 56,
   "metadata": {},
   "outputs": [
    {
     "data": {
      "image/png": "[encoded data removed]",
      "text/plain": [
       "<Figure size 720x72 with 10 Axes>"
      ]
     },
     "metadata": {},
     "output_type": "display_data"
    }
   ],
   "source": [
    "pltsize=1\n",
    "plt.figure(figsize=(10*pltsize, pltsize))\n",
    "\n",
    "for i in range(10):\n",
    "    plt.subplot(1,10,i+1)\n",
    "    plt.axis('off')\n",
    "    plt.imshow(X_train[i, :, :].numpy().reshape(28,28), cmap=\"gray\")"
   ]
  },
  {
   "cell_type": "markdown",
   "metadata": {},
   "source": [
    "2) Proviamo a stampare le prime 10 immagini del validation:"
   ]
  },
  {
   "cell_type": "code",
   "execution_count": 57,
   "metadata": {},
   "outputs": [
    {
     "name": "stdout",
     "output_type": "stream",
     "text": [
      "V_train: torch.Size([32, 28, 28]) type: torch.FloatTensor\n",
      "y_train: torch.Size([32]) type: torch.LongTensor\n"
     ]
    }
   ],
   "source": [
    "for (V_train, y_train) in validation_loader012:\n",
    "    print('V_train:', V_train.size(), 'type:', V_train.type())\n",
    "    print('y_train:', y_train.size(), 'type:', y_train.type())\n",
    "    break"
   ]
  },
  {
   "cell_type": "code",
   "execution_count": 58,
   "metadata": {},
   "outputs": [
    {
     "data": {
      "image/png": "[encoded data removed]",
      "text/plain": [
       "<Figure size 720x72 with 10 Axes>"
      ]
     },
     "metadata": {},
     "output_type": "display_data"
    }
   ],
   "source": [
    "pltsize=1\n",
    "plt.figure(figsize=(10*pltsize, pltsize))\n",
    "\n",
    "for i in range(10):\n",
    "    plt.subplot(1,10,i+1)\n",
    "    plt.axis('off')\n",
    "    plt.imshow(V_train[i, :, :].numpy().reshape(28,28), cmap=\"gray\")"
   ]
  },
  {
   "cell_type": "markdown",
   "metadata": {},
   "source": [
    "3) Proviamo a stampare le prime 10 immagini del test:"
   ]
  },
  {
   "cell_type": "code",
   "execution_count": 59,
   "metadata": {},
   "outputs": [
    {
     "name": "stdout",
     "output_type": "stream",
     "text": [
      "Y_train: torch.Size([32, 28, 28]) type: torch.FloatTensor\n"
     ]
    }
   ],
   "source": [
    "for Y_train in test_loader345:\n",
    "    print('Y_train:', Y_train.size(), 'type:', Y_train.type())\n",
    "    break"
   ]
  },
  {
   "cell_type": "code",
   "execution_count": 60,
   "metadata": {},
   "outputs": [
    {
     "data": {
      "image/png": "[encoded data removed]",
      "text/plain": [
       "<Figure size 720x72 with 10 Axes>"
      ]
     },
     "metadata": {},
     "output_type": "display_data"
    }
   ],
   "source": [
    "pltsize=1\n",
    "plt.figure(figsize=(10*pltsize, pltsize))\n",
    "\n",
    "for i in range(10):\n",
    "    plt.subplot(1,10,i+1)\n",
    "    plt.axis('off')\n",
    "    plt.imshow(Y_train[i, :, :].numpy().reshape(28,28), cmap=\"gray\")"
   ]
  },
  {
   "cell_type": "markdown",
   "metadata": {},
   "source": [
    "## Multi-layer Perceptron\n",
    "Definiamo ora la rete neurale come una Python class."
   ]
  },
  {
   "cell_type": "code",
   "execution_count": 61,
   "metadata": {},
   "outputs": [
    {
     "name": "stdout",
     "output_type": "stream",
     "text": [
      "Net(\n",
      "  (fc1): Linear(in_features=784, out_features=128, bias=True)\n",
      "  (fc1_drop): Dropout(p=0.2)\n",
      "  (fc2): Linear(in_features=128, out_features=128, bias=True)\n",
      "  (fc2_drop): Dropout(p=0.2)\n",
      "  (fc3): Linear(in_features=128, out_features=3, bias=True)\n",
      ")\n"
     ]
    }
   ],
   "source": [
    "class Net(nn.Module):\n",
    "    def __init__(self):\n",
    "        super(Net, self).__init__()\n",
    "        self.fc1 = nn.Linear(28*28, 128)\n",
    "        self.fc1_drop = nn.Dropout(0.2)\n",
    "        self.fc2 = nn.Linear(128, 128)\n",
    "        self.fc2_drop = nn.Dropout(0.2)\n",
    "        self.fc3 = nn.Linear(128, 3)     # Numero di output 3.\n",
    "\n",
    "    def forward(self, x):\n",
    "        x = x.view(-1, 28*28)\n",
    "        x = F.relu(self.fc1(x))\n",
    "        x = self.fc1_drop(x)\n",
    "        x = F.relu(self.fc2(x))\n",
    "        x = self.fc2_drop(x)\n",
    "        return F.log_softmax(self.fc3(x), 1)\n",
    "\n",
    "model = Net()\n",
    "if cuda:\n",
    "    model.cuda()\n",
    "    \n",
    "optimizer = optim.SGD(model.parameters(), lr=0.01, momentum=0.5)\n",
    "\n",
    "print(model)"
   ]
  },
  {
   "cell_type": "markdown",
   "metadata": {},
   "source": [
    "Definiamo le funzioni di **train** e **test**"
   ]
  },
  {
   "cell_type": "code",
   "execution_count": 62,
   "metadata": {},
   "outputs": [],
   "source": [
    "def train(epoch, log_interval=100):\n",
    "    model.train()\n",
    "    batch_idx = 0\n",
    "    while(batch_idx != len(train_loader012)):\n",
    "        for (data, target) in train_loader012:\n",
    "            target = target.type(torch.long)\n",
    "            if cuda:\n",
    "                data, target = data.cuda(), target.cuda()\n",
    "            data, target = Variable(data), Variable(target)\n",
    "            optimizer.zero_grad()\n",
    "            output = model(data)\n",
    "            loss = F.nll_loss(output, target)\n",
    "            loss.backward()\n",
    "            optimizer.step()\n",
    "            if batch_idx % log_interval == 0:\n",
    "                print('Train Epoch: {} [{}/{} ({:.0f}%)]\\tLoss: {:.6f}'.format(\n",
    "                    epoch, batch_idx * len(data), len(train_loader012.dataset),\n",
    "                    100. * batch_idx / len(train_loader012), loss.item()))\n",
    "            batch_idx = batch_idx + 1"
   ]
  },
  {
   "cell_type": "code",
   "execution_count": 63,
   "metadata": {},
   "outputs": [],
   "source": [
    "def validate(loss_vector, accuracy_vector):\n",
    "    model.eval()\n",
    "    val_loss, correct = 0, 0\n",
    "    for data, target in validation_loader012:\n",
    "        if cuda:\n",
    "            data, target = data.cuda(), target.cuda()\n",
    "        data, target = Variable(data), Variable(target)\n",
    "        output = model(data)\n",
    "        val_loss += F.nll_loss(output, target).item()\n",
    "        pred = output.data.max(1)[1] # get the index of the max log-probability\n",
    "        correct += pred.eq(target.data).cpu().sum()\n",
    "\n",
    "    val_loss /= len(validation_loader012)\n",
    "    loss_vector.append(val_loss)\n",
    "\n",
    "    accuracy = 100. * correct / len(validation_loader012.dataset)\n",
    "    accuracy_vector.append(accuracy)\n",
    "    \n",
    "    print('\\nValidation set: Average loss: {:.4f}, Accuracy: {}/{} ({:.0f}%)\\n'.format(\n",
    "        val_loss, correct, len(validation_loader012.dataset), accuracy))"
   ]
  },
  {
   "cell_type": "markdown",
   "metadata": {},
   "source": [
    "Possiamo adesso addestrare il nostro modello, ogni epoca passa attraverso tutto il dataset del train. Dopo ogni epoca valutiamo il modello attraverso il test(). L'obiettivo è verificare che il modello riconosce come 0, 1, 2 anche le immagini di 3, 4, 5 quindi la classificazione è **out of distribution**"
   ]
  },
  {
   "cell_type": "code",
   "execution_count": 64,
   "metadata": {},
   "outputs": [
    {
     "name": "stdout",
     "output_type": "stream",
     "text": [
      "Train Epoch: 1 [0/18623 (0%)]\tLoss: 1.103756\n",
      "Train Epoch: 1 [3200/18623 (17%)]\tLoss: 0.632490\n",
      "Train Epoch: 1 [6400/18623 (34%)]\tLoss: 0.246650\n",
      "Train Epoch: 1 [9600/18623 (52%)]\tLoss: 0.109803\n",
      "Train Epoch: 1 [12800/18623 (69%)]\tLoss: 0.244231\n",
      "Train Epoch: 1 [16000/18623 (86%)]\tLoss: 0.063556\n",
      "\n",
      "Validation set: Average loss: 0.0656, Accuracy: 18256/18623 (98%)\n",
      "\n",
      "Train Epoch: 2 [0/18623 (0%)]\tLoss: 0.073614\n",
      "Train Epoch: 2 [3200/18623 (17%)]\tLoss: 0.037423\n",
      "Train Epoch: 2 [6400/18623 (34%)]\tLoss: 0.025005\n",
      "Train Epoch: 2 [9600/18623 (52%)]\tLoss: 0.158783\n",
      "Train Epoch: 2 [12800/18623 (69%)]\tLoss: 0.019256\n",
      "Train Epoch: 2 [16000/18623 (86%)]\tLoss: 0.046703\n",
      "\n",
      "Validation set: Average loss: 0.0483, Accuracy: 18321/18623 (98%)\n",
      "\n",
      "Train Epoch: 3 [0/18623 (0%)]\tLoss: 0.066514\n",
      "Train Epoch: 3 [3200/18623 (17%)]\tLoss: 0.034874\n",
      "Train Epoch: 3 [6400/18623 (34%)]\tLoss: 0.170677\n",
      "Train Epoch: 3 [9600/18623 (52%)]\tLoss: 0.137069\n",
      "Train Epoch: 3 [12800/18623 (69%)]\tLoss: 0.024156\n",
      "Train Epoch: 3 [16000/18623 (86%)]\tLoss: 0.011686\n",
      "\n",
      "Validation set: Average loss: 0.0394, Accuracy: 18394/18623 (98%)\n",
      "\n",
      "Train Epoch: 4 [0/18623 (0%)]\tLoss: 0.269534\n",
      "Train Epoch: 4 [3200/18623 (17%)]\tLoss: 0.092017\n",
      "Train Epoch: 4 [6400/18623 (34%)]\tLoss: 0.027190\n",
      "Train Epoch: 4 [9600/18623 (52%)]\tLoss: 0.038098\n",
      "Train Epoch: 4 [12800/18623 (69%)]\tLoss: 0.022678\n",
      "Train Epoch: 4 [16000/18623 (86%)]\tLoss: 0.016976\n",
      "\n",
      "Validation set: Average loss: 0.0341, Accuracy: 18422/18623 (98%)\n",
      "\n",
      "Train Epoch: 5 [0/18623 (0%)]\tLoss: 0.029873\n",
      "Train Epoch: 5 [3200/18623 (17%)]\tLoss: 0.008128\n",
      "Train Epoch: 5 [6400/18623 (34%)]\tLoss: 0.080676\n",
      "Train Epoch: 5 [9600/18623 (52%)]\tLoss: 0.009371\n",
      "Train Epoch: 5 [12800/18623 (69%)]\tLoss: 0.098962\n",
      "Train Epoch: 5 [16000/18623 (86%)]\tLoss: 0.013320\n",
      "\n",
      "Validation set: Average loss: 0.0314, Accuracy: 18437/18623 (99%)\n",
      "\n",
      "Train Epoch: 6 [0/18623 (0%)]\tLoss: 0.010421\n",
      "Train Epoch: 6 [3200/18623 (17%)]\tLoss: 0.006971\n",
      "Train Epoch: 6 [6400/18623 (34%)]\tLoss: 0.071945\n",
      "Train Epoch: 6 [9600/18623 (52%)]\tLoss: 0.079604\n",
      "Train Epoch: 6 [12800/18623 (69%)]\tLoss: 0.006425\n",
      "Train Epoch: 6 [16000/18623 (86%)]\tLoss: 0.008012\n",
      "\n",
      "Validation set: Average loss: 0.0283, Accuracy: 18454/18623 (99%)\n",
      "\n",
      "Train Epoch: 7 [0/18623 (0%)]\tLoss: 0.003126\n",
      "Train Epoch: 7 [3200/18623 (17%)]\tLoss: 0.007394\n",
      "Train Epoch: 7 [6400/18623 (34%)]\tLoss: 0.005448\n",
      "Train Epoch: 7 [9600/18623 (52%)]\tLoss: 0.003709\n",
      "Train Epoch: 7 [12800/18623 (69%)]\tLoss: 0.003556\n",
      "Train Epoch: 7 [16000/18623 (86%)]\tLoss: 0.019792\n",
      "\n",
      "Validation set: Average loss: 0.0247, Accuracy: 18473/18623 (99%)\n",
      "\n",
      "Train Epoch: 8 [0/18623 (0%)]\tLoss: 0.009721\n",
      "Train Epoch: 8 [3200/18623 (17%)]\tLoss: 0.002926\n",
      "Train Epoch: 8 [6400/18623 (34%)]\tLoss: 0.008843\n",
      "Train Epoch: 8 [9600/18623 (52%)]\tLoss: 0.096150\n",
      "Train Epoch: 8 [12800/18623 (69%)]\tLoss: 0.027174\n",
      "Train Epoch: 8 [16000/18623 (86%)]\tLoss: 0.023448\n",
      "\n",
      "Validation set: Average loss: 0.0228, Accuracy: 18484/18623 (99%)\n",
      "\n",
      "Train Epoch: 9 [0/18623 (0%)]\tLoss: 0.012446\n",
      "Train Epoch: 9 [3200/18623 (17%)]\tLoss: 0.012761\n",
      "Train Epoch: 9 [6400/18623 (34%)]\tLoss: 0.090272\n",
      "Train Epoch: 9 [9600/18623 (52%)]\tLoss: 0.004022\n",
      "Train Epoch: 9 [12800/18623 (69%)]\tLoss: 0.004878\n",
      "Train Epoch: 9 [16000/18623 (86%)]\tLoss: 0.001275\n",
      "\n",
      "Validation set: Average loss: 0.0207, Accuracy: 18504/18623 (99%)\n",
      "\n",
      "Train Epoch: 10 [0/18623 (0%)]\tLoss: 0.010622\n",
      "Train Epoch: 10 [3200/18623 (17%)]\tLoss: 0.025540\n",
      "Train Epoch: 10 [6400/18623 (34%)]\tLoss: 0.003389\n",
      "Train Epoch: 10 [9600/18623 (52%)]\tLoss: 0.001476\n",
      "Train Epoch: 10 [12800/18623 (69%)]\tLoss: 0.016029\n",
      "Train Epoch: 10 [16000/18623 (86%)]\tLoss: 0.004817\n",
      "\n",
      "Validation set: Average loss: 0.0191, Accuracy: 18525/18623 (99%)\n",
      "\n",
      "CPU times: user 46.4 s, sys: 1.87 s, total: 48.3 s\n",
      "Wall time: 17.6 s\n"
     ]
    }
   ],
   "source": [
    "%%time\n",
    "epochs = 10\n",
    "\n",
    "lossv, accv = [], []\n",
    "for epoch in range(1, epochs + 1):\n",
    "    train(epoch)\n",
    "    validate(lossv, accv)\n"
   ]
  },
  {
   "cell_type": "code",
   "execution_count": null,
   "metadata": {},
   "outputs": [],
   "source": []
  }
 ],
 "metadata": {
  "kernelspec": {
   "display_name": "Python 3",
   "language": "python",
   "name": "python3"
  },
  "language_info": {
   "codemirror_mode": {
    "name": "ipython",
    "version": 3
   },
   "file_extension": ".py",
   "mimetype": "text/x-python",
   "name": "python",
   "nbconvert_exporter": "python",
   "pygments_lexer": "ipython3",
   "version": "3.6.5"
  }
 },
 "nbformat": 4,
 "nbformat_minor": 2
}
