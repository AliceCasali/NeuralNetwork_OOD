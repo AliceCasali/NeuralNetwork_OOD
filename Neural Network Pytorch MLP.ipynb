{
 "cells": [
  {
   "cell_type": "markdown",
   "metadata": {},
   "source": [
    "# Neural Network Pytorch MLP"
   ]
  },
  {
   "cell_type": "markdown",
   "metadata": {},
   "source": [
    "Vogliamo modellare un multi-layer perceptron utilizzando **Pytorch** per classificare il dataset MNIST."
   ]
  },
  {
   "cell_type": "code",
   "execution_count": 1,
   "metadata": {},
   "outputs": [
    {
     "name": "stdout",
     "output_type": "stream",
     "text": [
      "Using PyTorch version: 0.4.1.post2 CUDA: False\n"
     ]
    }
   ],
   "source": [
    "%matplotlib inline\n",
    "\n",
    "import torch\n",
    "import torch.nn as nn\n",
    "import torch.nn.functional as F\n",
    "import torch.optim as optim\n",
    "from torchvision import datasets, transforms\n",
    "from torch.autograd import Variable\n",
    "\n",
    "import numpy as np\n",
    "import matplotlib.pyplot as plt\n",
    "import seaborn as sns\n",
    "\n",
    "cuda = torch.cuda.is_available()\n",
    "print('Using PyTorch version:', torch.__version__, 'CUDA:', cuda)"
   ]
  },
  {
   "cell_type": "markdown",
   "metadata": {},
   "source": [
    "## Dati\n",
    "Vogliamo utilizzare il dataset MNIST, si può scaricare direttamente o caricarlo dai documenti."
   ]
  },
  {
   "cell_type": "code",
   "execution_count": 2,
   "metadata": {},
   "outputs": [],
   "source": [
    "batch_size = 32\n",
    "\n",
    "kwargs = {'num_workers': 1, 'pin_memory': True} if cuda else {}\n",
    "\n",
    "train_loader = torch.utils.data.DataLoader(\n",
    "    datasets.MNIST('./data', train=True, download=True,\n",
    "                   transform=transforms.Compose([\n",
    "                       transforms.ToTensor(),\n",
    "                       transforms.Normalize((0.1307,), (0.3081,))\n",
    "                   ])),\n",
    "    batch_size=batch_size, shuffle=True, **kwargs)\n",
    "\n",
    "test_loader = torch.utils.data.DataLoader(\n",
    "    datasets.MNIST('./data', train=False, transform=transforms.Compose([\n",
    "                       transforms.ToTensor(),\n",
    "                       transforms.Normalize((0.1307,), (0.3081,))\n",
    "                   ])),\n",
    "    batch_size=batch_size, shuffle=False, **kwargs)\n"
   ]
  },
  {
   "cell_type": "markdown",
   "metadata": {},
   "source": [
    "Vogliamo ora estrarre le prime tre classi in modo da fare il train solo su queste.\n",
    "\n",
    "Inoltre dividiamo il dataset così creato in train (80%) e validate (20%)"
   ]
  },
  {
   "cell_type": "code",
   "execution_count": 3,
   "metadata": {},
   "outputs": [],
   "source": [
    "split = int(np.floor(len(train_loader.dataset.train_labels))*0.8)\n",
    "\n",
    "train_l = train_loader.dataset.train_labels[0:split]\n",
    "train_d = train_loader.dataset.train_data[0:split]\n",
    "\n",
    "val_l = train_loader.dataset.train_labels[split:-1]\n",
    "val_d = train_loader.dataset.train_data[split:-1]\n",
    "\n"
   ]
  },
  {
   "cell_type": "code",
   "execution_count": 4,
   "metadata": {},
   "outputs": [
    {
     "name": "stdout",
     "output_type": "stream",
     "text": [
      "14961\n"
     ]
    }
   ],
   "source": [
    "zeros = train_d[train_l == 0]\n",
    "ones = train_d[train_l == 1]\n",
    "twos = train_d[train_l == 2]\n",
    "\n",
    "\n",
    "train_data012 = torch.cat([zeros, ones, twos])\n",
    "train_labels012 = torch.cat([torch.zeros((len(zeros),)), torch.ones((len(ones),)), 2.0*torch.ones((len(twos),))])\n",
    "\n",
    "# ADB: Qui ho notato che c'e' un problema: le immagini sono int8, ma devono essere float32.\n",
    "# Faccio la conversione e divido per 255.0 (cosi' i pixel sono fra 0.0 e 1.0).\n",
    "train_data012 = train_data012.type(torch.float32) / 255.0\n",
    "\n",
    "print(len(train_data012))"
   ]
  },
  {
   "cell_type": "code",
   "execution_count": 5,
   "metadata": {},
   "outputs": [
    {
     "name": "stdout",
     "output_type": "stream",
     "text": [
      "3662\n"
     ]
    }
   ],
   "source": [
    "zeros = val_d[val_l == 0]\n",
    "ones = val_d[val_l == 1]\n",
    "twos = val_d[val_l == 2]\n",
    "\n",
    "\n",
    "val_data012 = torch.cat([zeros, ones, twos])\n",
    "val_labels012 = torch.cat([torch.zeros((len(zeros),)), torch.ones((len(ones),)), 2.0*torch.ones((len(twos),))])\n",
    "\n",
    "# ADB: Qui ho notato che c'e' un problema: le immagini sono int8, ma devono essere float32.\n",
    "# Faccio la conversione e divido per 255.0 (cosi' i pixel sono fra 0.0 e 1.0).\n",
    "val_data012 = val_data012.type(torch.float32) / 255.0\n",
    "\n",
    "print(len(val_data012))"
   ]
  },
  {
   "cell_type": "markdown",
   "metadata": {},
   "source": [
    "Adesso creiamo dei nuovi dataset per il train in modo da vedere come reagisce il classificatore con dati ID e OOD:"
   ]
  },
  {
   "cell_type": "code",
   "execution_count": 6,
   "metadata": {},
   "outputs": [],
   "source": [
    "test_l012 = test_loader.dataset.test_labels\n",
    "test_d012 = test_loader.dataset.test_data\n",
    "\n",
    "zeros = test_d012[test_l012 == 0]\n",
    "ones = test_d012[test_l012 == 1]\n",
    "twos = test_d012[test_l012 == 2]\n",
    "\n",
    "\n",
    "test_data012 = torch.cat([zeros, ones, twos])\n",
    "test_labels012 = torch.cat([torch.zeros((len(zeros),)), torch.ones((len(ones),)), 2.0*torch.ones((len(twos),))])\n",
    "\n",
    "# ADB: Qui ho notato che c'e' un problema: le immagini sono int8, ma devono essere float32.\n",
    "# Faccio la conversione e divido per 255.0 (cosi' i pixel sono fra 0.0 e 1.0).\n",
    "test_data012 = test_data012.type(torch.float32) / 255.0\n"
   ]
  },
  {
   "cell_type": "code",
   "execution_count": 7,
   "metadata": {},
   "outputs": [
    {
     "name": "stdout",
     "output_type": "stream",
     "text": [
      "torch.FloatTensor\n"
     ]
    }
   ],
   "source": [
    "test_l = test_loader.dataset.test_labels\n",
    "test_d = test_loader.dataset.test_data\n",
    "\n",
    "threes = test_d[test_l == 3]\n",
    "fours = test_d[test_l == 4]\n",
    "fives = test_d[test_l == 5]\n",
    "\n",
    "test_data345 = torch.cat([threes, fours, fives])\n",
    "\n",
    "# ADB: Qui ho notato che c'e' un problema: le immagini sono int8, ma devono essere float32.\n",
    "# Faccio la conversione e divido per 255.0 (cosi' i pixel sono fra 0.0 e 1.0).\n",
    "test_data345 = test_data345.type(torch.float32) / 255.0\n",
    "\n",
    "print(test_data345.type())"
   ]
  },
  {
   "cell_type": "markdown",
   "metadata": {},
   "source": [
    "Adesso possiamo utilizzare i nuovi dataset creati per train, validation e test."
   ]
  },
  {
   "cell_type": "code",
   "execution_count": 8,
   "metadata": {},
   "outputs": [
    {
     "name": "stdout",
     "output_type": "stream",
     "text": [
      "468\n",
      "115\n",
      "99\n",
      "99\n",
      "91\n"
     ]
    }
   ],
   "source": [
    "from torch.utils.data import TensorDataset\n",
    "\n",
    "# Train012 80%\n",
    "train_ds012 = TensorDataset(train_data012, train_labels012)\n",
    "train_loader012 = torch.utils.data.DataLoader(train_ds012, batch_size=batch_size, shuffle=True, **kwargs)\n",
    "print(len(train_loader012))\n",
    "\n",
    "# Validation012 20%\n",
    "validation_ds012 = TensorDataset(val_data012, val_labels012)\n",
    "validation_loader012 = torch.utils.data.DataLoader(validation_ds012, batch_size=batch_size, shuffle=True, **kwargs)\n",
    "print(len(validation_loader012))\n",
    "\n",
    "# Test012 all\n",
    "test_ds012 = TensorDataset(test_data012, test_labels012)\n",
    "test_loader012 = torch.utils.data.DataLoader(test_ds012, batch_size=batch_size, shuffle=True, **kwargs)\n",
    "print(len(test_loader012))\n",
    "\n",
    "test_loader012NoLab = torch.utils.data.DataLoader(test_data012, batch_size=batch_size, shuffle=True, **kwargs)\n",
    "print(len(test_loader012NoLab))\n",
    "\n",
    "# Test345 all\n",
    "test_loader345 = torch.utils.data.DataLoader(test_data345, batch_size=batch_size, shuffle=True, **kwargs)\n",
    "print(len(test_loader345))"
   ]
  },
  {
   "cell_type": "markdown",
   "metadata": {},
   "source": [
    "## ADB: Osservazioni\n",
    "Stiamo mischiando un po' i concetti di 'train', 'test' e 'validate'. Per noi, servono:\n",
    "\n",
    "- Dati IN DISTRIBUTION per training (il train_loader012 va bene per questo). \n",
    "- Dati IN DISTRIBUTION per validation (i.e. per monitorare quanto bene classifichiamo le classi IN DISTRIBUTION). NON abbiamo questi data per la validation per ora.  \n",
    "- Dati OUT OF DISTRIBUTION (OOD) per i test finali (questo abbiamo, ma abbiamo chiamato 'validation'). Non possiamo usare questi dati nella funzione validate() sotto, per esempio, perche' non abbiamo ettichette e perche' non sono IN DISTRIBUTION. \n",
    "\n",
    "\n",
    "Riassumendo: bisogna anche estrarre/filtrare immagini e ettichette da validation_loader con le ettichette [0, 1, 2] per usare come validation."
   ]
  },
  {
   "cell_type": "markdown",
   "metadata": {},
   "source": [
    "## Prove"
   ]
  },
  {
   "cell_type": "markdown",
   "metadata": {},
   "source": [
    "1) Proviamo a stampare le prime 10 immagini del train:"
   ]
  },
  {
   "cell_type": "code",
   "execution_count": 9,
   "metadata": {},
   "outputs": [
    {
     "name": "stdout",
     "output_type": "stream",
     "text": [
      "X_train: torch.Size([32, 28, 28]) type: torch.FloatTensor\n",
      "y_train: torch.Size([32]) type: torch.FloatTensor\n"
     ]
    }
   ],
   "source": [
    "# ADB: qui ho modificato perche' ora ogni batch contiene un gruppo di immagini e anche un gruppo di label.\n",
    "for (X_train, y_train) in train_loader012:\n",
    "    print('X_train:', X_train.size(), 'type:', X_train.type())\n",
    "    print('y_train:', y_train.size(), 'type:', y_train.type())\n",
    "    break"
   ]
  },
  {
   "cell_type": "code",
   "execution_count": 10,
   "metadata": {},
   "outputs": [
    {
     "data": {
      "image/png": "[encoded data removed]",
      "text/plain": [
       "<Figure size 720x72 with 10 Axes>"
      ]
     },
     "metadata": {},
     "output_type": "display_data"
    }
   ],
   "source": [
    "pltsize=1\n",
    "plt.figure(figsize=(10*pltsize, pltsize))\n",
    "\n",
    "for i in range(10):\n",
    "    plt.subplot(1,10,i+1)\n",
    "    plt.axis('off')\n",
    "    plt.imshow(X_train[i, :, :].numpy().reshape(28,28), cmap=\"gray\")"
   ]
  },
  {
   "cell_type": "markdown",
   "metadata": {},
   "source": [
    "2) Proviamo a stampare le prime 10 immagini del validation:"
   ]
  },
  {
   "cell_type": "code",
   "execution_count": 11,
   "metadata": {},
   "outputs": [
    {
     "name": "stdout",
     "output_type": "stream",
     "text": [
      "V_train: torch.Size([32, 28, 28]) type: torch.FloatTensor\n",
      "y_train: torch.Size([32]) type: torch.FloatTensor\n"
     ]
    }
   ],
   "source": [
    "for (V_train, y_train) in validation_loader012:\n",
    "    print('V_train:', V_train.size(), 'type:', V_train.type())\n",
    "    print('y_train:', y_train.size(), 'type:', y_train.type())\n",
    "    break"
   ]
  },
  {
   "cell_type": "code",
   "execution_count": 12,
   "metadata": {},
   "outputs": [
    {
     "data": {
      "image/png": "[encoded data removed]",
      "text/plain": [
       "<Figure size 720x72 with 10 Axes>"
      ]
     },
     "metadata": {},
     "output_type": "display_data"
    }
   ],
   "source": [
    "pltsize=1\n",
    "plt.figure(figsize=(10*pltsize, pltsize))\n",
    "\n",
    "for i in range(10):\n",
    "    plt.subplot(1,10,i+1)\n",
    "    plt.axis('off')\n",
    "    plt.imshow(V_train[i, :, :].numpy().reshape(28,28), cmap=\"gray\")"
   ]
  },
  {
   "cell_type": "markdown",
   "metadata": {},
   "source": [
    "3) Proviamo a stampare le prime 10 immagini del test:"
   ]
  },
  {
   "cell_type": "code",
   "execution_count": 13,
   "metadata": {},
   "outputs": [
    {
     "name": "stdout",
     "output_type": "stream",
     "text": [
      "T_train: torch.Size([32, 28, 28]) type: torch.FloatTensor\n",
      "y_train: torch.Size([32]) type: torch.FloatTensor\n"
     ]
    }
   ],
   "source": [
    "for (T_train, y_train) in test_loader012:\n",
    "    print('T_train:', T_train.size(), 'type:', T_train.type())\n",
    "    print('y_train:', y_train.size(), 'type:', y_train.type())\n",
    "    break"
   ]
  },
  {
   "cell_type": "code",
   "execution_count": 14,
   "metadata": {},
   "outputs": [
    {
     "data": {
      "image/png": "[encoded data removed]",
      "text/plain": [
       "<Figure size 720x72 with 10 Axes>"
      ]
     },
     "metadata": {},
     "output_type": "display_data"
    }
   ],
   "source": [
    "pltsize=1\n",
    "plt.figure(figsize=(10*pltsize, pltsize))\n",
    "\n",
    "for i in range(10):\n",
    "    plt.subplot(1,10,i+1)\n",
    "    plt.axis('off')\n",
    "    plt.imshow(V_train[i, :, :].numpy().reshape(28,28), cmap=\"gray\")"
   ]
  },
  {
   "cell_type": "code",
   "execution_count": 15,
   "metadata": {},
   "outputs": [
    {
     "name": "stdout",
     "output_type": "stream",
     "text": [
      "Y_train: torch.Size([32, 28, 28]) type: torch.FloatTensor\n"
     ]
    }
   ],
   "source": [
    "for Y_train in test_loader345:\n",
    "    print('Y_train:', Y_train.size(), 'type:', Y_train.type())\n",
    "    break"
   ]
  },
  {
   "cell_type": "code",
   "execution_count": 16,
   "metadata": {},
   "outputs": [
    {
     "data": {
      "image/png": "[encoded data removed]",
      "text/plain": [
       "<Figure size 720x72 with 10 Axes>"
      ]
     },
     "metadata": {},
     "output_type": "display_data"
    }
   ],
   "source": [
    "pltsize=1\n",
    "plt.figure(figsize=(10*pltsize, pltsize))\n",
    "\n",
    "for i in range(10):\n",
    "    plt.subplot(1,10,i+1)\n",
    "    plt.axis('off')\n",
    "    plt.imshow(Y_train[i, :, :].numpy().reshape(28,28), cmap=\"gray\")"
   ]
  },
  {
   "cell_type": "markdown",
   "metadata": {},
   "source": [
    "## Multi-layer Perceptron\n",
    "Definiamo ora la rete neurale come una Python class."
   ]
  },
  {
   "cell_type": "code",
   "execution_count": 17,
   "metadata": {},
   "outputs": [
    {
     "name": "stdout",
     "output_type": "stream",
     "text": [
      "Net(\n",
      "  (fc1): Linear(in_features=784, out_features=128, bias=True)\n",
      "  (fc1_drop): Dropout(p=0.2)\n",
      "  (fc2): Linear(in_features=128, out_features=128, bias=True)\n",
      "  (fc2_drop): Dropout(p=0.2)\n",
      "  (fc3): Linear(in_features=128, out_features=3, bias=True)\n",
      ")\n"
     ]
    }
   ],
   "source": [
    "class Net(nn.Module):\n",
    "    def __init__(self):\n",
    "        super(Net, self).__init__()\n",
    "        self.fc1 = nn.Linear(28*28, 128)\n",
    "        self.fc1_drop = nn.Dropout(0.2)\n",
    "        self.fc2 = nn.Linear(128, 128)\n",
    "        self.fc2_drop = nn.Dropout(0.2)\n",
    "        self.fc3 = nn.Linear(128, 3)     # Numero di output 3.\n",
    "\n",
    "    def forward(self, x):\n",
    "        x = x.view(-1, 28*28)\n",
    "        x = F.relu(self.fc1(x))\n",
    "        x = self.fc1_drop(x)\n",
    "        x = F.relu(self.fc2(x))\n",
    "        x = self.fc2_drop(x)\n",
    "        return F.log_softmax(self.fc3(x), 1)\n",
    "\n",
    "model = Net()\n",
    "if cuda:\n",
    "    model.cuda()\n",
    "    \n",
    "optimizer = optim.SGD(model.parameters(), lr=0.01, momentum=0.5)\n",
    "\n",
    "print(model)"
   ]
  },
  {
   "cell_type": "markdown",
   "metadata": {},
   "source": [
    "Definiamo le funzioni di **train** e **test**"
   ]
  },
  {
   "cell_type": "code",
   "execution_count": 18,
   "metadata": {},
   "outputs": [],
   "source": [
    "def train(epoch, log_interval=100):\n",
    "    model.train()\n",
    "    batch_idx = 0\n",
    "    while(batch_idx != len(train_loader012)):\n",
    "        for (data, target) in train_loader012:\n",
    "            target = target.type(torch.long)\n",
    "            if cuda:\n",
    "                data, target = data.cuda(), target.cuda()\n",
    "            data, target = Variable(data), Variable(target)\n",
    "            optimizer.zero_grad()\n",
    "            output = model(data)\n",
    "            loss = F.nll_loss(output, target)\n",
    "            loss.backward()\n",
    "            optimizer.step()\n",
    "            if batch_idx % log_interval == 0:\n",
    "                print('Train Epoch: {} [{}/{} ({:.0f}%)]\\tLoss: {:.6f}'.format(\n",
    "                    epoch, batch_idx * len(data), len(train_loader012.dataset),\n",
    "                    100. * batch_idx / len(train_loader012), loss.item()))\n",
    "            batch_idx = batch_idx + 1"
   ]
  },
  {
   "cell_type": "code",
   "execution_count": 19,
   "metadata": {},
   "outputs": [],
   "source": [
    "def validate(loss_vector, accuracy_vector):\n",
    "    model.eval()\n",
    "    val_loss, correct = 0, 0\n",
    "    for data, target in validation_loader012:\n",
    "        target = target.type(torch.long)\n",
    "        if cuda:\n",
    "            data, target = data.cuda(), target.cuda()\n",
    "        data, target = Variable(data), Variable(target)\n",
    "        output = model(data)\n",
    "        val_loss += F.nll_loss(output, target).item()\n",
    "        pred = output.data.max(1)[1] # get the index of the max log-probability\n",
    "        correct += pred.eq(target.data).cpu().sum()\n",
    "\n",
    "    val_loss /= len(validation_loader012)\n",
    "    loss_vector.append(val_loss)\n",
    "\n",
    "    accuracy = 100. * correct / len(validation_loader012.dataset)\n",
    "    accuracy_vector.append(accuracy)\n",
    "    \n",
    "    print('\\nValidation set: Average loss: {:.4f}, Accuracy: {}/{} ({:.0f}%)\\n'.format(\n",
    "        val_loss, correct, len(validation_loader012.dataset), accuracy))"
   ]
  },
  {
   "cell_type": "code",
   "execution_count": 20,
   "metadata": {},
   "outputs": [],
   "source": [
    "def test(epoch):\n",
    "    model.eval ()\n",
    "    test_loss = 0\n",
    "    correct = 0\n",
    "    for data, target in test_loader012:\n",
    "        target = target.type(torch.long)\n",
    "        if cuda:\n",
    "            data, target = data.cuda(), target.cuda()\n",
    "        data = Variable(data)\n",
    "        target = Variable(target)\n",
    "        output = model (data)\n",
    "        test_loss += F.nll_loss (output, target).item ()  # sum up batch loss\n",
    "        pred = output.max (1, keepdim=True)[1]  # get the index of the max log-probability\n",
    "        correct += pred.eq (target.view_as (pred)).sum ().item ()\n",
    "    test_loss /= len (test_loader012.dataset)\n",
    "    print ('\\nTest set: Average loss: {:.4f}, Accuracy: {}/{} ({:.0f}%)\\n'.format (\n",
    "        test_loss, correct, len (test_loader012.dataset),\n",
    "        100. * correct / len (test_loader012.dataset)))"
   ]
  },
  {
   "cell_type": "code",
   "execution_count": 38,
   "metadata": {},
   "outputs": [],
   "source": [
    "def predict(data_loader):\n",
    "    preds = []\n",
    "    for data in data_loader :\n",
    "        data = Variable(data)\n",
    "        preds.append(model(data))\n",
    "        output = model(data)\n",
    "    preds = torch.cat(preds)\n",
    "    preds = torch.exp(preds)\n",
    "    torch.sum(preds,1)\n",
    "    print('\\nLe probabilità di classificazione sono: ')\n",
    "    print('')\n",
    "    print(preds)   "
   ]
  },
  {
   "cell_type": "markdown",
   "metadata": {},
   "source": [
    "Possiamo adesso addestrare il nostro modello, ogni epoca passa attraverso tutto il dataset del train. Dopo ogni epoca valutiamo il modello attraverso il test(). L'obiettivo è verificare che il modello riconosce come 0, 1, 2 anche le immagini di 3, 4, 5 quindi la classificazione è **out of distribution**"
   ]
  },
  {
   "cell_type": "code",
   "execution_count": 40,
   "metadata": {},
   "outputs": [
    {
     "name": "stdout",
     "output_type": "stream",
     "text": [
      "Train Epoch: 1 [0/14961 (0%)]\tLoss: 0.006109\n",
      "Train Epoch: 1 [3200/14961 (21%)]\tLoss: 0.004082\n",
      "Train Epoch: 1 [6400/14961 (43%)]\tLoss: 0.007007\n",
      "Train Epoch: 1 [9600/14961 (64%)]\tLoss: 0.001260\n",
      "Train Epoch: 1 [12800/14961 (85%)]\tLoss: 0.039916\n",
      "\n",
      "Validation set: Average loss: 0.0186, Accuracy: 3638/3662 (99%)\n",
      "\n",
      "Train Epoch: 2 [0/14961 (0%)]\tLoss: 0.000425\n",
      "Train Epoch: 2 [3200/14961 (21%)]\tLoss: 0.023210\n",
      "Train Epoch: 2 [6400/14961 (43%)]\tLoss: 0.009691\n",
      "Train Epoch: 2 [9600/14961 (64%)]\tLoss: 0.006098\n",
      "Train Epoch: 2 [12800/14961 (85%)]\tLoss: 0.003134\n",
      "\n",
      "Validation set: Average loss: 0.0181, Accuracy: 3639/3662 (99%)\n",
      "\n",
      "Train Epoch: 3 [0/14961 (0%)]\tLoss: 0.003187\n",
      "Train Epoch: 3 [3200/14961 (21%)]\tLoss: 0.034138\n",
      "Train Epoch: 3 [6400/14961 (43%)]\tLoss: 0.001128\n",
      "Train Epoch: 3 [9600/14961 (64%)]\tLoss: 0.005278\n",
      "Train Epoch: 3 [12800/14961 (85%)]\tLoss: 0.004266\n",
      "\n",
      "Validation set: Average loss: 0.0163, Accuracy: 3643/3662 (99%)\n",
      "\n",
      "\n",
      "Test set: Average loss: 0.0005, Accuracy: 3127/3147 (99%)\n",
      "\n",
      "\n",
      "DATASET 012\n",
      "\n",
      "Le probabilità di classificazione sono: \n",
      "\n",
      "tensor([[1.0000e+00, 2.8878e-08, 2.6376e-06],\n",
      "        [1.0000e+00, 6.1212e-10, 3.1684e-08],\n",
      "        [1.3920e-04, 9.9939e-01, 4.7183e-04],\n",
      "        ...,\n",
      "        [6.5256e-05, 9.9939e-01, 5.4596e-04],\n",
      "        [8.0174e-08, 3.1073e-08, 1.0000e+00],\n",
      "        [3.3414e-07, 1.0000e+00, 1.4123e-06]], grad_fn=<ExpBackward>)\n",
      "\n",
      "\n",
      "DATASET 345\n",
      "\n",
      "Le probabilità di classificazione sono: \n",
      "\n",
      "tensor([[0.0658, 0.0071, 0.9271],\n",
      "        [0.3452, 0.0040, 0.6508],\n",
      "        [0.7783, 0.0171, 0.2045],\n",
      "        ...,\n",
      "        [0.2695, 0.0701, 0.6604],\n",
      "        [0.0019, 0.0014, 0.9967],\n",
      "        [0.0002, 0.0051, 0.9947]], grad_fn=<ExpBackward>)\n",
      "CPU times: user 10.4 s, sys: 456 ms, total: 10.8 s\n",
      "Wall time: 3.92 s\n"
     ]
    }
   ],
   "source": [
    "%%time\n",
    "epochs = 3\n",
    "\n",
    "lossv, accv = [], []\n",
    "for epoch in range(1, epochs + 1):\n",
    "    train(epoch)\n",
    "    validate(lossv, accv)\n",
    "\n",
    "test(epoch)\n",
    "\n",
    "print('\\nDATASET 012')\n",
    "predict(test_loader012NoLab)\n",
    "print('')\n",
    "print('\\nDATASET 345')\n",
    "predict(test_loader345)\n",
    "\n",
    "\n"
   ]
  },
  {
   "cell_type": "code",
   "execution_count": null,
   "metadata": {},
   "outputs": [],
   "source": []
  }
 ],
 "metadata": {
  "kernelspec": {
   "display_name": "Python 3",
   "language": "python",
   "name": "python3"
  },
  "language_info": {
   "codemirror_mode": {
    "name": "ipython",
    "version": 3
   },
   "file_extension": ".py",
   "mimetype": "text/x-python",
   "name": "python",
   "nbconvert_exporter": "python",
   "pygments_lexer": "ipython3",
   "version": "3.6.5"
  }
 },
 "nbformat": 4,
 "nbformat_minor": 2
}
