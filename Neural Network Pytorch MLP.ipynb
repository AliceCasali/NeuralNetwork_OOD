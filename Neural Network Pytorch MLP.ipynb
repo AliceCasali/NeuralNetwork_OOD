{
 "cells": [
  {
   "cell_type": "markdown",
   "metadata": {},
   "source": [
    "# Neural Network Pytorch MLP"
   ]
  },
  {
   "cell_type": "markdown",
   "metadata": {},
   "source": [
    "Vogliamo modellare un multi-layer perceptron utilizzando **Pytorch** per classificare il dataset MNIST."
   ]
  },
  {
   "cell_type": "code",
   "execution_count": 2,
   "metadata": {},
   "outputs": [
    {
     "name": "stdout",
     "output_type": "stream",
     "text": [
      "Using PyTorch version: 0.4.1.post2 CUDA: False\n"
     ]
    }
   ],
   "source": [
    "%matplotlib inline\n",
    "\n",
    "import torch\n",
    "import torch.nn as nn\n",
    "import torch.nn.functional as F\n",
    "import torch.optim as optim\n",
    "from torchvision import datasets, transforms\n",
    "from torch.autograd import Variable\n",
    "\n",
    "import numpy as np\n",
    "import matplotlib.pyplot as plt\n",
    "import seaborn as sns\n",
    "\n",
    "cuda = torch.cuda.is_available()\n",
    "print('Using PyTorch version:', torch.__version__, 'CUDA:', cuda)"
   ]
  },
  {
   "cell_type": "markdown",
   "metadata": {},
   "source": [
    "## Dati\n",
    "Vogliamo utilizzare il dataset MNIST, si può scaricare direttamente o caricarlo dai documenti."
   ]
  },
  {
   "cell_type": "code",
   "execution_count": 3,
   "metadata": {},
   "outputs": [],
   "source": [
    "batch_size = 32\n",
    "\n",
    "kwargs = {'num_workers': 1, 'pin_memory': True} if cuda else {}\n",
    "\n",
    "train_loader = torch.utils.data.DataLoader(\n",
    "    datasets.MNIST('./data', train=True, download=True,\n",
    "                   transform=transforms.Compose([\n",
    "                       transforms.ToTensor(),\n",
    "                       transforms.Normalize((0.1307,), (0.3081,))\n",
    "                   ])),\n",
    "    batch_size=batch_size, shuffle=True, **kwargs)\n",
    "\n",
    "test_loader = torch.utils.data.DataLoader(\n",
    "    datasets.MNIST('./data', train=False, transform=transforms.Compose([\n",
    "                       transforms.ToTensor(),\n",
    "                       transforms.Normalize((0.1307,), (0.3081,))\n",
    "                   ])),\n",
    "    batch_size=batch_size, shuffle=False, **kwargs)\n"
   ]
  },
  {
   "cell_type": "markdown",
   "metadata": {},
   "source": [
    "Vogliamo ora estrarre le prime tre classi in modo da fare il train solo su queste.\n",
    "\n",
    "Inoltre dividiamo il dataset così creato in train (80%) e validate (20%)"
   ]
  },
  {
   "cell_type": "code",
   "execution_count": 4,
   "metadata": {},
   "outputs": [],
   "source": [
    "split = int(np.floor(len(train_loader.dataset.train_labels))*0.8)\n",
    "\n",
    "train_l = train_loader.dataset.train_labels[0:split]\n",
    "train_d = train_loader.dataset.train_data[0:split]\n",
    "\n",
    "val_l = train_loader.dataset.train_labels[split:-1]\n",
    "val_d = train_loader.dataset.train_data[split:-1]\n",
    "\n"
   ]
  },
  {
   "cell_type": "code",
   "execution_count": 5,
   "metadata": {},
   "outputs": [
    {
     "name": "stdout",
     "output_type": "stream",
     "text": [
      "14961\n"
     ]
    }
   ],
   "source": [
    "zeros = train_d[train_l == 0]\n",
    "ones = train_d[train_l == 1]\n",
    "twos = train_d[train_l == 2]\n",
    "\n",
    "\n",
    "train_data012 = torch.cat([zeros, ones, twos])\n",
    "train_labels012 = torch.cat([torch.zeros((len(zeros),)), torch.ones((len(ones),)), 2.0*torch.ones((len(twos),))])\n",
    "\n",
    "# ADB: Qui ho notato che c'e' un problema: le immagini sono int8, ma devono essere float32.\n",
    "# Faccio la conversione e divido per 255.0 (cosi' i pixel sono fra 0.0 e 1.0).\n",
    "train_data012 = train_data012.type(torch.float32) / 255.0\n",
    "\n",
    "print(len(train_data012))"
   ]
  },
  {
   "cell_type": "code",
   "execution_count": 7,
   "metadata": {},
   "outputs": [
    {
     "name": "stdout",
     "output_type": "stream",
     "text": [
      "13868\n"
     ]
    }
   ],
   "source": [
    "threes = train_d[train_l == 3]\n",
    "fours = train_d[train_l == 4]\n",
    "fives = train_d[train_l == 5]\n",
    "\n",
    "\n",
    "train_data345 = torch.cat([threes, fours, fives])\n",
    "train_labels345 = torch.cat([3.0*torch.ones((len(threes),)), 4.0*torch.ones((len(fours),)), 5.0*torch.ones((len(fives),))])\n",
    "\n",
    "# ADB: Qui ho notato che c'e' un problema: le immagini sono int8, ma devono essere float32.\n",
    "# Faccio la conversione e divido per 255.0 (cosi' i pixel sono fra 0.0 e 1.0).\n",
    "train_data345 = train_data345.type(torch.float32) / 255.0\n",
    "\n",
    "print(len(train_data345))"
   ]
  },
  {
   "cell_type": "code",
   "execution_count": 5,
   "metadata": {},
   "outputs": [
    {
     "name": "stdout",
     "output_type": "stream",
     "text": [
      "3662\n"
     ]
    }
   ],
   "source": [
    "zeros = val_d[val_l == 0]\n",
    "ones = val_d[val_l == 1]\n",
    "twos = val_d[val_l == 2]\n",
    "\n",
    "\n",
    "val_data012 = torch.cat([zeros, ones, twos])\n",
    "val_labels012 = torch.cat([torch.zeros((len(zeros),)), torch.ones((len(ones),)), 2.0*torch.ones((len(twos),))])\n",
    "\n",
    "# ADB: Qui ho notato che c'e' un problema: le immagini sono int8, ma devono essere float32.\n",
    "# Faccio la conversione e divido per 255.0 (cosi' i pixel sono fra 0.0 e 1.0).\n",
    "val_data012 = val_data012.type(torch.float32) / 255.0\n",
    "\n",
    "print(len(val_data012))"
   ]
  },
  {
   "cell_type": "markdown",
   "metadata": {},
   "source": [
    "Adesso creiamo dei nuovi dataset per il train in modo da vedere come reagisce il classificatore con dati ID e OOD:"
   ]
  },
  {
   "cell_type": "code",
   "execution_count": 6,
   "metadata": {},
   "outputs": [
    {
     "name": "stdout",
     "output_type": "stream",
     "text": [
      "3147\n"
     ]
    }
   ],
   "source": [
    "test_l012 = test_loader.dataset.test_labels\n",
    "test_d012 = test_loader.dataset.test_data\n",
    "\n",
    "zeros = test_d012[test_l012 == 0]\n",
    "ones = test_d012[test_l012 == 1]\n",
    "twos = test_d012[test_l012 == 2]\n",
    "\n",
    "\n",
    "test_data012 = torch.cat([zeros, ones, twos])\n",
    "test_labels012 = torch.cat([torch.zeros((len(zeros),)), torch.ones((len(ones),)), 2.0*torch.ones((len(twos),))])\n",
    "\n",
    "# ADB: Qui ho notato che c'e' un problema: le immagini sono int8, ma devono essere float32.\n",
    "# Faccio la conversione e divido per 255.0 (cosi' i pixel sono fra 0.0 e 1.0).\n",
    "test_data012 = test_data012.type(torch.float32) / 255.0\n",
    "print(len(test_data012))"
   ]
  },
  {
   "cell_type": "code",
   "execution_count": 28,
   "metadata": {},
   "outputs": [
    {
     "name": "stdout",
     "output_type": "stream",
     "text": [
      "2884\n"
     ]
    }
   ],
   "source": [
    "test_l = test_loader.dataset.test_labels\n",
    "test_d = test_loader.dataset.test_data\n",
    "\n",
    "threes = test_d[test_l == 3]\n",
    "fours = test_d[test_l == 4]\n",
    "fives = test_d[test_l == 5]\n",
    "\n",
    "test_data345 = torch.cat([threes, fours, fives])\n",
    "test_labels345 = torch.cat([3.0*torch.ones((len(threes),)), 4.0*torch.ones((len(fours),)), 5.0*torch.ones((len(fives),))])\n",
    "\n",
    "# ADB: Qui ho notato che c'e' un problema: le immagini sono int8, ma devono essere float32.\n",
    "# Faccio la conversione e divido per 255.0 (cosi' i pixel sono fra 0.0 e 1.0).\n",
    "test_data345 = test_data345.type(torch.float32) / 255.0\n",
    "print(len(test_data345))"
   ]
  },
  {
   "cell_type": "markdown",
   "metadata": {},
   "source": [
    "Adesso possiamo utilizzare i nuovi dataset creati per train, validation e test."
   ]
  },
  {
   "cell_type": "code",
   "execution_count": 1,
   "metadata": {},
   "outputs": [
    {
     "ename": "NameError",
     "evalue": "name 'train_data012' is not defined",
     "output_type": "error",
     "traceback": [
      "\u001b[0;31m---------------------------------------------------------------------------\u001b[0m",
      "\u001b[0;31mNameError\u001b[0m                                 Traceback (most recent call last)",
      "\u001b[0;32m<ipython-input-1-a916389b7de6>\u001b[0m in \u001b[0;36m<module>\u001b[0;34m()\u001b[0m\n\u001b[1;32m      2\u001b[0m \u001b[0;34m\u001b[0m\u001b[0m\n\u001b[1;32m      3\u001b[0m \u001b[0;31m# Train012 80%\u001b[0m\u001b[0;34m\u001b[0m\u001b[0;34m\u001b[0m\u001b[0m\n\u001b[0;32m----> 4\u001b[0;31m \u001b[0mtrain_ds012\u001b[0m \u001b[0;34m=\u001b[0m \u001b[0mTensorDataset\u001b[0m\u001b[0;34m(\u001b[0m\u001b[0mtrain_data012\u001b[0m\u001b[0;34m,\u001b[0m \u001b[0mtrain_labels012\u001b[0m\u001b[0;34m)\u001b[0m\u001b[0;34m\u001b[0m\u001b[0m\n\u001b[0m\u001b[1;32m      5\u001b[0m \u001b[0mtrain_loader012\u001b[0m \u001b[0;34m=\u001b[0m \u001b[0mtorch\u001b[0m\u001b[0;34m.\u001b[0m\u001b[0mutils\u001b[0m\u001b[0;34m.\u001b[0m\u001b[0mdata\u001b[0m\u001b[0;34m.\u001b[0m\u001b[0mDataLoader\u001b[0m\u001b[0;34m(\u001b[0m\u001b[0mtrain_ds012\u001b[0m\u001b[0;34m,\u001b[0m \u001b[0mbatch_size\u001b[0m\u001b[0;34m=\u001b[0m\u001b[0mbatch_size\u001b[0m\u001b[0;34m,\u001b[0m \u001b[0mshuffle\u001b[0m\u001b[0;34m=\u001b[0m\u001b[0;32mTrue\u001b[0m\u001b[0;34m,\u001b[0m \u001b[0;34m**\u001b[0m\u001b[0mkwargs\u001b[0m\u001b[0;34m)\u001b[0m\u001b[0;34m\u001b[0m\u001b[0m\n\u001b[1;32m      6\u001b[0m \u001b[0;34m\u001b[0m\u001b[0m\n",
      "\u001b[0;31mNameError\u001b[0m: name 'train_data012' is not defined"
     ]
    }
   ],
   "source": [
    "from torch.utils.data import TensorDataset\n",
    "\n",
    "# Train012 80%\n",
    "train_ds012 = TensorDataset(train_data012, train_labels012)\n",
    "train_loader012 = torch.utils.data.DataLoader(train_ds012, batch_size=batch_size, shuffle=True, **kwargs)\n",
    "\n",
    "# Validation012 20%\n",
    "validation_ds012 = TensorDataset(val_data012, val_labels012)\n",
    "validation_loader012 = torch.utils.data.DataLoader(validation_ds012, batch_size=batch_size, shuffle=True, **kwargs)\n",
    "\n",
    "# Test012 all\n",
    "test_ds012 = TensorDataset(test_data012, test_labels012)\n",
    "test_loader012 = torch.utils.data.DataLoader(test_ds012, batch_size=batch_size, shuffle=True, **kwargs)\n",
    "\n",
    "######### da costruire train validation e test di 345 e riprovare esecuzione\n",
    "# Train345 80%\n",
    "train_ds345 = TensorDataset(train_data012, train_labels012)\n",
    "train_loader012 = torch.utils.data.DataLoader(train_ds012, batch_size=batch_size, shuffle=True, **kwargs)\n",
    "\n",
    "# Validation345 20%\n",
    "validation_ds012 = TensorDataset(val_data012, val_labels012)\n",
    "validation_loader012 = torch.utils.data.DataLoader(validation_ds012, batch_size=batch_size, shuffle=True, **kwargs)\n",
    "\n",
    "# Test345 all\n",
    "test_ds345 = TensorDataset(test_data345, test_labels345)\n",
    "test_loader345 = torch.utils.data.DataLoader(test_ds345, batch_size=batch_size, shuffle=True, **kwargs)"
   ]
  },
  {
   "cell_type": "markdown",
   "metadata": {},
   "source": [
    "## ADB: Osservazioni\n",
    "\n",
    "- Dati IN DISTRIBUTION per training (il train_loader012 va bene per questo). \n",
    "- Dati IN DISTRIBUTION per validation (i.e. per monitorare quanto bene classifichiamo le classi IN DISTRIBUTION). NON abbiamo questi data per la validation per ora.  \n",
    "- Dati OUT OF DISTRIBUTION (OOD) per i test finali (questo abbiamo, ma abbiamo chiamato 'validation'). Non possiamo usare questi dati nella funzione validate() sotto, per esempio, perche' non abbiamo ettichette e perche' non sono IN DISTRIBUTION. \n"
   ]
  },
  {
   "cell_type": "markdown",
   "metadata": {},
   "source": [
    "## Prove"
   ]
  },
  {
   "cell_type": "markdown",
   "metadata": {},
   "source": [
    "1) Proviamo a stampare le prime 10 immagini del train:"
   ]
  },
  {
   "cell_type": "code",
   "execution_count": 9,
   "metadata": {},
   "outputs": [
    {
     "name": "stdout",
     "output_type": "stream",
     "text": [
      "X_train: torch.Size([32, 28, 28]) type: torch.FloatTensor\n",
      "y_train: torch.Size([32]) type: torch.FloatTensor\n"
     ]
    }
   ],
   "source": [
    "# ADB: qui ho modificato perche' ora ogni batch contiene un gruppo di immagini e anche un gruppo di label.\n",
    "for (X_train, y_train) in train_loader012:\n",
    "    print('X_train:', X_train.size(), 'type:', X_train.type())\n",
    "    print('y_train:', y_train.size(), 'type:', y_train.type())\n",
    "    break"
   ]
  },
  {
   "cell_type": "code",
   "execution_count": 10,
   "metadata": {},
   "outputs": [
    {
     "data": {
      "image/png": "[encoded data removed]",
      "text/plain": [
       "<Figure size 720x72 with 10 Axes>"
      ]
     },
     "metadata": {},
     "output_type": "display_data"
    }
   ],
   "source": [
    "pltsize=1\n",
    "plt.figure(figsize=(10*pltsize, pltsize))\n",
    "\n",
    "for i in range(10):\n",
    "    plt.subplot(1,10,i+1)\n",
    "    plt.axis('off')\n",
    "    plt.imshow(X_train[i, :, :].numpy().reshape(28,28), cmap=\"gray\")"
   ]
  },
  {
   "cell_type": "markdown",
   "metadata": {},
   "source": [
    "2) Proviamo a stampare le prime 10 immagini del validation:"
   ]
  },
  {
   "cell_type": "code",
   "execution_count": 11,
   "metadata": {},
   "outputs": [
    {
     "name": "stdout",
     "output_type": "stream",
     "text": [
      "V_train: torch.Size([32, 28, 28]) type: torch.FloatTensor\n",
      "y_train: torch.Size([32]) type: torch.FloatTensor\n"
     ]
    }
   ],
   "source": [
    "for (V_train, y_train) in validation_loader012:\n",
    "    print('V_train:', V_train.size(), 'type:', V_train.type())\n",
    "    print('y_train:', y_train.size(), 'type:', y_train.type())\n",
    "    break"
   ]
  },
  {
   "cell_type": "code",
   "execution_count": 12,
   "metadata": {},
   "outputs": [
    {
     "data": {
      "image/png": "[encoded data removed]",
      "text/plain": [
       "<Figure size 720x72 with 10 Axes>"
      ]
     },
     "metadata": {},
     "output_type": "display_data"
    }
   ],
   "source": [
    "pltsize=1\n",
    "plt.figure(figsize=(10*pltsize, pltsize))\n",
    "\n",
    "for i in range(10):\n",
    "    plt.subplot(1,10,i+1)\n",
    "    plt.axis('off')\n",
    "    plt.imshow(V_train[i, :, :].numpy().reshape(28,28), cmap=\"gray\")"
   ]
  },
  {
   "cell_type": "markdown",
   "metadata": {},
   "source": [
    "3) Proviamo a stampare le prime 10 immagini del test:"
   ]
  },
  {
   "cell_type": "code",
   "execution_count": 13,
   "metadata": {},
   "outputs": [
    {
     "name": "stdout",
     "output_type": "stream",
     "text": [
      "T_train: torch.Size([32, 28, 28]) type: torch.FloatTensor\n",
      "y_train: torch.Size([32]) type: torch.FloatTensor\n"
     ]
    }
   ],
   "source": [
    "for (T_train, y_train) in test_loader012:\n",
    "    print('T_train:', T_train.size(), 'type:', T_train.type())\n",
    "    print('y_train:', y_train.size(), 'type:', y_train.type())\n",
    "    break"
   ]
  },
  {
   "cell_type": "code",
   "execution_count": 14,
   "metadata": {},
   "outputs": [
    {
     "data": {
      "image/png": "[encoded data removed]",
      "text/plain": [
       "<Figure size 720x72 with 10 Axes>"
      ]
     },
     "metadata": {},
     "output_type": "display_data"
    }
   ],
   "source": [
    "pltsize=1\n",
    "plt.figure(figsize=(10*pltsize, pltsize))\n",
    "\n",
    "for i in range(10):\n",
    "    plt.subplot(1,10,i+1)\n",
    "    plt.axis('off')\n",
    "    plt.imshow(V_train[i, :, :].numpy().reshape(28,28), cmap=\"gray\")"
   ]
  },
  {
   "cell_type": "code",
   "execution_count": 15,
   "metadata": {},
   "outputs": [
    {
     "name": "stdout",
     "output_type": "stream",
     "text": [
      "Y_train: torch.Size([32, 28, 28]) type: torch.FloatTensor\n"
     ]
    }
   ],
   "source": [
    "for Y_train in test_loader345:\n",
    "    print('Y_train:', Y_train.size(), 'type:', Y_train.type())\n",
    "    break"
   ]
  },
  {
   "cell_type": "code",
   "execution_count": 16,
   "metadata": {},
   "outputs": [
    {
     "data": {
      "image/png": "[encoded data removed]",
      "text/plain": [
       "<Figure size 720x72 with 10 Axes>"
      ]
     },
     "metadata": {},
     "output_type": "display_data"
    }
   ],
   "source": [
    "pltsize=1\n",
    "plt.figure(figsize=(10*pltsize, pltsize))\n",
    "\n",
    "for i in range(10):\n",
    "    plt.subplot(1,10,i+1)\n",
    "    plt.axis('off')\n",
    "    plt.imshow(Y_train[i, :, :].numpy().reshape(28,28), cmap=\"gray\")"
   ]
  },
  {
   "cell_type": "markdown",
   "metadata": {},
   "source": [
    "## Multi-layer Perceptron\n",
    "Definiamo ora la rete neurale come una Python class."
   ]
  },
  {
   "cell_type": "code",
   "execution_count": 17,
   "metadata": {},
   "outputs": [
    {
     "name": "stdout",
     "output_type": "stream",
     "text": [
      "Net(\n",
      "  (fc1): Linear(in_features=784, out_features=128, bias=True)\n",
      "  (fc1_drop): Dropout(p=0.2)\n",
      "  (fc2): Linear(in_features=128, out_features=128, bias=True)\n",
      "  (fc2_drop): Dropout(p=0.2)\n",
      "  (fc3): Linear(in_features=128, out_features=3, bias=True)\n",
      ")\n"
     ]
    }
   ],
   "source": [
    "class Net(nn.Module):\n",
    "    def __init__(self):\n",
    "        super(Net, self).__init__()\n",
    "        self.fc1 = nn.Linear(28*28, 128)\n",
    "        self.fc1_drop = nn.Dropout(0.2)\n",
    "        self.fc2 = nn.Linear(128, 128)\n",
    "        self.fc2_drop = nn.Dropout(0.2)\n",
    "        self.fc3 = nn.Linear(128, 3)     # Numero di output 3.\n",
    "\n",
    "    def forward(self, x):\n",
    "        x = x.view(-1, 28*28)\n",
    "        x = F.relu(self.fc1(x))\n",
    "        x = self.fc1_drop(x)\n",
    "        x = F.relu(self.fc2(x))\n",
    "        x = self.fc2_drop(x)\n",
    "        return F.log_softmax(self.fc3(x), 1)\n",
    "\n",
    "model = Net()\n",
    "if cuda:\n",
    "    model.cuda()\n",
    "    \n",
    "optimizer = optim.SGD(model.parameters(), lr=0.01, momentum=0.5)\n",
    "\n",
    "print(model)\n"
   ]
  },
  {
   "cell_type": "markdown",
   "metadata": {},
   "source": [
    "Definiamo le funzioni di **train** e **test**"
   ]
  },
  {
   "cell_type": "code",
   "execution_count": 72,
   "metadata": {},
   "outputs": [],
   "source": [
    "#----con l'entropia\n",
    "#import torch.optim as optim\n",
    "#criterion = nn.CrossEntropyLoss()\n",
    "\n",
    "def train(epoch, log_interval, loader):\n",
    "    model.train()\n",
    "    batch_idx = 0\n",
    "    while(batch_idx != len(loader)):\n",
    "        for (data, target) in loader:\n",
    "            target = target.type(torch.long)\n",
    "            if cuda:\n",
    "                data, target = data.cuda(), target.cuda()\n",
    "            data, target = Variable(data), Variable(target)\n",
    "            optimizer.zero_grad()\n",
    "            output = model(data)\n",
    "            loss = F.nll_loss(output, target)\n",
    "            #loss = criterion(output, target)\n",
    "            loss.backward()\n",
    "            optimizer.step()\n",
    "            if batch_idx % log_interval == 0:\n",
    "                print('Train Epoch: {} [{}/{} ({:.0f}%)]\\tLoss: {:.6f}'.format(\n",
    "                    epoch, batch_idx * len(data), len(loader.dataset),\n",
    "                    100. * batch_idx / len(loader), loss.item()))\n",
    "            batch_idx = batch_idx + 1"
   ]
  },
  {
   "cell_type": "code",
   "execution_count": 73,
   "metadata": {},
   "outputs": [],
   "source": [
    "def validate(loss_vector, accuracy_vector, loader):\n",
    "    model.eval()\n",
    "    val_loss, correct = 0, 0\n",
    "    for data, target in loader:\n",
    "        target = target.type(torch.long)\n",
    "        if cuda:\n",
    "            data, target = data.cuda(), target.cuda()\n",
    "        data, target = Variable(data), Variable(target)\n",
    "        output = model(data)\n",
    "        val_loss += F.nll_loss(output, target).item()\n",
    "        pred = output.data.max(1)[1] # get the index of the max log-probability\n",
    "        correct += pred.eq(target.data).cpu().sum()\n",
    "\n",
    "    val_loss /= len(loader)\n",
    "    loss_vector.append(val_loss)\n",
    "\n",
    "    accuracy = 100. * correct / len(loader.dataset)\n",
    "    accuracy_vector.append(accuracy)\n",
    "    \n",
    "    print('\\nValidation set: Average loss: {:.4f}, Accuracy: {}/{} ({:.0f}%)\\n'.format(\n",
    "        val_loss, correct, len(loader.dataset), accuracy))"
   ]
  },
  {
   "cell_type": "code",
   "execution_count": 74,
   "metadata": {},
   "outputs": [],
   "source": [
    "def test(epoch, loader):\n",
    "    model.eval ()\n",
    "    test_loss = 0\n",
    "    correct = 0\n",
    "    preds_list = []\n",
    "    for data, target in loader:\n",
    "        target = target.type(torch.long)\n",
    "        if cuda:\n",
    "            data, target = data.cuda(), target.cuda()\n",
    "        data = Variable(data)\n",
    "        target = Variable(target)\n",
    "        output = model(data)\n",
    "        preds_list.append(output)\n",
    "        test_loss += F.nll_loss (output, target).item ()  # sum up batch loss\n",
    "        pred = output.max (1, keepdim=True)[1]  # get the index of the max log-probability\n",
    "        correct += pred.eq (target.view_as (pred)).sum ().item ()\n",
    "    new_predict(preds_list)\n",
    "    test_loss /= len (loader.dataset)\n",
    "    print ('\\nTest set: Average loss: {:.4f}, Accuracy: {}/{} ({:.0f}%)\\n'.format (\n",
    "        test_loss, correct, len (loader.dataset),\n",
    "        100. * correct / len (loader.dataset)))"
   ]
  },
  {
   "cell_type": "code",
   "execution_count": 75,
   "metadata": {},
   "outputs": [],
   "source": [
    "###### rifaccio funzione predict che prende gli output di test li mette in numpy come matrice\n",
    "def new_predict(preds_list):\n",
    "    preds_list = torch.cat(preds_list)\n",
    "    preds_list = torch.exp(preds_list)\n",
    "    preds_list = preds_list.detach()\n",
    "    preds_list = preds_list.numpy()\n",
    "    preds_list = np.matrix(preds_list)\n",
    "    print('\\nLe probabilità di classificazione sono: ')\n",
    "    print(preds_list)\n",
    "    print('')\n",
    "    idness = np.max(preds_list, 1)\n",
    "    print ('\\nLa max probabilità è: ')\n",
    "    print(idness)\n",
    "    return idness"
   ]
  },
  {
   "cell_type": "code",
   "execution_count": 76,
   "metadata": {},
   "outputs": [],
   "source": [
    "def predict(data_loader):\n",
    "    preds = []\n",
    "    for data in data_loader :\n",
    "        data = Variable(data)\n",
    "        preds.append(model(data))\n",
    "        output = model(data)\n",
    "    preds = torch.cat(preds)\n",
    "    preds = torch.exp(preds)\n",
    "    preds = preds.detach()\n",
    "    preds = preds.numpy()\n",
    "    preds = np.matrix(preds)\n",
    "    print('\\nLe probabilità di classificazione sono: ')\n",
    "    print('')\n",
    "    print(preds)\n",
    "    idness = np.max(preds, 1)\n",
    "    print ('\\nLa max probabilità è: ')\n",
    "    print(idness)\n",
    "    return idness"
   ]
  },
  {
   "cell_type": "markdown",
   "metadata": {},
   "source": [
    "Possiamo adesso addestrare il nostro modello, ogni epoca passa attraverso tutto il dataset del train. Dopo ogni epoca valutiamo il modello attraverso il test(). L'obiettivo è verificare che il modello riconosce come 0, 1, 2 anche le immagini di 3, 4, 5 quindi la classificazione è **out of distribution**"
   ]
  },
  {
   "cell_type": "code",
   "execution_count": 77,
   "metadata": {
    "scrolled": true
   },
   "outputs": [
    {
     "name": "stdout",
     "output_type": "stream",
     "text": [
      "\n",
      "DATASET 012\n",
      "Train Epoch: 1 [0/3147 (0%)]\tLoss: 0.003035\n",
      "\n",
      "Validation set: Average loss: 0.0161, Accuracy: 3133/3147 (99%)\n",
      "\n",
      "Train Epoch: 2 [0/3147 (0%)]\tLoss: 0.012765\n",
      "\n",
      "Validation set: Average loss: 0.0161, Accuracy: 3133/3147 (99%)\n",
      "\n",
      "Train Epoch: 3 [0/3147 (0%)]\tLoss: 0.021734\n",
      "\n",
      "Validation set: Average loss: 0.0141, Accuracy: 3135/3147 (99%)\n",
      "\n",
      "\n",
      "Le probabilità di classificazione sono: \n",
      "[[3.5914472e-05 5.9070313e-05 9.9990511e-01]\n",
      " [5.2671297e-03 2.8159782e-02 9.6657294e-01]\n",
      " [9.9999332e-01 1.1490399e-09 6.6943953e-06]\n",
      " ...\n",
      " [9.9996662e-01 4.7087457e-07 3.3139710e-05]\n",
      " [1.3966823e-06 9.9996805e-01 3.0562678e-05]\n",
      " [1.0626686e-04 7.7771561e-05 9.9981594e-01]]\n",
      "\n",
      "\n",
      "La max probabilità è: \n",
      "[[0.9999051 ]\n",
      " [0.96657294]\n",
      " [0.9999933 ]\n",
      " ...\n",
      " [0.9999666 ]\n",
      " [0.99996805]\n",
      " [0.99981594]]\n",
      "\n",
      "Test set: Average loss: 0.0005, Accuracy: 3135/3147 (100%)\n",
      "\n",
      "\n",
      "DATASET 345\n"
     ]
    },
    {
     "ename": "RuntimeError",
     "evalue": "Assertion `cur_target >= 0 && cur_target < n_classes' failed.  at /opt/conda/conda-bld/pytorch_1535491974311/work/aten/src/THNN/generic/ClassNLLCriterion.c:93",
     "output_type": "error",
     "traceback": [
      "\u001b[0;31m---------------------------------------------------------------------------\u001b[0m",
      "\u001b[0;31mRuntimeError\u001b[0m                              Traceback (most recent call last)",
      "\u001b[0;32m<timed exec>\u001b[0m in \u001b[0;36m<module>\u001b[0;34m()\u001b[0m\n",
      "\u001b[0;32m<ipython-input-72-4323e712fe0e>\u001b[0m in \u001b[0;36mtrain\u001b[0;34m(epoch, log_interval, loader)\u001b[0m\n\u001b[1;32m     14\u001b[0m             \u001b[0moptimizer\u001b[0m\u001b[0;34m.\u001b[0m\u001b[0mzero_grad\u001b[0m\u001b[0;34m(\u001b[0m\u001b[0;34m)\u001b[0m\u001b[0;34m\u001b[0m\u001b[0m\n\u001b[1;32m     15\u001b[0m             \u001b[0moutput\u001b[0m \u001b[0;34m=\u001b[0m \u001b[0mmodel\u001b[0m\u001b[0;34m(\u001b[0m\u001b[0mdata\u001b[0m\u001b[0;34m)\u001b[0m\u001b[0;34m\u001b[0m\u001b[0m\n\u001b[0;32m---> 16\u001b[0;31m             \u001b[0mloss\u001b[0m \u001b[0;34m=\u001b[0m \u001b[0mF\u001b[0m\u001b[0;34m.\u001b[0m\u001b[0mnll_loss\u001b[0m\u001b[0;34m(\u001b[0m\u001b[0moutput\u001b[0m\u001b[0;34m,\u001b[0m \u001b[0mtarget\u001b[0m\u001b[0;34m)\u001b[0m\u001b[0;34m\u001b[0m\u001b[0m\n\u001b[0m\u001b[1;32m     17\u001b[0m             \u001b[0;31m#loss = criterion(output, target)\u001b[0m\u001b[0;34m\u001b[0m\u001b[0;34m\u001b[0m\u001b[0m\n\u001b[1;32m     18\u001b[0m             \u001b[0mloss\u001b[0m\u001b[0;34m.\u001b[0m\u001b[0mbackward\u001b[0m\u001b[0;34m(\u001b[0m\u001b[0;34m)\u001b[0m\u001b[0;34m\u001b[0m\u001b[0m\n",
      "\u001b[0;32m~/anaconda3/lib/python3.6/site-packages/torch/nn/functional.py\u001b[0m in \u001b[0;36mnll_loss\u001b[0;34m(input, target, weight, size_average, ignore_index, reduce, reduction)\u001b[0m\n\u001b[1;32m   1405\u001b[0m                          .format(input.size(0), target.size(0)))\n\u001b[1;32m   1406\u001b[0m     \u001b[0;32mif\u001b[0m \u001b[0mdim\u001b[0m \u001b[0;34m==\u001b[0m \u001b[0;36m2\u001b[0m\u001b[0;34m:\u001b[0m\u001b[0;34m\u001b[0m\u001b[0m\n\u001b[0;32m-> 1407\u001b[0;31m         \u001b[0;32mreturn\u001b[0m \u001b[0mtorch\u001b[0m\u001b[0;34m.\u001b[0m\u001b[0m_C\u001b[0m\u001b[0;34m.\u001b[0m\u001b[0m_nn\u001b[0m\u001b[0;34m.\u001b[0m\u001b[0mnll_loss\u001b[0m\u001b[0;34m(\u001b[0m\u001b[0minput\u001b[0m\u001b[0;34m,\u001b[0m \u001b[0mtarget\u001b[0m\u001b[0;34m,\u001b[0m \u001b[0mweight\u001b[0m\u001b[0;34m,\u001b[0m \u001b[0m_Reduction\u001b[0m\u001b[0;34m.\u001b[0m\u001b[0mget_enum\u001b[0m\u001b[0;34m(\u001b[0m\u001b[0mreduction\u001b[0m\u001b[0;34m)\u001b[0m\u001b[0;34m,\u001b[0m \u001b[0mignore_index\u001b[0m\u001b[0;34m)\u001b[0m\u001b[0;34m\u001b[0m\u001b[0m\n\u001b[0m\u001b[1;32m   1408\u001b[0m     \u001b[0;32melif\u001b[0m \u001b[0mdim\u001b[0m \u001b[0;34m==\u001b[0m \u001b[0;36m4\u001b[0m\u001b[0;34m:\u001b[0m\u001b[0;34m\u001b[0m\u001b[0m\n\u001b[1;32m   1409\u001b[0m         \u001b[0;32mreturn\u001b[0m \u001b[0mtorch\u001b[0m\u001b[0;34m.\u001b[0m\u001b[0m_C\u001b[0m\u001b[0;34m.\u001b[0m\u001b[0m_nn\u001b[0m\u001b[0;34m.\u001b[0m\u001b[0mnll_loss2d\u001b[0m\u001b[0;34m(\u001b[0m\u001b[0minput\u001b[0m\u001b[0;34m,\u001b[0m \u001b[0mtarget\u001b[0m\u001b[0;34m,\u001b[0m \u001b[0mweight\u001b[0m\u001b[0;34m,\u001b[0m \u001b[0m_Reduction\u001b[0m\u001b[0;34m.\u001b[0m\u001b[0mget_enum\u001b[0m\u001b[0;34m(\u001b[0m\u001b[0mreduction\u001b[0m\u001b[0;34m)\u001b[0m\u001b[0;34m,\u001b[0m \u001b[0mignore_index\u001b[0m\u001b[0;34m)\u001b[0m\u001b[0;34m\u001b[0m\u001b[0m\n",
      "\u001b[0;31mRuntimeError\u001b[0m: Assertion `cur_target >= 0 && cur_target < n_classes' failed.  at /opt/conda/conda-bld/pytorch_1535491974311/work/aten/src/THNN/generic/ClassNLLCriterion.c:93"
     ]
    }
   ],
   "source": [
    "%%time\n",
    "\n",
    "from sklearn.metrics import average_precision_score\n",
    "\n",
    "epochs = 3\n",
    "\n",
    "\n",
    "print('\\nDATASET 012')\n",
    "lossv, accv = [], []\n",
    "for epoch in range(1, epochs + 1):\n",
    "    train(epoch, 100, train_loader012)\n",
    "    validate(lossv, accv, test_loader012)\n",
    "\n",
    "#test_loader012\n",
    "test(epoch, test_loader012)\n",
    "\n",
    "\n",
    "print('\\nDATASET 345')\n",
    "for epoch in range(1, epochs + 1):\n",
    "    train(epoch, 100, test_loader345)\n",
    "    validate(lossv, accv, test_loader345)\n",
    "\n",
    "#test_loader345\n",
    "test(epoch, test_loader345)\n",
    "\n",
    "\n",
    "#average_precision_score(predict(test_loader012NoLab), test(epoch, test_loader012))\n",
    "\n",
    "\n"
   ]
  },
  {
   "cell_type": "code",
   "execution_count": null,
   "metadata": {},
   "outputs": [],
   "source": []
  }
 ],
 "metadata": {
  "kernelspec": {
   "display_name": "Python 3",
   "language": "python",
   "name": "python3"
  },
  "language_info": {
   "codemirror_mode": {
    "name": "ipython",
    "version": 3
   },
   "file_extension": ".py",
   "mimetype": "text/x-python",
   "name": "python",
   "nbconvert_exporter": "python",
   "pygments_lexer": "ipython3",
   "version": "3.6.5"
  }
 },
 "nbformat": 4,
 "nbformat_minor": 2
}
