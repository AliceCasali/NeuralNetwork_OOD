{
 "cells": [
  {
   "cell_type": "markdown",
   "metadata": {},
   "source": [
    "# MLP MNIST"
   ]
  },
  {
   "cell_type": "markdown",
   "metadata": {},
   "source": [
    "Vogliamo modellare un multi-layer perceptron utilizzando **Pytorch** per classificare il dataset MNIST."
   ]
  },
  {
   "cell_type": "code",
   "execution_count": 144,
   "metadata": {},
   "outputs": [
    {
     "name": "stdout",
     "output_type": "stream",
     "text": [
      "Using PyTorch version: 0.4.1.post2 CUDA: False\n"
     ]
    }
   ],
   "source": [
    "%matplotlib inline\n",
    "\n",
    "import torch\n",
    "import torch.nn as nn\n",
    "import torch.nn.functional as F\n",
    "import torch.optim as optim\n",
    "from torchvision import datasets, transforms\n",
    "from torch.autograd import Variable\n",
    "\n",
    "import numpy as np\n",
    "import matplotlib.pyplot as plt\n",
    "import seaborn as sns\n",
    "\n",
    "from torch.utils.data import TensorDataset\n",
    "\n",
    "from sklearn.metrics import average_precision_score\n",
    "from sklearn.metrics import precision_recall_curve\n",
    "import matplotlib.pyplot as plt\n",
    "from sklearn.utils.fixes import signature\n",
    "\n",
    "from scipy.special import entr\n",
    "\n",
    "cuda = torch.cuda.is_available()\n",
    "print('Using PyTorch version:', torch.__version__, 'CUDA:', cuda)"
   ]
  },
  {
   "cell_type": "markdown",
   "metadata": {},
   "source": [
    "## Dati\n",
    "Vogliamo utilizzare il dataset MNIST, si può scaricare direttamente o caricarlo dai documenti."
   ]
  },
  {
   "cell_type": "code",
   "execution_count": 145,
   "metadata": {},
   "outputs": [
    {
     "name": "stdout",
     "output_type": "stream",
     "text": [
      "il tipo è <built-in method type of Tensor object at 0x7fd1710e2dc8>\n"
     ]
    }
   ],
   "source": [
    "batch_size = 32\n",
    "\n",
    "kwargs = {'num_workers': 1, 'pin_memory': True} if cuda else {}\n",
    "\n",
    "train_loader = torch.utils.data.DataLoader(\n",
    "    datasets.MNIST('./data', train=True, download=True,\n",
    "                   transform=transforms.Compose([\n",
    "                       transforms.ToTensor(),\n",
    "                       transforms.Normalize((0.1307,), (0.3081,))\n",
    "                   ])),\n",
    "    batch_size=batch_size, shuffle=True, **kwargs)\n",
    "\n",
    "test_loader = torch.utils.data.DataLoader(\n",
    "    datasets.MNIST('./data', train=False, transform=transforms.Compose([\n",
    "                       transforms.ToTensor(),\n",
    "                       transforms.Normalize((0.1307,), (0.3081,))\n",
    "                   ])),\n",
    "    batch_size=batch_size, shuffle=False, **kwargs)\n",
    "\n",
    "\n",
    "train_new = train_loader.dataset.train_labels\n",
    "print('il tipo è', train_new.type)"
   ]
  },
  {
   "cell_type": "markdown",
   "metadata": {},
   "source": [
    "Vogliamo ora estrarre le prime tre classi in modo da fare il train solo su queste.\n",
    "\n",
    "Inoltre dividiamo il dataset così creato in train (80%) e validate (20%)"
   ]
  },
  {
   "cell_type": "code",
   "execution_count": 146,
   "metadata": {},
   "outputs": [],
   "source": [
    "split = int(np.floor(len(train_loader.dataset.train_labels))*0.8)\n",
    "\n",
    "train_l = train_loader.dataset.train_labels[0:split]\n",
    "train_d = train_loader.dataset.train_data[0:split]\n",
    "\n",
    "val_l = train_loader.dataset.train_labels[split:-1]\n",
    "val_d = train_loader.dataset.train_data[split:-1]\n"
   ]
  },
  {
   "cell_type": "code",
   "execution_count": 147,
   "metadata": {},
   "outputs": [
    {
     "name": "stdout",
     "output_type": "stream",
     "text": [
      "33577 33577\n"
     ]
    }
   ],
   "source": [
    "zeros = train_d[train_l == 0]\n",
    "ones = train_d[train_l == 1]\n",
    "twos = train_d[train_l == 2]\n",
    "threes = train_d[train_l == 3]\n",
    "fours = train_d[train_l == 4]\n",
    "fives = train_d[train_l == 5]\n",
    "sixs = train_d[train_l == 6]\n",
    "\n",
    "train_data012 = torch.cat([zeros, ones, twos, threes, fours, fives, sixs])\n",
    "train_labels012 = torch.cat([torch.zeros((len(zeros),)), torch.ones((len(ones),)),\n",
    "                             2.0*torch.ones((len(twos),)), 3.0*torch.ones((len(threes),)),\n",
    "                             4.0*torch.ones((len(fours),)), 5.0*torch.ones((len(fives),)), 6.0*torch.ones((len(sixs),))])\n",
    "\n",
    "# ADB: Qui ho notato che c'e' un problema: le immagini sono int8, ma devono essere float32.\n",
    "# Faccio la conversione e divido per 255.0 (cosi' i pixel sono fra 0.0 e 1.0).\n",
    "train_data012 = train_data012.type(torch.float32) / 255.0\n",
    "print(len(train_data012), len(train_labels012))"
   ]
  },
  {
   "cell_type": "code",
   "execution_count": 148,
   "metadata": {},
   "outputs": [
    {
     "name": "stdout",
     "output_type": "stream",
     "text": [
      "8358 8358\n"
     ]
    }
   ],
   "source": [
    "zeros = val_d[val_l == 0]\n",
    "ones = val_d[val_l == 1]\n",
    "twos = val_d[val_l == 2]\n",
    "threes = val_d[val_l == 3]\n",
    "fours = val_d[val_l == 4]\n",
    "fives = val_d[val_l == 5]\n",
    "sixs = val_d[val_l == 6]\n",
    "\n",
    "val_data012 = torch.cat([zeros, ones, twos, threes, fours, fives, sixs])\n",
    "val_labels012 = torch.cat([torch.zeros((len(zeros),)), torch.ones((len(ones),)),\n",
    "                             2.0*torch.ones((len(twos),)), 3.0*torch.ones((len(threes),)),\n",
    "                             4.0*torch.ones((len(fours),)), 5.0*torch.ones((len(fives),)), 6.0*torch.ones((len(sixs),))])\n",
    "\n",
    "# ADB: Qui ho notato che c'e' un problema: le immagini sono int8, ma devono essere float32.\n",
    "# Faccio la conversione e divido per 255.0 (cosi' i pixel sono fra 0.0 e 1.0).\n",
    "val_data012 = val_data012.type(torch.float32) / 255.0\n",
    "print(len(val_data012), len(val_labels012))"
   ]
  },
  {
   "cell_type": "markdown",
   "metadata": {},
   "source": [
    "Adesso creiamo dei nuovi dataset per il train in modo da vedere come reagisce il classificatore con dati ID e OOD:"
   ]
  },
  {
   "cell_type": "code",
   "execution_count": 149,
   "metadata": {},
   "outputs": [
    {
     "name": "stdout",
     "output_type": "stream",
     "text": [
      "6989 6989\n"
     ]
    }
   ],
   "source": [
    "test_l012 = test_loader.dataset.test_labels\n",
    "test_d012 = test_loader.dataset.test_data\n",
    "\n",
    "zeros = test_d012[test_l012 == 0]\n",
    "ones = test_d012[test_l012 == 1]\n",
    "twos = test_d012[test_l012 == 2]\n",
    "threes = test_d012[test_l012 == 3]\n",
    "fours = test_d012[test_l012 == 4]\n",
    "fives = test_d012[test_l012 == 5]\n",
    "sixs = test_d012[test_l012 == 6]\n",
    "\n",
    "test_data012 = torch.cat([zeros, ones, twos, threes, fours, fives, sixs])\n",
    "test_labels012 = torch.cat([torch.zeros((len(zeros),)), torch.ones((len(ones),)),\n",
    "                             2.0*torch.ones((len(twos),)), 3.0*torch.ones((len(threes),)),\n",
    "                             4.0*torch.ones((len(fours),)), 5.0*torch.ones((len(fives),)), 6.0*torch.ones((len(sixs),))])\n",
    "\n",
    "test_data012 = test_data012.type(torch.float32) / 255.0\n",
    "print(len(test_data012), len(test_labels012))"
   ]
  },
  {
   "cell_type": "code",
   "execution_count": 150,
   "metadata": {},
   "outputs": [
    {
     "name": "stdout",
     "output_type": "stream",
     "text": [
      "3011 3011\n"
     ]
    }
   ],
   "source": [
    "test_l = test_loader.dataset.test_labels\n",
    "test_d = test_loader.dataset.test_data\n",
    "\n",
    "sevens = test_d[test_l == 7]\n",
    "eights = test_d[test_l == 8]\n",
    "nines = test_d[test_l == 9]\n",
    "\n",
    "test_data345 = torch.cat([sevens, eights, nines])\n",
    "test_labels345 = torch.cat([torch.zeros((len(sevens),)), torch.ones((len(eights),)), 2.0*torch.ones((len(nines),))])\n",
    "#test_labels345 = torch.cat([3.0*torch.ones((len(threes),)), 4.0*torch.ones((len(fours),)), 5.0*torch.ones((len(fives),))])\n",
    "\n",
    "# ADB: Qui ho notato che c'e' un problema: le immagini sono int8, ma devono essere float32.\n",
    "# Faccio la conversione e divido per 255.0 (cosi' i pixel sono fra 0.0 e 1.0).\n",
    "test_data345 = test_data345.type(torch.float32) / 255.0\n",
    "print(len(test_data345),len(test_labels345))"
   ]
  },
  {
   "cell_type": "markdown",
   "metadata": {},
   "source": [
    "Adesso possiamo utilizzare i nuovi dataset creati per train, validation e test."
   ]
  },
  {
   "cell_type": "code",
   "execution_count": 151,
   "metadata": {},
   "outputs": [
    {
     "name": "stdout",
     "output_type": "stream",
     "text": [
      "1050\n",
      "262\n",
      "219\n",
      "95\n"
     ]
    }
   ],
   "source": [
    "# Train012 80%\n",
    "train_ds012 = TensorDataset(train_data012, train_labels012)\n",
    "train_loader012 = torch.utils.data.DataLoader(train_ds012, batch_size=batch_size, shuffle=True, **kwargs)\n",
    "print(len(train_loader012))\n",
    "\n",
    "# Validation012 20%\n",
    "validation_ds012 = TensorDataset(val_data012, val_labels012)\n",
    "validation_loader012 = torch.utils.data.DataLoader(validation_ds012, batch_size=batch_size, shuffle=True, **kwargs)\n",
    "print(len(validation_loader012))\n",
    "\n",
    "# Test012 all\n",
    "test_ds012 = TensorDataset(test_data012, test_labels012)\n",
    "test_loader012 = torch.utils.data.DataLoader(test_ds012, batch_size=batch_size, shuffle=True, **kwargs)\n",
    "print(len(test_loader012))\n",
    "\n",
    "# Test345 all\n",
    "test_ds345 = TensorDataset(test_data345, test_labels345)\n",
    "test_loader345 = torch.utils.data.DataLoader(test_ds345, batch_size=batch_size, shuffle=True, **kwargs)\n",
    "print(len(test_loader345))\n"
   ]
  },
  {
   "cell_type": "markdown",
   "metadata": {},
   "source": [
    "## ADB: Osservazioni\n",
    "\n",
    "- Dati IN DISTRIBUTION per training (il train_loader012 va bene per questo). \n",
    "- Dati IN DISTRIBUTION per validation (i.e. per monitorare quanto bene classifichiamo le classi IN DISTRIBUTION). NON abbiamo questi data per la validation per ora.  \n",
    "- Dati OUT OF DISTRIBUTION (OOD) per i test finali (questo abbiamo, ma abbiamo chiamato 'validation'). Non possiamo usare questi dati nella funzione validate() sotto, per esempio, perche' non abbiamo ettichette e perche' non sono IN DISTRIBUTION. \n"
   ]
  },
  {
   "cell_type": "markdown",
   "metadata": {},
   "source": [
    "## Prove"
   ]
  },
  {
   "cell_type": "markdown",
   "metadata": {},
   "source": [
    "1) Proviamo a stampare le prime 10 immagini del train:"
   ]
  },
  {
   "cell_type": "code",
   "execution_count": 152,
   "metadata": {},
   "outputs": [
    {
     "name": "stdout",
     "output_type": "stream",
     "text": [
      "X_train: torch.Size([32, 28, 28]) type: torch.FloatTensor\n",
      "y_train: torch.Size([32]) type: torch.FloatTensor\n"
     ]
    }
   ],
   "source": [
    "# ADB: qui ho modificato perche' ora ogni batch contiene un gruppo di immagini e anche un gruppo di label.\n",
    "for (X_train, y_train) in train_loader012:\n",
    "    print('X_train:', X_train.size(), 'type:', X_train.type())\n",
    "    print('y_train:', y_train.size(), 'type:', y_train.type())\n",
    "    break"
   ]
  },
  {
   "cell_type": "code",
   "execution_count": 153,
   "metadata": {},
   "outputs": [
    {
     "data": {
      "image/png": "[encoded data removed]",
      "text/plain": [
       "<Figure size 720x72 with 10 Axes>"
      ]
     },
     "metadata": {},
     "output_type": "display_data"
    }
   ],
   "source": [
    "pltsize=1\n",
    "plt.figure(figsize=(10*pltsize, pltsize))\n",
    "\n",
    "for i in range(10):\n",
    "    plt.subplot(1,10,i+1)\n",
    "    plt.axis('off')\n",
    "    plt.imshow(X_train[i, :, :].numpy().reshape(28,28), cmap=\"gray\")"
   ]
  },
  {
   "cell_type": "markdown",
   "metadata": {},
   "source": [
    "2) Proviamo a stampare le prime 10 immagini del validation:"
   ]
  },
  {
   "cell_type": "code",
   "execution_count": 154,
   "metadata": {},
   "outputs": [
    {
     "name": "stdout",
     "output_type": "stream",
     "text": [
      "V_train: torch.Size([32, 28, 28]) type: torch.FloatTensor\n",
      "y_train: torch.Size([32]) type: torch.FloatTensor\n"
     ]
    }
   ],
   "source": [
    "for (V_train, y_train) in validation_loader012:\n",
    "    print('V_train:', V_train.size(), 'type:', V_train.type())\n",
    "    print('y_train:', y_train.size(), 'type:', y_train.type())\n",
    "    break"
   ]
  },
  {
   "cell_type": "code",
   "execution_count": 155,
   "metadata": {},
   "outputs": [
    {
     "data": {
      "image/png": "[encoded data removed]",
      "text/plain": [
       "<Figure size 720x72 with 10 Axes>"
      ]
     },
     "metadata": {},
     "output_type": "display_data"
    }
   ],
   "source": [
    "pltsize=1\n",
    "plt.figure(figsize=(10*pltsize, pltsize))\n",
    "\n",
    "for i in range(10):\n",
    "    plt.subplot(1,10,i+1)\n",
    "    plt.axis('off')\n",
    "    plt.imshow(V_train[i, :, :].numpy().reshape(28,28), cmap=\"gray\")"
   ]
  },
  {
   "cell_type": "markdown",
   "metadata": {},
   "source": [
    "3) Proviamo a stampare le prime 10 immagini del test:"
   ]
  },
  {
   "cell_type": "code",
   "execution_count": 156,
   "metadata": {},
   "outputs": [
    {
     "name": "stdout",
     "output_type": "stream",
     "text": [
      "T_train: torch.Size([32, 28, 28]) type: torch.FloatTensor\n",
      "y_train: torch.Size([32]) type: torch.FloatTensor\n"
     ]
    }
   ],
   "source": [
    "for (T_train, y_train) in test_loader012:\n",
    "    print('T_train:', T_train.size(), 'type:', T_train.type())\n",
    "    print('y_train:', y_train.size(), 'type:', y_train.type())\n",
    "    break"
   ]
  },
  {
   "cell_type": "code",
   "execution_count": 157,
   "metadata": {},
   "outputs": [
    {
     "data": {
      "image/png": "[encoded data removed]",
      "text/plain": [
       "<Figure size 720x72 with 10 Axes>"
      ]
     },
     "metadata": {},
     "output_type": "display_data"
    }
   ],
   "source": [
    "pltsize=1\n",
    "plt.figure(figsize=(10*pltsize, pltsize))\n",
    "\n",
    "for i in range(10):\n",
    "    plt.subplot(1,10,i+1)\n",
    "    plt.axis('off')\n",
    "    plt.imshow(T_train[i, :, :].numpy().reshape(28,28), cmap=\"gray\")"
   ]
  },
  {
   "cell_type": "code",
   "execution_count": 158,
   "metadata": {},
   "outputs": [
    {
     "name": "stdout",
     "output_type": "stream",
     "text": [
      "three_train: torch.Size([32, 28, 28]) type: torch.FloatTensor\n",
      "Y_train: torch.Size([32]) type: torch.FloatTensor\n"
     ]
    }
   ],
   "source": [
    "for (three_test, Y_train) in test_loader345:\n",
    "    print('three_train:', three_test.size(), 'type:', three_test.type())\n",
    "    print('Y_train:', Y_train.size(), 'type:', Y_train.type())\n",
    "    break"
   ]
  },
  {
   "cell_type": "code",
   "execution_count": 159,
   "metadata": {},
   "outputs": [
    {
     "data": {
      "image/png": "[encoded data removed]",
      "text/plain": [
       "<Figure size 720x72 with 10 Axes>"
      ]
     },
     "metadata": {},
     "output_type": "display_data"
    }
   ],
   "source": [
    "pltsize=1\n",
    "plt.figure(figsize=(10*pltsize, pltsize))\n",
    "\n",
    "for i in range(10):\n",
    "    plt.subplot(1,10,i+1)\n",
    "    plt.axis('off')\n",
    "    plt.imshow(three_test[i, :, :].numpy().reshape(28,28), cmap=\"gray\")"
   ]
  },
  {
   "cell_type": "markdown",
   "metadata": {},
   "source": [
    "# Multi-layer Perceptron\n",
    "Definiamo ora la rete neurale come una Python class."
   ]
  },
  {
   "cell_type": "code",
   "execution_count": 160,
   "metadata": {},
   "outputs": [
    {
     "name": "stdout",
     "output_type": "stream",
     "text": [
      "Net(\n",
      "  (fc1): Linear(in_features=784, out_features=128, bias=True)\n",
      "  (fc1_drop): Dropout(p=0.2)\n",
      "  (fc2): Linear(in_features=128, out_features=128, bias=True)\n",
      "  (fc2_drop): Dropout(p=0.2)\n",
      "  (fc3): Linear(in_features=128, out_features=7, bias=True)\n",
      ")\n"
     ]
    }
   ],
   "source": [
    "class Net(nn.Module):\n",
    "    def __init__(self):\n",
    "        super(Net, self).__init__()\n",
    "        self.fc1 = nn.Linear(28*28, 128)\n",
    "        self.fc1_drop = nn.Dropout(0.2)\n",
    "        self.fc2 = nn.Linear(128, 128)\n",
    "        self.fc2_drop = nn.Dropout(0.2)\n",
    "        self.fc3 = nn.Linear(128, 7)     # Numero di output 7.\n",
    "\n",
    "    def forward(self, x):\n",
    "        x = x.view(-1, 28*28)\n",
    "        x = F.relu(self.fc1(x))\n",
    "        x = self.fc1_drop(x)\n",
    "        x = F.relu(self.fc2(x))\n",
    "        x = self.fc2_drop(x)\n",
    "        return F.log_softmax(self.fc3(x), 1)\n",
    "\n",
    "model = Net()\n",
    "if cuda:\n",
    "    model.cuda()\n",
    "    \n",
    "optimizer = optim.SGD(model.parameters(), lr=0.01, momentum=0.5)\n",
    "\n",
    "print(model)\n"
   ]
  },
  {
   "cell_type": "markdown",
   "metadata": {},
   "source": [
    "Definiamo le funzioni di **train** e **test**"
   ]
  },
  {
   "cell_type": "code",
   "execution_count": 161,
   "metadata": {},
   "outputs": [],
   "source": [
    "def train(epoch, log_interval, loader):\n",
    "    model.train()\n",
    "    batch_idx = 0\n",
    "    while(batch_idx != len(loader)):\n",
    "        for (data, target) in loader:\n",
    "            target = target.type(torch.long)\n",
    "            if cuda:\n",
    "                data, target = data.cuda(), target.cuda()\n",
    "            data, target = Variable(data), Variable(target)\n",
    "            optimizer.zero_grad()\n",
    "            output = model(data)\n",
    "            loss = F.nll_loss(output, target)\n",
    "            loss.backward()\n",
    "            optimizer.step()\n",
    "            if batch_idx % log_interval == 0:\n",
    "                print('Train Epoch: {} [{}/{} ({:.0f}%)]\\tLoss: {:.6f}'.format(\n",
    "                    epoch, batch_idx * len(data), len(loader.dataset),\n",
    "                    100. * batch_idx / len(loader), loss.item()))\n",
    "            batch_idx = batch_idx + 1"
   ]
  },
  {
   "cell_type": "code",
   "execution_count": 162,
   "metadata": {},
   "outputs": [],
   "source": [
    "def validate(loss_vector, accuracy_vector, loader):\n",
    "    model.eval()\n",
    "    val_loss, correct = 0, 0\n",
    "    for data, target in loader:\n",
    "        target = target.type(torch.long)\n",
    "        if cuda:\n",
    "            data, target = data.cuda(), target.cuda()\n",
    "        data, target = Variable(data), Variable(target)\n",
    "        output = model(data)\n",
    "        val_loss += F.nll_loss(output, target).item()\n",
    "        pred = output.data.max(1)[1] # get the index of the max log-probability\n",
    "        correct += pred.eq(target.data).cpu().sum()\n",
    "\n",
    "    val_loss /= len(loader)\n",
    "    loss_vector.append(val_loss)\n",
    "\n",
    "    accuracy = 100. * correct / len(loader.dataset)\n",
    "    accuracy_vector.append(accuracy)\n",
    "    \n",
    "    print('\\nValidation set: Average loss: {:.4f}, Accuracy: {}/{} ({:.0f}%)\\n'.format(\n",
    "        val_loss, correct, len(loader.dataset), accuracy))"
   ]
  },
  {
   "cell_type": "code",
   "execution_count": 163,
   "metadata": {},
   "outputs": [
    {
     "name": "stdout",
     "output_type": "stream",
     "text": [
      "Train Epoch: 1 [0/33577 (0%)]\tLoss: 1.951982\n",
      "Train Epoch: 1 [3200/33577 (10%)]\tLoss: 1.852027\n",
      "Train Epoch: 1 [6400/33577 (19%)]\tLoss: 1.389892\n",
      "Train Epoch: 1 [9600/33577 (29%)]\tLoss: 1.029269\n",
      "Train Epoch: 1 [12800/33577 (38%)]\tLoss: 0.758429\n",
      "Train Epoch: 1 [16000/33577 (48%)]\tLoss: 0.482455\n",
      "Train Epoch: 1 [19200/33577 (57%)]\tLoss: 0.533683\n",
      "Train Epoch: 1 [22400/33577 (67%)]\tLoss: 0.326055\n",
      "Train Epoch: 1 [25600/33577 (76%)]\tLoss: 0.410392\n",
      "Train Epoch: 1 [28800/33577 (86%)]\tLoss: 0.305020\n",
      "Train Epoch: 1 [32000/33577 (95%)]\tLoss: 0.170100\n",
      "\n",
      "Validation set: Average loss: 0.2256, Accuracy: 6549/6989 (93%)\n",
      "\n",
      "Train Epoch: 2 [0/33577 (0%)]\tLoss: 0.190841\n",
      "Train Epoch: 2 [3200/33577 (10%)]\tLoss: 0.165652\n",
      "Train Epoch: 2 [6400/33577 (19%)]\tLoss: 0.418213\n",
      "Train Epoch: 2 [9600/33577 (29%)]\tLoss: 0.211348\n",
      "Train Epoch: 2 [12800/33577 (38%)]\tLoss: 0.472663\n",
      "Train Epoch: 2 [16000/33577 (48%)]\tLoss: 0.348516\n",
      "Train Epoch: 2 [19200/33577 (57%)]\tLoss: 0.250436\n",
      "Train Epoch: 2 [22400/33577 (67%)]\tLoss: 0.175034\n",
      "Train Epoch: 2 [25600/33577 (76%)]\tLoss: 0.424114\n",
      "Train Epoch: 2 [28800/33577 (86%)]\tLoss: 0.122023\n",
      "Train Epoch: 2 [32000/33577 (95%)]\tLoss: 0.343464\n",
      "\n",
      "Validation set: Average loss: 0.1635, Accuracy: 6659/6989 (95%)\n",
      "\n",
      "Train Epoch: 3 [0/33577 (0%)]\tLoss: 0.166522\n",
      "Train Epoch: 3 [3200/33577 (10%)]\tLoss: 0.159491\n",
      "Train Epoch: 3 [6400/33577 (19%)]\tLoss: 0.259108\n",
      "Train Epoch: 3 [9600/33577 (29%)]\tLoss: 0.121632\n",
      "Train Epoch: 3 [12800/33577 (38%)]\tLoss: 0.087526\n",
      "Train Epoch: 3 [16000/33577 (48%)]\tLoss: 0.164070\n",
      "Train Epoch: 3 [19200/33577 (57%)]\tLoss: 0.798998\n",
      "Train Epoch: 3 [22400/33577 (67%)]\tLoss: 0.089553\n",
      "Train Epoch: 3 [25600/33577 (76%)]\tLoss: 0.131594\n",
      "Train Epoch: 3 [28800/33577 (86%)]\tLoss: 0.141628\n",
      "Train Epoch: 3 [32000/33577 (95%)]\tLoss: 0.321214\n",
      "\n",
      "Validation set: Average loss: 0.1364, Accuracy: 6699/6989 (95%)\n",
      "\n",
      "Train Epoch: 4 [0/33577 (0%)]\tLoss: 0.091650\n",
      "Train Epoch: 4 [3200/33577 (10%)]\tLoss: 0.071408\n",
      "Train Epoch: 4 [6400/33577 (19%)]\tLoss: 0.495880\n",
      "Train Epoch: 4 [9600/33577 (29%)]\tLoss: 0.267117\n",
      "Train Epoch: 4 [12800/33577 (38%)]\tLoss: 0.283263\n",
      "Train Epoch: 4 [16000/33577 (48%)]\tLoss: 0.196435\n",
      "Train Epoch: 4 [19200/33577 (57%)]\tLoss: 0.229890\n",
      "Train Epoch: 4 [22400/33577 (67%)]\tLoss: 0.256162\n",
      "Train Epoch: 4 [25600/33577 (76%)]\tLoss: 0.113842\n",
      "Train Epoch: 4 [28800/33577 (86%)]\tLoss: 0.226548\n",
      "Train Epoch: 4 [32000/33577 (95%)]\tLoss: 0.192192\n",
      "\n",
      "Validation set: Average loss: 0.1125, Accuracy: 6738/6989 (96%)\n",
      "\n",
      "Train Epoch: 5 [0/33577 (0%)]\tLoss: 0.111285\n",
      "Train Epoch: 5 [3200/33577 (10%)]\tLoss: 0.065372\n",
      "Train Epoch: 5 [6400/33577 (19%)]\tLoss: 0.065707\n",
      "Train Epoch: 5 [9600/33577 (29%)]\tLoss: 0.023400\n",
      "Train Epoch: 5 [12800/33577 (38%)]\tLoss: 0.139533\n",
      "Train Epoch: 5 [16000/33577 (48%)]\tLoss: 0.153763\n",
      "Train Epoch: 5 [19200/33577 (57%)]\tLoss: 0.154143\n",
      "Train Epoch: 5 [22400/33577 (67%)]\tLoss: 0.215319\n",
      "Train Epoch: 5 [25600/33577 (76%)]\tLoss: 0.130200\n",
      "Train Epoch: 5 [28800/33577 (86%)]\tLoss: 0.140436\n",
      "Train Epoch: 5 [32000/33577 (95%)]\tLoss: 0.041769\n",
      "\n",
      "Validation set: Average loss: 0.0969, Accuracy: 6777/6989 (96%)\n",
      "\n",
      "Train Epoch: 6 [0/33577 (0%)]\tLoss: 0.287736\n",
      "Train Epoch: 6 [3200/33577 (10%)]\tLoss: 0.105771\n",
      "Train Epoch: 6 [6400/33577 (19%)]\tLoss: 0.147043\n",
      "Train Epoch: 6 [9600/33577 (29%)]\tLoss: 0.151622\n",
      "Train Epoch: 6 [12800/33577 (38%)]\tLoss: 0.254919\n",
      "Train Epoch: 6 [16000/33577 (48%)]\tLoss: 0.097468\n",
      "Train Epoch: 6 [19200/33577 (57%)]\tLoss: 0.342832\n",
      "Train Epoch: 6 [22400/33577 (67%)]\tLoss: 0.095375\n",
      "Train Epoch: 6 [25600/33577 (76%)]\tLoss: 0.135319\n",
      "Train Epoch: 6 [28800/33577 (86%)]\tLoss: 0.117534\n",
      "Train Epoch: 6 [32000/33577 (95%)]\tLoss: 0.105351\n",
      "\n",
      "Validation set: Average loss: 0.0849, Accuracy: 6805/6989 (97%)\n",
      "\n",
      "Train Epoch: 7 [0/33577 (0%)]\tLoss: 0.051208\n",
      "Train Epoch: 7 [3200/33577 (10%)]\tLoss: 0.192704\n",
      "Train Epoch: 7 [6400/33577 (19%)]\tLoss: 0.103078\n",
      "Train Epoch: 7 [9600/33577 (29%)]\tLoss: 0.187348\n",
      "Train Epoch: 7 [12800/33577 (38%)]\tLoss: 0.153468\n",
      "Train Epoch: 7 [16000/33577 (48%)]\tLoss: 0.128683\n",
      "Train Epoch: 7 [19200/33577 (57%)]\tLoss: 0.098938\n",
      "Train Epoch: 7 [22400/33577 (67%)]\tLoss: 0.053419\n",
      "Train Epoch: 7 [25600/33577 (76%)]\tLoss: 0.207186\n",
      "Train Epoch: 7 [28800/33577 (86%)]\tLoss: 0.079964\n",
      "Train Epoch: 7 [32000/33577 (95%)]\tLoss: 0.048096\n",
      "\n",
      "Validation set: Average loss: 0.0767, Accuracy: 6821/6989 (97%)\n",
      "\n",
      "Train Epoch: 8 [0/33577 (0%)]\tLoss: 0.171621\n",
      "Train Epoch: 8 [3200/33577 (10%)]\tLoss: 0.113744\n",
      "Train Epoch: 8 [6400/33577 (19%)]\tLoss: 0.028306\n",
      "Train Epoch: 8 [9600/33577 (29%)]\tLoss: 0.085199\n",
      "Train Epoch: 8 [12800/33577 (38%)]\tLoss: 0.275311\n",
      "Train Epoch: 8 [16000/33577 (48%)]\tLoss: 0.141955\n",
      "Train Epoch: 8 [19200/33577 (57%)]\tLoss: 0.187244\n",
      "Train Epoch: 8 [22400/33577 (67%)]\tLoss: 0.248180\n",
      "Train Epoch: 8 [25600/33577 (76%)]\tLoss: 0.073173\n",
      "Train Epoch: 8 [28800/33577 (86%)]\tLoss: 0.150801\n",
      "Train Epoch: 8 [32000/33577 (95%)]\tLoss: 0.133311\n",
      "\n",
      "Validation set: Average loss: 0.0711, Accuracy: 6828/6989 (97%)\n",
      "\n",
      "Train Epoch: 9 [0/33577 (0%)]\tLoss: 0.027099\n",
      "Train Epoch: 9 [3200/33577 (10%)]\tLoss: 0.207014\n",
      "Train Epoch: 9 [6400/33577 (19%)]\tLoss: 0.050821\n",
      "Train Epoch: 9 [9600/33577 (29%)]\tLoss: 0.042712\n",
      "Train Epoch: 9 [12800/33577 (38%)]\tLoss: 0.132224\n",
      "Train Epoch: 9 [16000/33577 (48%)]\tLoss: 0.023305\n",
      "Train Epoch: 9 [19200/33577 (57%)]\tLoss: 0.069300\n",
      "Train Epoch: 9 [22400/33577 (67%)]\tLoss: 0.027379\n",
      "Train Epoch: 9 [25600/33577 (76%)]\tLoss: 0.074990\n",
      "Train Epoch: 9 [28800/33577 (86%)]\tLoss: 0.151251\n",
      "Train Epoch: 9 [32000/33577 (95%)]\tLoss: 0.182360\n",
      "\n",
      "Validation set: Average loss: 0.0639, Accuracy: 6840/6989 (97%)\n",
      "\n",
      "Train Epoch: 10 [0/33577 (0%)]\tLoss: 0.120022\n",
      "Train Epoch: 10 [3200/33577 (10%)]\tLoss: 0.132643\n",
      "Train Epoch: 10 [6400/33577 (19%)]\tLoss: 0.028412\n",
      "Train Epoch: 10 [9600/33577 (29%)]\tLoss: 0.030540\n",
      "Train Epoch: 10 [12800/33577 (38%)]\tLoss: 0.320185\n",
      "Train Epoch: 10 [16000/33577 (48%)]\tLoss: 0.042786\n",
      "Train Epoch: 10 [19200/33577 (57%)]\tLoss: 0.021176\n",
      "Train Epoch: 10 [22400/33577 (67%)]\tLoss: 0.084605\n",
      "Train Epoch: 10 [25600/33577 (76%)]\tLoss: 0.085272\n",
      "Train Epoch: 10 [28800/33577 (86%)]\tLoss: 0.100091\n",
      "Train Epoch: 10 [32000/33577 (95%)]\tLoss: 0.105616\n",
      "\n",
      "Validation set: Average loss: 0.0613, Accuracy: 6855/6989 (98%)\n",
      "\n"
     ]
    }
   ],
   "source": [
    "## Addestramento della rete su dataset012 con 3 epoche\n",
    "epochs = 10\n",
    "\n",
    "lossv, accv = [], []\n",
    "for epoch in range(1, epochs + 1):\n",
    "    train(epoch, 100, train_loader012)\n",
    "    validate(lossv, accv, test_loader012)"
   ]
  },
  {
   "cell_type": "markdown",
   "metadata": {},
   "source": [
    "Possiamo adesso addestrare il nostro modello, ogni epoca passa attraverso tutto il dataset del train. Dopo ogni epoca valutiamo il modello attraverso il test(). L'obiettivo è verificare che il modello riconosca come 0, 1, 2 anche le immagini di 3, 4, 5 quindi la classificazione è **out of distribution**. Per farlo addestriamo la rete sul data012 e testiamo la precisione dei test sia su 012 che su 345 utilizzando avarage_precision_score."
   ]
  },
  {
   "cell_type": "markdown",
   "metadata": {},
   "source": [
    "## Test eseguiti con probabilità massima "
   ]
  },
  {
   "cell_type": "code",
   "execution_count": 164,
   "metadata": {},
   "outputs": [],
   "source": [
    "def max_test(epoch, loader):\n",
    "    model.eval ()\n",
    "    test_loss = 0\n",
    "    correct = 0\n",
    "    preds_list = []\n",
    "    for data, target in loader:\n",
    "        target = target.type(torch.long)\n",
    "        if cuda:\n",
    "            data, target = data.cuda(), target.cuda()\n",
    "        data = Variable(data)\n",
    "        target = Variable(target)\n",
    "        output = model(data)\n",
    "        preds_list.append(output)\n",
    "        test_loss += F.nll_loss (output, target).item ()  # sum up batch loss\n",
    "        pred = output.max (1, keepdim=True)[1]  # get the index of the max log-probability\n",
    "        correct += pred.eq (target.view_as (pred)).sum ().item ()\n",
    "    max_pred = new_predict(preds_list)\n",
    "    test_loss /= len (loader.dataset)\n",
    "    print ('\\nTest set: Average loss: {:.4f}, Accuracy: {}/{} ({:.0f}%)\\n'.format (\n",
    "        test_loss, correct, len (loader.dataset),\n",
    "        100. * correct / len (loader.dataset)))\n",
    "    return max_pred"
   ]
  },
  {
   "cell_type": "code",
   "execution_count": 165,
   "metadata": {},
   "outputs": [],
   "source": [
    "###### rifaccio funzione predict che prende gli output di test li mette in numpy come matrice\n",
    "def new_predict(preds_list):\n",
    "    preds_list = torch.cat(preds_list)\n",
    "    preds_list = torch.exp(preds_list)\n",
    "    preds_list = preds_list.detach()\n",
    "    preds_list = preds_list.numpy()\n",
    "    preds_list = np.matrix(preds_list)\n",
    "    print('\\nLe probabilità di classificazione sono: ')\n",
    "    print(preds_list)\n",
    "    print('')\n",
    "    idness = np.max(preds_list, 1)\n",
    "    print ('\\nLa max probabilità è: ')\n",
    "    print(idness)\n",
    "    return idness"
   ]
  },
  {
   "cell_type": "code",
   "execution_count": 166,
   "metadata": {},
   "outputs": [],
   "source": [
    "def plot_func(y_true, y_scores, AP):\n",
    "    precision, recall, _ = precision_recall_curve(y_true, y_scores)\n",
    "\n",
    "    # In matplotlib < 1.5, plt.fill_between does not have a 'step' argument\n",
    "    step_kwargs = ({'step': 'post'}\n",
    "                   if 'step' in signature(plt.fill_between).parameters\n",
    "                   else {})\n",
    "    plt.step(recall, precision, color='b', alpha=0.2,\n",
    "             where='post')\n",
    "    plt.fill_between(recall, precision, alpha=0.2, color='b', **step_kwargs)\n",
    "\n",
    "    plt.xlabel('Recall')\n",
    "    plt.ylabel('Precision')\n",
    "    plt.ylim([0.0, 1.05])\n",
    "    plt.xlim([0.0, 1.0])\n",
    "    \n",
    "    return plt.title('2-class Precision-Recall curve: AP={0:0.2f}'.format(AP))"
   ]
  },
  {
   "cell_type": "code",
   "execution_count": 167,
   "metadata": {},
   "outputs": [],
   "source": [
    "def experiment_func(choosing_test):\n",
    "    test = choosing_test\n",
    "    ## Test_loader012\n",
    "    print('\\nTEST DATASET 012')\n",
    "    result_ID = test(epoch, test_loader012)\n",
    "    len_ID = len(result_ID)\n",
    "\n",
    "    resID = np.empty((0, len_ID))\n",
    "    for i in range (0, len_ID):\n",
    "        newvalue = result_ID[i]\n",
    "        resID = np.append(resID, newvalue)\n",
    "\n",
    "    ## Test_loader345\n",
    "    print('\\nTEST DATASET 345')\n",
    "    result_OOD = test(epoch, test_loader345)\n",
    "    len_OOD = len(result_OOD)\n",
    "\n",
    "    resOOD = np.empty((0, len_OOD))\n",
    "    for i in range (0, len_OOD):\n",
    "        newvalue = result_OOD[i]\n",
    "        resOOD = np.append(resOOD, newvalue) \n",
    "\n",
    "    ## Raccolgo le predizioni max o con entropia in y_scores\n",
    "    y_scores =np.concatenate((resID, resOOD), axis = None)\n",
    "    print(y_scores)\n",
    "\n",
    "    pred_ID = np.ones(len_ID, dtype=int)\n",
    "    pred_OOD = np.zeros(len_OOD, dtype=int)\n",
    "\n",
    "    ## Raccolgo le etichette, agli inD assegno 1, agli outD assegno 0\n",
    "    y_true = np.concatenate((pred_ID, pred_OOD), axis = None)\n",
    "\n",
    "    AP = average_precision_score(y_true, y_scores)\n",
    "\n",
    "    print('L Avarage Precision è: ', AP)\n",
    "\n",
    "    plot_func(y_true, y_scores, AP)\n",
    "    \n",
    "    return AP"
   ]
  },
  {
   "cell_type": "code",
   "execution_count": 168,
   "metadata": {},
   "outputs": [
    {
     "name": "stdout",
     "output_type": "stream",
     "text": [
      "\n",
      "TEST DATASET 012\n",
      "\n",
      "Le probabilità di classificazione sono: \n",
      "[[1.28949455e-06 5.05858101e-04 4.79610544e-03 ... 2.83199824e-05\n",
      "  4.85509590e-05 1.98838048e-08]\n",
      " [1.93913536e-07 2.87131547e-06 6.62644088e-05 ... 4.29417675e-08\n",
      "  4.00054305e-05 2.63027239e-10]\n",
      " [2.66884759e-09 9.99884605e-01 9.85559200e-06 ... 3.47030655e-05\n",
      "  3.92813536e-06 1.32854598e-06]\n",
      " ...\n",
      " [1.08143849e-09 8.09614846e-08 3.38418840e-06 ... 1.03982226e-10\n",
      "  6.01892270e-06 1.69712562e-12]\n",
      " [1.48479876e-05 1.14448119e-06 1.35573291e-03 ... 1.17968034e-03\n",
      "  7.89954902e-06 9.97440755e-01]\n",
      " [1.00796160e-05 9.94093776e-01 2.68174638e-03 ... 1.85909786e-03\n",
      "  2.96185375e-04 3.24655382e-04]]\n",
      "\n",
      "\n",
      "La max probabilità è: \n",
      "[[0.9946196 ]\n",
      " [0.9998903 ]\n",
      " [0.9998846 ]\n",
      " ...\n",
      " [0.99999046]\n",
      " [0.99744076]\n",
      " [0.9940938 ]]\n",
      "\n",
      "Test set: Average loss: 0.0019, Accuracy: 6855/6989 (98%)\n",
      "\n",
      "\n",
      "TEST DATASET 345\n",
      "\n",
      "Le probabilità di classificazione sono: \n",
      "[[2.8885044e-05 2.7659241e-04 2.7526461e-03 ... 8.8899904e-01\n",
      "  4.5283288e-03 5.9224103e-06]\n",
      " [2.3581675e-01 3.9458573e-03 4.9783972e-01 ... 1.7181673e-03\n",
      "  3.6434289e-03 1.1574349e-03]\n",
      " [8.3643326e-04 3.6204726e-02 4.7165599e-02 ... 1.5396844e-01\n",
      "  1.2789023e-01 1.5830665e-04]\n",
      " ...\n",
      " [3.4388707e-03 2.0398607e-03 5.1456273e-01 ... 5.0367503e-03\n",
      "  8.0839749e-03 3.6772191e-05]\n",
      " [2.6508039e-04 1.3130203e-01 1.0363603e-01 ... 3.5802845e-02\n",
      "  1.4089415e-02 1.3161283e-04]\n",
      " [2.5989737e-03 4.3261156e-04 1.5127034e-02 ... 7.9625285e-01\n",
      "  1.0682188e-01 5.2141648e-05]]\n",
      "\n",
      "\n",
      "La max probabilità è: \n",
      "[[0.88899904]\n",
      " [0.49783972]\n",
      " [0.6337763 ]\n",
      " ...\n",
      " [0.5145627 ]\n",
      " [0.71477306]\n",
      " [0.79625285]]\n",
      "\n",
      "Test set: Average loss: 0.1805, Accuracy: 119/3011 (4%)\n",
      "\n",
      "[0.99461961 0.99989033 0.99988461 ... 0.51456273 0.71477306 0.79625285]\n",
      "L Avarage Precision è:  0.9650083266617573\n"
     ]
    },
    {
     "data": {
      "image/png": "[encoded data removed]",
      "text/plain": [
       "<Figure size 432x288 with 1 Axes>"
      ]
     },
     "metadata": {},
     "output_type": "display_data"
    }
   ],
   "source": [
    "max_AP = experiment_func(max_test)"
   ]
  },
  {
   "cell_type": "markdown",
   "metadata": {},
   "source": [
    "## Test eseguiti con entropia"
   ]
  },
  {
   "cell_type": "code",
   "execution_count": 169,
   "metadata": {},
   "outputs": [],
   "source": [
    "def en_test(epoch, loader):\n",
    "    model.eval ()\n",
    "    test_loss = 0\n",
    "    correct = 0\n",
    "    preds_list = []\n",
    "    for data, target in loader:\n",
    "        target = target.type(torch.long)\n",
    "        if cuda:\n",
    "            data, target = data.cuda(), target.cuda()\n",
    "        data = Variable(data)\n",
    "        target = Variable(target)\n",
    "        output = model(data)\n",
    "        preds_list.append(output)\n",
    "        test_loss += F.nll_loss (output, target).item ()  # sum up batch loss\n",
    "        pred = output.max (1, keepdim=True)[1]  # get the index of the max log-probability\n",
    "        correct += pred.eq (target.view_as (pred)).sum ().item ()\n",
    "    ent_pred = predict_entropy(preds_list)\n",
    "    test_loss /= len (loader.dataset)\n",
    "    print ('\\nTest set: Average loss: {:.4f}, Accuracy: {}/{} ({:.0f}%)\\n'.format (\n",
    "        test_loss, correct, len (loader.dataset),\n",
    "        100. * correct / len (loader.dataset)))\n",
    "    return ent_pred"
   ]
  },
  {
   "cell_type": "code",
   "execution_count": 170,
   "metadata": {},
   "outputs": [],
   "source": [
    "def predict_entropy(preds_list):\n",
    "    preds_list = torch.cat(preds_list)\n",
    "    preds_list = torch.exp(preds_list)\n",
    "    preds_list = preds_list.detach()\n",
    "    preds_list = preds_list.numpy()\n",
    "    preds_list = np.matrix(preds_list)\n",
    "    print('\\nLe probabilità di classificazione sono: ')\n",
    "    print(preds_list)\n",
    "    print('')\n",
    "    entropy = (-entr(preds_list)).sum(1)\n",
    "    print('\\nL entropia di ciascuna tripletta è: ')\n",
    "    print(entropy)\n",
    "    return entropy"
   ]
  },
  {
   "cell_type": "code",
   "execution_count": 171,
   "metadata": {},
   "outputs": [
    {
     "name": "stdout",
     "output_type": "stream",
     "text": [
      "\n",
      "TEST DATASET 012\n",
      "\n",
      "Le probabilità di classificazione sono: \n",
      "[[2.2573040e-05 5.1305324e-05 3.5958270e-05 ... 1.3924317e-06\n",
      "  9.8088741e-01 7.2672588e-06]\n",
      " [9.9958998e-01 6.5612269e-08 3.9677794e-05 ... 1.0964692e-06\n",
      "  3.8729282e-05 3.3000737e-04]\n",
      " [2.9317191e-06 3.6988036e-05 5.5025962e-06 ... 3.1544075e-06\n",
      "  9.9976349e-01 1.6127562e-05]\n",
      " ...\n",
      " [2.5695892e-02 7.8039469e-05 9.3206735e-03 ... 9.4885814e-01\n",
      "  6.0388488e-03 9.7382776e-03]\n",
      " [1.4984391e-07 4.4379142e-08 3.8004594e-06 ... 9.9997520e-01\n",
      "  1.9193809e-05 1.1029905e-06]\n",
      " [8.9785743e-08 9.9950230e-01 5.9940940e-05 ... 1.4166813e-04\n",
      "  6.8787282e-05 1.8201688e-04]]\n",
      "\n",
      "\n",
      "L entropia di ciascuna tripletta è: \n",
      "[[-0.09543414]\n",
      " [-0.00387612]\n",
      " [-0.00242821]\n",
      " ...\n",
      " [-0.2663905 ]\n",
      " [-0.00030884]\n",
      " [-0.00501904]]\n",
      "\n",
      "Test set: Average loss: 0.0019, Accuracy: 6855/6989 (98%)\n",
      "\n",
      "\n",
      "TEST DATASET 345\n",
      "\n",
      "Le probabilità di classificazione sono: \n",
      "[[2.0291640e-03 1.4138833e-04 8.9731356e-03 ... 3.7293699e-02\n",
      "  9.4367099e-01 1.1212062e-03]\n",
      " [1.6566813e-05 8.6031960e-06 2.9655366e-04 ... 9.9937838e-01\n",
      "  2.0931422e-04 2.3925930e-05]\n",
      " [7.0751598e-04 8.7973081e-02 4.3772705e-02 ... 1.0625628e-01\n",
      "  6.2146521e-01 1.0062186e-01]\n",
      " ...\n",
      " [8.6475950e-05 1.0398269e-03 8.1841005e-03 ... 2.0334482e-02\n",
      "  4.4919008e-01 4.2928976e-05]\n",
      " [4.5791741e-02 1.9400327e-03 2.6963344e-01 ... 8.2434490e-03\n",
      "  1.9115904e-01 9.2094524e-05]\n",
      " [1.9286849e-02 4.2482462e-02 1.6553161e-01 ... 9.8305484e-03\n",
      "  1.3444534e-01 5.8077562e-01]]\n",
      "\n",
      "\n",
      "L entropia di ciascuna tripletta è: \n",
      "[[-0.27493438]\n",
      " [-0.0059841 ]\n",
      " [-1.2478018 ]\n",
      " ...\n",
      " [-0.826067  ]\n",
      " [-1.2148992 ]\n",
      " [-1.2839034 ]]\n",
      "\n",
      "Test set: Average loss: 0.1804, Accuracy: 119/3011 (4%)\n",
      "\n",
      "[-0.09543414 -0.00387612 -0.00242821 ... -0.82606697 -1.21489918\n",
      " -1.28390336]\n",
      "L Avarage Precision è:  0.9657272535636249\n"
     ]
    },
    {
     "data": {
      "image/png": "[encoded data removed]",
      "text/plain": [
       "<Figure size 432x288 with 1 Axes>"
      ]
     },
     "metadata": {},
     "output_type": "display_data"
    }
   ],
   "source": [
    "en_AP = experiment_func(en_test)"
   ]
  },
  {
   "cell_type": "code",
   "execution_count": 172,
   "metadata": {},
   "outputs": [
    {
     "name": "stdout",
     "output_type": "stream",
     "text": [
      "La differenza tra en_AP e max_AP è:  0.0007189269018675892\n"
     ]
    }
   ],
   "source": [
    "print('La differenza tra en_AP e max_AP è: ', en_AP - max_AP)"
   ]
  }
 ],
 "metadata": {
  "kernelspec": {
   "display_name": "Python 3",
   "language": "python",
   "name": "python3"
  },
  "language_info": {
   "codemirror_mode": {
    "name": "ipython",
    "version": 3
   },
   "file_extension": ".py",
   "mimetype": "text/x-python",
   "name": "python",
   "nbconvert_exporter": "python",
   "pygments_lexer": "ipython3",
   "version": "3.6.5"
  }
 },
 "nbformat": 4,
 "nbformat_minor": 2
}
