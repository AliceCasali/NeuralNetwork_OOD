{
 "cells": [
  {
   "cell_type": "markdown",
   "metadata": {},
   "source": [
    "# MLP MNIST"
   ]
  },
  {
   "cell_type": "markdown",
   "metadata": {},
   "source": [
    "Vogliamo modellare un multi-layer perceptron utilizzando **Pytorch** per classificare il dataset MNIST."
   ]
  },
  {
   "cell_type": "code",
   "execution_count": 2,
   "metadata": {},
   "outputs": [
    {
     "name": "stdout",
     "output_type": "stream",
     "text": [
      "Using PyTorch version: 0.4.1.post2 CUDA: False\n"
     ]
    }
   ],
   "source": [
    "%matplotlib inline\n",
    "\n",
    "import torch\n",
    "import torch.nn as nn\n",
    "import torch.nn.functional as F\n",
    "import torch.optim as optim\n",
    "from torchvision import datasets, transforms\n",
    "from torch.autograd import Variable\n",
    "\n",
    "import numpy as np\n",
    "import matplotlib.pyplot as plt\n",
    "import seaborn as sns\n",
    "\n",
    "from torch.utils.data import TensorDataset\n",
    "\n",
    "from sklearn.metrics import average_precision_score\n",
    "from sklearn.metrics import precision_recall_curve\n",
    "import matplotlib.pyplot as plt\n",
    "from sklearn.utils.fixes import signature\n",
    "\n",
    "from scipy.special import entr\n",
    "\n",
    "cuda = torch.cuda.is_available()\n",
    "print('Using PyTorch version:', torch.__version__, 'CUDA:', cuda)"
   ]
  },
  {
   "cell_type": "markdown",
   "metadata": {},
   "source": [
    "## Dati\n",
    "Vogliamo utilizzare il dataset MNIST, si può scaricare direttamente o caricarlo dai documenti."
   ]
  },
  {
   "cell_type": "code",
   "execution_count": 3,
   "metadata": {},
   "outputs": [],
   "source": [
    "batch_size = 32\n",
    "\n",
    "kwargs = {'num_workers': 1, 'pin_memory': True} if cuda else {}\n",
    "\n",
    "train_loader = torch.utils.data.DataLoader(\n",
    "    datasets.MNIST('./data', train=True, download=True,\n",
    "                   transform=transforms.Compose([\n",
    "                       transforms.ToTensor(),\n",
    "                       transforms.Normalize((0.1307,), (0.3081,))\n",
    "                   ])),\n",
    "    batch_size=batch_size, shuffle=True, **kwargs)\n",
    "\n",
    "test_loader = torch.utils.data.DataLoader(\n",
    "    datasets.MNIST('./data', train=False, transform=transforms.Compose([\n",
    "                       transforms.ToTensor(),\n",
    "                       transforms.Normalize((0.1307,), (0.3081,))\n",
    "                   ])),\n",
    "    batch_size=batch_size, shuffle=False, **kwargs)\n"
   ]
  },
  {
   "cell_type": "markdown",
   "metadata": {},
   "source": [
    "Vogliamo ora estrarre le prime tre classi in modo da fare il train solo su queste.\n",
    "\n",
    "Inoltre dividiamo il dataset così creato in train (80%) e validate (20%)"
   ]
  },
  {
   "cell_type": "code",
   "execution_count": 92,
   "metadata": {},
   "outputs": [],
   "source": [
    "split = int(np.floor(len(train_loader.dataset.train_labels))*0.8)\n",
    "\n",
    "train_l = train_loader.dataset.train_labels[0:split]\n",
    "train_d = train_loader.dataset.train_data[0:split]\n",
    "\n",
    "val_l = train_loader.dataset.train_labels[split:-1]\n",
    "val_d = train_loader.dataset.train_data[split:-1]"
   ]
  },
  {
   "cell_type": "code",
   "execution_count": 93,
   "metadata": {},
   "outputs": [
    {
     "name": "stdout",
     "output_type": "stream",
     "text": [
      "14961\n"
     ]
    }
   ],
   "source": [
    "zeros = train_d[train_l == 0]\n",
    "ones = train_d[train_l == 1]\n",
    "twos = train_d[train_l == 2]\n",
    "\n",
    "\n",
    "train_data012 = torch.cat([zeros, ones, twos])\n",
    "train_labels012 = torch.cat([torch.zeros((len(zeros),)), torch.ones((len(ones),)), 2.0*torch.ones((len(twos),))])\n",
    "\n",
    "# ADB: Qui ho notato che c'e' un problema: le immagini sono int8, ma devono essere float32.\n",
    "# Faccio la conversione e divido per 255.0 (cosi' i pixel sono fra 0.0 e 1.0).\n",
    "train_data012 = train_data012.type(torch.float32) / 255.0\n",
    "\n",
    "print(len(train_data012))"
   ]
  },
  {
   "cell_type": "code",
   "execution_count": 94,
   "metadata": {},
   "outputs": [
    {
     "name": "stdout",
     "output_type": "stream",
     "text": [
      "3662\n"
     ]
    }
   ],
   "source": [
    "zeros = val_d[val_l == 0]\n",
    "ones = val_d[val_l == 1]\n",
    "twos = val_d[val_l == 2]\n",
    "\n",
    "\n",
    "val_data012 = torch.cat([zeros, ones, twos])\n",
    "val_labels012 = torch.cat([torch.zeros((len(zeros),)), torch.ones((len(ones),)), 2.0*torch.ones((len(twos),))])\n",
    "\n",
    "# ADB: Qui ho notato che c'e' un problema: le immagini sono int8, ma devono essere float32.\n",
    "# Faccio la conversione e divido per 255.0 (cosi' i pixel sono fra 0.0 e 1.0).\n",
    "val_data012 = val_data012.type(torch.float32) / 255.0\n",
    "\n",
    "print(len(val_data012))"
   ]
  },
  {
   "cell_type": "markdown",
   "metadata": {},
   "source": [
    "Adesso creiamo dei nuovi dataset per il train in modo da vedere come reagisce il classificatore con dati ID e OOD:"
   ]
  },
  {
   "cell_type": "code",
   "execution_count": 95,
   "metadata": {},
   "outputs": [
    {
     "name": "stdout",
     "output_type": "stream",
     "text": [
      "3147\n"
     ]
    }
   ],
   "source": [
    "test_l012 = test_loader.dataset.test_labels\n",
    "test_d012 = test_loader.dataset.test_data\n",
    "\n",
    "zeros = test_d012[test_l012 == 0]\n",
    "ones = test_d012[test_l012 == 1]\n",
    "twos = test_d012[test_l012 == 2]\n",
    "\n",
    "\n",
    "test_data012 = torch.cat([zeros, ones, twos])\n",
    "test_labels012 = torch.cat([torch.zeros((len(zeros),)), torch.ones((len(ones),)), 2.0*torch.ones((len(twos),))])\n",
    "\n",
    "# ADB: Qui ho notato che c'e' un problema: le immagini sono int8, ma devono essere float32.\n",
    "# Faccio la conversione e divido per 255.0 (cosi' i pixel sono fra 0.0 e 1.0).\n",
    "test_data012 = test_data012.type(torch.float32) / 255.0\n",
    "print(len(test_data012))"
   ]
  },
  {
   "cell_type": "code",
   "execution_count": 96,
   "metadata": {},
   "outputs": [
    {
     "name": "stdout",
     "output_type": "stream",
     "text": [
      "2884\n"
     ]
    }
   ],
   "source": [
    "test_l = test_loader.dataset.test_labels\n",
    "test_d = test_loader.dataset.test_data\n",
    "\n",
    "threes = test_d[test_l == 3]\n",
    "fours = test_d[test_l == 4]\n",
    "fives = test_d[test_l == 5]\n",
    "\n",
    "test_data345 = torch.cat([threes, fours, fives])\n",
    "test_labels345 = torch.cat([torch.zeros((len(threes),)), torch.ones((len(fours),)), 2.0*torch.ones((len(fives),))])\n",
    "#test_labels345 = torch.cat([3.0*torch.ones((len(threes),)), 4.0*torch.ones((len(fours),)), 5.0*torch.ones((len(fives),))])\n",
    "\n",
    "# ADB: Qui ho notato che c'e' un problema: le immagini sono int8, ma devono essere float32.\n",
    "# Faccio la conversione e divido per 255.0 (cosi' i pixel sono fra 0.0 e 1.0).\n",
    "test_data345 = test_data345.type(torch.float32) / 255.0\n",
    "print(len(test_data345))"
   ]
  },
  {
   "cell_type": "markdown",
   "metadata": {},
   "source": [
    "Adesso possiamo utilizzare i nuovi dataset creati per train, validation e test."
   ]
  },
  {
   "cell_type": "code",
   "execution_count": 97,
   "metadata": {},
   "outputs": [],
   "source": [
    "\n",
    "# Train012 80%\n",
    "train_ds012 = TensorDataset(train_data012, train_labels012)\n",
    "train_loader012 = torch.utils.data.DataLoader(train_ds012, batch_size=batch_size, shuffle=True, **kwargs)\n",
    "\n",
    "# Validation012 20%\n",
    "validation_ds012 = TensorDataset(val_data012, val_labels012)\n",
    "validation_loader012 = torch.utils.data.DataLoader(validation_ds012, batch_size=batch_size, shuffle=True, **kwargs)\n",
    "\n",
    "# Test012 all\n",
    "test_ds012 = TensorDataset(test_data012, test_labels012)\n",
    "test_loader012 = torch.utils.data.DataLoader(test_ds012, batch_size=batch_size, shuffle=True, **kwargs)\n",
    "\n",
    "# Test345 all\n",
    "test_ds345 = TensorDataset(test_data345, test_labels345)\n",
    "test_loader345 = torch.utils.data.DataLoader(test_ds345, batch_size=batch_size, shuffle=True, **kwargs)"
   ]
  },
  {
   "cell_type": "markdown",
   "metadata": {},
   "source": [
    "## ADB: Osservazioni\n",
    "\n",
    "- Dati IN DISTRIBUTION per training (il train_loader012 va bene per questo). \n",
    "- Dati IN DISTRIBUTION per validation (i.e. per monitorare quanto bene classifichiamo le classi IN DISTRIBUTION). NON abbiamo questi data per la validation per ora.  \n",
    "- Dati OUT OF DISTRIBUTION (OOD) per i test finali (questo abbiamo, ma abbiamo chiamato 'validation'). Non possiamo usare questi dati nella funzione validate() sotto, per esempio, perche' non abbiamo ettichette e perche' non sono IN DISTRIBUTION. \n"
   ]
  },
  {
   "cell_type": "markdown",
   "metadata": {},
   "source": [
    "## Prove"
   ]
  },
  {
   "cell_type": "markdown",
   "metadata": {},
   "source": [
    "1) Proviamo a stampare le prime 10 immagini del train:"
   ]
  },
  {
   "cell_type": "code",
   "execution_count": 98,
   "metadata": {},
   "outputs": [
    {
     "name": "stdout",
     "output_type": "stream",
     "text": [
      "X_train: torch.Size([32, 28, 28]) type: torch.FloatTensor\n",
      "y_train: torch.Size([32]) type: torch.FloatTensor\n"
     ]
    }
   ],
   "source": [
    "# ADB: qui ho modificato perche' ora ogni batch contiene un gruppo di immagini e anche un gruppo di label.\n",
    "for (X_train, y_train) in train_loader012:\n",
    "    print('X_train:', X_train.size(), 'type:', X_train.type())\n",
    "    print('y_train:', y_train.size(), 'type:', y_train.type())\n",
    "    break"
   ]
  },
  {
   "cell_type": "code",
   "execution_count": 99,
   "metadata": {},
   "outputs": [
    {
     "data": {
      "image/png": "[encoded data removed]",
      "text/plain": [
       "<Figure size 720x72 with 10 Axes>"
      ]
     },
     "metadata": {},
     "output_type": "display_data"
    }
   ],
   "source": [
    "pltsize=1\n",
    "plt.figure(figsize=(10*pltsize, pltsize))\n",
    "\n",
    "for i in range(10):\n",
    "    plt.subplot(1,10,i+1)\n",
    "    plt.axis('off')\n",
    "    plt.imshow(X_train[i, :, :].numpy().reshape(28,28), cmap=\"gray\")"
   ]
  },
  {
   "cell_type": "markdown",
   "metadata": {},
   "source": [
    "2) Proviamo a stampare le prime 10 immagini del validation:"
   ]
  },
  {
   "cell_type": "code",
   "execution_count": 100,
   "metadata": {},
   "outputs": [
    {
     "name": "stdout",
     "output_type": "stream",
     "text": [
      "V_train: torch.Size([32, 28, 28]) type: torch.FloatTensor\n",
      "y_train: torch.Size([32]) type: torch.FloatTensor\n"
     ]
    }
   ],
   "source": [
    "for (V_train, y_train) in validation_loader012:\n",
    "    print('V_train:', V_train.size(), 'type:', V_train.type())\n",
    "    print('y_train:', y_train.size(), 'type:', y_train.type())\n",
    "    break"
   ]
  },
  {
   "cell_type": "code",
   "execution_count": 101,
   "metadata": {},
   "outputs": [
    {
     "data": {
      "image/png": "[encoded data removed]",
      "text/plain": [
       "<Figure size 720x72 with 10 Axes>"
      ]
     },
     "metadata": {},
     "output_type": "display_data"
    }
   ],
   "source": [
    "pltsize=1\n",
    "plt.figure(figsize=(10*pltsize, pltsize))\n",
    "\n",
    "for i in range(10):\n",
    "    plt.subplot(1,10,i+1)\n",
    "    plt.axis('off')\n",
    "    plt.imshow(V_train[i, :, :].numpy().reshape(28,28), cmap=\"gray\")"
   ]
  },
  {
   "cell_type": "markdown",
   "metadata": {},
   "source": [
    "3) Proviamo a stampare le prime 10 immagini del test:"
   ]
  },
  {
   "cell_type": "code",
   "execution_count": 102,
   "metadata": {},
   "outputs": [
    {
     "name": "stdout",
     "output_type": "stream",
     "text": [
      "T_train: torch.Size([32, 28, 28]) type: torch.FloatTensor\n",
      "y_train: torch.Size([32]) type: torch.FloatTensor\n"
     ]
    }
   ],
   "source": [
    "for (T_train, y_train) in test_loader012:\n",
    "    print('T_train:', T_train.size(), 'type:', T_train.type())\n",
    "    print('y_train:', y_train.size(), 'type:', y_train.type())\n",
    "    break"
   ]
  },
  {
   "cell_type": "code",
   "execution_count": 103,
   "metadata": {},
   "outputs": [
    {
     "data": {
      "image/png": "[encoded data removed]",
      "text/plain": [
       "<Figure size 720x72 with 10 Axes>"
      ]
     },
     "metadata": {},
     "output_type": "display_data"
    }
   ],
   "source": [
    "pltsize=1\n",
    "plt.figure(figsize=(10*pltsize, pltsize))\n",
    "\n",
    "for i in range(10):\n",
    "    plt.subplot(1,10,i+1)\n",
    "    plt.axis('off')\n",
    "    plt.imshow(T_train[i, :, :].numpy().reshape(28,28), cmap=\"gray\")"
   ]
  },
  {
   "cell_type": "code",
   "execution_count": 104,
   "metadata": {},
   "outputs": [
    {
     "name": "stdout",
     "output_type": "stream",
     "text": [
      "three_train: torch.Size([32, 28, 28]) type: torch.FloatTensor\n",
      "Y_train: torch.Size([32]) type: torch.FloatTensor\n"
     ]
    }
   ],
   "source": [
    "for (three_test, Y_train) in test_loader345:\n",
    "    print('three_train:', three_test.size(), 'type:', three_test.type())\n",
    "    print('Y_train:', Y_train.size(), 'type:', Y_train.type())\n",
    "    break"
   ]
  },
  {
   "cell_type": "code",
   "execution_count": 105,
   "metadata": {},
   "outputs": [
    {
     "data": {
      "image/png": "[encoded data removed]",
      "text/plain": [
       "<Figure size 720x72 with 10 Axes>"
      ]
     },
     "metadata": {},
     "output_type": "display_data"
    }
   ],
   "source": [
    "pltsize=1\n",
    "plt.figure(figsize=(10*pltsize, pltsize))\n",
    "\n",
    "for i in range(10):\n",
    "    plt.subplot(1,10,i+1)\n",
    "    plt.axis('off')\n",
    "    plt.imshow(three_test[i, :, :].numpy().reshape(28,28), cmap=\"gray\")"
   ]
  },
  {
   "cell_type": "markdown",
   "metadata": {},
   "source": [
    "# Multi-layer Perceptron\n",
    "Definiamo ora la rete neurale come una Python class."
   ]
  },
  {
   "cell_type": "code",
   "execution_count": 106,
   "metadata": {},
   "outputs": [
    {
     "name": "stdout",
     "output_type": "stream",
     "text": [
      "Net(\n",
      "  (fc1): Linear(in_features=784, out_features=128, bias=True)\n",
      "  (fc1_drop): Dropout(p=0.2)\n",
      "  (fc2): Linear(in_features=128, out_features=128, bias=True)\n",
      "  (fc2_drop): Dropout(p=0.2)\n",
      "  (fc3): Linear(in_features=128, out_features=3, bias=True)\n",
      ")\n"
     ]
    }
   ],
   "source": [
    "class Net(nn.Module):\n",
    "    def __init__(self):\n",
    "        super(Net, self).__init__()\n",
    "        self.fc1 = nn.Linear(28*28, 128)\n",
    "        self.fc1_drop = nn.Dropout(0.2)\n",
    "        self.fc2 = nn.Linear(128, 128)\n",
    "        self.fc2_drop = nn.Dropout(0.2)\n",
    "        self.fc3 = nn.Linear(128, 3)     # Numero di output 3.\n",
    "\n",
    "    def forward(self, x):\n",
    "        x = x.view(-1, 28*28)\n",
    "        x = F.relu(self.fc1(x))\n",
    "        x = self.fc1_drop(x)\n",
    "        x = F.relu(self.fc2(x))\n",
    "        x = self.fc2_drop(x)\n",
    "        return F.log_softmax(self.fc3(x), 1)\n",
    "\n",
    "model = Net()\n",
    "if cuda:\n",
    "    model.cuda()\n",
    "    \n",
    "optimizer = optim.SGD(model.parameters(), lr=0.01, momentum=0.5)\n",
    "\n",
    "print(model)\n"
   ]
  },
  {
   "cell_type": "markdown",
   "metadata": {},
   "source": [
    "Definiamo le funzioni di **train** e **test**"
   ]
  },
  {
   "cell_type": "code",
   "execution_count": 107,
   "metadata": {},
   "outputs": [],
   "source": [
    "#----con l'entropia\n",
    "#import torch.optim as optim\n",
    "#criterion = nn.CrossEntropyLoss()\n",
    "\n",
    "def train(epoch, log_interval, loader):\n",
    "    model.train()\n",
    "    batch_idx = 0\n",
    "    while(batch_idx != len(loader)):\n",
    "        for (data, target) in loader:\n",
    "            target = target.type(torch.long)\n",
    "            if cuda:\n",
    "                data, target = data.cuda(), target.cuda()\n",
    "            data, target = Variable(data), Variable(target)\n",
    "            optimizer.zero_grad()\n",
    "            output = model(data)\n",
    "            loss = F.nll_loss(output, target)\n",
    "            #loss = criterion(output, target)\n",
    "            loss.backward()\n",
    "            optimizer.step()\n",
    "            if batch_idx % log_interval == 0:\n",
    "                print('Train Epoch: {} [{}/{} ({:.0f}%)]\\tLoss: {:.6f}'.format(\n",
    "                    epoch, batch_idx * len(data), len(loader.dataset),\n",
    "                    100. * batch_idx / len(loader), loss.item()))\n",
    "            batch_idx = batch_idx + 1"
   ]
  },
  {
   "cell_type": "code",
   "execution_count": 108,
   "metadata": {},
   "outputs": [],
   "source": [
    "def validate(loss_vector, accuracy_vector, loader):\n",
    "    model.eval()\n",
    "    val_loss, correct = 0, 0\n",
    "    for data, target in loader:\n",
    "        target = target.type(torch.long)\n",
    "        if cuda:\n",
    "            data, target = data.cuda(), target.cuda()\n",
    "        data, target = Variable(data), Variable(target)\n",
    "        output = model(data)\n",
    "        val_loss += F.nll_loss(output, target).item()\n",
    "        pred = output.data.max(1)[1] # get the index of the max log-probability\n",
    "        correct += pred.eq(target.data).cpu().sum()\n",
    "\n",
    "    val_loss /= len(loader)\n",
    "    loss_vector.append(val_loss)\n",
    "\n",
    "    accuracy = 100. * correct / len(loader.dataset)\n",
    "    accuracy_vector.append(accuracy)\n",
    "    \n",
    "    print('\\nValidation set: Average loss: {:.4f}, Accuracy: {}/{} ({:.0f}%)\\n'.format(\n",
    "        val_loss, correct, len(loader.dataset), accuracy))"
   ]
  },
  {
   "cell_type": "code",
   "execution_count": 167,
   "metadata": {},
   "outputs": [
    {
     "name": "stdout",
     "output_type": "stream",
     "text": [
      "Train Epoch: 1 [0/14961 (0%)]\tLoss: 0.017142\n",
      "Train Epoch: 1 [3200/14961 (21%)]\tLoss: 0.027966\n",
      "Train Epoch: 1 [6400/14961 (43%)]\tLoss: 0.001047\n",
      "Train Epoch: 1 [9600/14961 (64%)]\tLoss: 0.066487\n",
      "Train Epoch: 1 [12800/14961 (85%)]\tLoss: 0.001363\n",
      "\n",
      "Validation set: Average loss: 0.0196, Accuracy: 3124/3147 (99%)\n",
      "\n",
      "Train Epoch: 2 [0/14961 (0%)]\tLoss: 0.004891\n",
      "Train Epoch: 2 [3200/14961 (21%)]\tLoss: 0.007335\n",
      "Train Epoch: 2 [6400/14961 (43%)]\tLoss: 0.003205\n",
      "Train Epoch: 2 [9600/14961 (64%)]\tLoss: 0.002903\n",
      "Train Epoch: 2 [12800/14961 (85%)]\tLoss: 0.027816\n",
      "\n",
      "Validation set: Average loss: 0.0168, Accuracy: 3129/3147 (99%)\n",
      "\n",
      "Train Epoch: 3 [0/14961 (0%)]\tLoss: 0.028372\n",
      "Train Epoch: 3 [3200/14961 (21%)]\tLoss: 0.009694\n",
      "Train Epoch: 3 [6400/14961 (43%)]\tLoss: 0.004612\n",
      "Train Epoch: 3 [9600/14961 (64%)]\tLoss: 0.001076\n",
      "Train Epoch: 3 [12800/14961 (85%)]\tLoss: 0.010216\n",
      "\n",
      "Validation set: Average loss: 0.0179, Accuracy: 3126/3147 (99%)\n",
      "\n",
      "Train Epoch: 4 [0/14961 (0%)]\tLoss: 0.002990\n",
      "Train Epoch: 4 [3200/14961 (21%)]\tLoss: 0.008945\n",
      "Train Epoch: 4 [6400/14961 (43%)]\tLoss: 0.009112\n",
      "Train Epoch: 4 [9600/14961 (64%)]\tLoss: 0.006659\n",
      "Train Epoch: 4 [12800/14961 (85%)]\tLoss: 0.000312\n",
      "\n",
      "Validation set: Average loss: 0.0178, Accuracy: 3125/3147 (99%)\n",
      "\n",
      "Train Epoch: 5 [0/14961 (0%)]\tLoss: 0.005105\n",
      "Train Epoch: 5 [3200/14961 (21%)]\tLoss: 0.032369\n",
      "Train Epoch: 5 [6400/14961 (43%)]\tLoss: 0.006837\n",
      "Train Epoch: 5 [9600/14961 (64%)]\tLoss: 0.211520\n",
      "Train Epoch: 5 [12800/14961 (85%)]\tLoss: 0.005106\n",
      "\n",
      "Validation set: Average loss: 0.0165, Accuracy: 3128/3147 (99%)\n",
      "\n",
      "Train Epoch: 6 [0/14961 (0%)]\tLoss: 0.002954\n",
      "Train Epoch: 6 [3200/14961 (21%)]\tLoss: 0.008253\n",
      "Train Epoch: 6 [6400/14961 (43%)]\tLoss: 0.000569\n",
      "Train Epoch: 6 [9600/14961 (64%)]\tLoss: 0.017317\n",
      "Train Epoch: 6 [12800/14961 (85%)]\tLoss: 0.010550\n",
      "\n",
      "Validation set: Average loss: 0.0169, Accuracy: 3125/3147 (99%)\n",
      "\n",
      "Train Epoch: 7 [0/14961 (0%)]\tLoss: 0.004377\n",
      "Train Epoch: 7 [3200/14961 (21%)]\tLoss: 0.004270\n",
      "Train Epoch: 7 [6400/14961 (43%)]\tLoss: 0.000825\n",
      "Train Epoch: 7 [9600/14961 (64%)]\tLoss: 0.003528\n",
      "Train Epoch: 7 [12800/14961 (85%)]\tLoss: 0.010682\n",
      "\n",
      "Validation set: Average loss: 0.0164, Accuracy: 3126/3147 (99%)\n",
      "\n",
      "Train Epoch: 8 [0/14961 (0%)]\tLoss: 0.013077\n",
      "Train Epoch: 8 [3200/14961 (21%)]\tLoss: 0.007569\n",
      "Train Epoch: 8 [6400/14961 (43%)]\tLoss: 0.065710\n",
      "Train Epoch: 8 [9600/14961 (64%)]\tLoss: 0.001078\n",
      "Train Epoch: 8 [12800/14961 (85%)]\tLoss: 0.006068\n",
      "\n",
      "Validation set: Average loss: 0.0181, Accuracy: 3125/3147 (99%)\n",
      "\n",
      "Train Epoch: 9 [0/14961 (0%)]\tLoss: 0.013155\n",
      "Train Epoch: 9 [3200/14961 (21%)]\tLoss: 0.003374\n",
      "Train Epoch: 9 [6400/14961 (43%)]\tLoss: 0.004022\n",
      "Train Epoch: 9 [9600/14961 (64%)]\tLoss: 0.007319\n",
      "Train Epoch: 9 [12800/14961 (85%)]\tLoss: 0.001260\n",
      "\n",
      "Validation set: Average loss: 0.0176, Accuracy: 3126/3147 (99%)\n",
      "\n",
      "Train Epoch: 10 [0/14961 (0%)]\tLoss: 0.004269\n",
      "Train Epoch: 10 [3200/14961 (21%)]\tLoss: 0.004863\n",
      "Train Epoch: 10 [6400/14961 (43%)]\tLoss: 0.049308\n",
      "Train Epoch: 10 [9600/14961 (64%)]\tLoss: 0.002534\n",
      "Train Epoch: 10 [12800/14961 (85%)]\tLoss: 0.002866\n",
      "\n",
      "Validation set: Average loss: 0.0155, Accuracy: 3129/3147 (99%)\n",
      "\n"
     ]
    }
   ],
   "source": [
    "## Addestramento della rete su dataset012 con 3 epoche\n",
    "epochs = 10\n",
    "\n",
    "lossv, accv = [], []\n",
    "for epoch in range(1, epochs + 1):\n",
    "    train(epoch, 100, train_loader012)\n",
    "    validate(lossv, accv, test_loader012)"
   ]
  },
  {
   "cell_type": "markdown",
   "metadata": {},
   "source": [
    "Possiamo adesso addestrare il nostro modello, ogni epoca passa attraverso tutto il dataset del train. Dopo ogni epoca valutiamo il modello attraverso il test(). L'obiettivo è verificare che il modello riconosca come 0, 1, 2 anche le immagini di 3, 4, 5 quindi la classificazione è **out of distribution**. Per farlo addestriamo la rete sul data012 e testiamo la precisione dei test sia su 012 che su 345 utilizzando avarage_precision_score."
   ]
  },
  {
   "cell_type": "markdown",
   "metadata": {},
   "source": [
    "## Test eseguiti con probabilità massima "
   ]
  },
  {
   "cell_type": "code",
   "execution_count": 168,
   "metadata": {},
   "outputs": [],
   "source": [
    "def max_test(epoch, loader):\n",
    "    model.eval ()\n",
    "    test_loss = 0\n",
    "    correct = 0\n",
    "    preds_list = []\n",
    "    for data, target in loader:\n",
    "        target = target.type(torch.long)\n",
    "        if cuda:\n",
    "            data, target = data.cuda(), target.cuda()\n",
    "        data = Variable(data)\n",
    "        target = Variable(target)\n",
    "        output = model(data)\n",
    "        preds_list.append(output)\n",
    "        test_loss += F.nll_loss (output, target).item ()  # sum up batch loss\n",
    "        pred = output.max (1, keepdim=True)[1]  # get the index of the max log-probability\n",
    "        correct += pred.eq (target.view_as (pred)).sum ().item ()\n",
    "    max_pred = new_predict(preds_list)\n",
    "    test_loss /= len (loader.dataset)\n",
    "    print ('\\nTest set: Average loss: {:.4f}, Accuracy: {}/{} ({:.0f}%)\\n'.format (\n",
    "        test_loss, correct, len (loader.dataset),\n",
    "        100. * correct / len (loader.dataset)))\n",
    "    return max_pred"
   ]
  },
  {
   "cell_type": "code",
   "execution_count": 169,
   "metadata": {},
   "outputs": [],
   "source": [
    "###### rifaccio funzione predict che prende gli output di test li mette in numpy come matrice\n",
    "def new_predict(preds_list):\n",
    "    preds_list = torch.cat(preds_list)\n",
    "    preds_list = torch.exp(preds_list)\n",
    "    preds_list = preds_list.detach()\n",
    "    preds_list = preds_list.numpy()\n",
    "    preds_list = np.matrix(preds_list)\n",
    "    print('\\nLe probabilità di classificazione sono: ')\n",
    "    print(preds_list)\n",
    "    print('')\n",
    "    idness = np.max(preds_list, 1)\n",
    "    print ('\\nLa max probabilità è: ')\n",
    "    print(idness)\n",
    "    return idness"
   ]
  },
  {
   "cell_type": "code",
   "execution_count": 170,
   "metadata": {},
   "outputs": [],
   "source": [
    "def plot_func(y_true, y_scores, AP):\n",
    "    precision, recall, _ = precision_recall_curve(y_true, y_scores)\n",
    "\n",
    "    # In matplotlib < 1.5, plt.fill_between does not have a 'step' argument\n",
    "    step_kwargs = ({'step': 'post'}\n",
    "                   if 'step' in signature(plt.fill_between).parameters\n",
    "                   else {})\n",
    "    plt.step(recall, precision, color='b', alpha=0.2,\n",
    "             where='post')\n",
    "    plt.fill_between(recall, precision, alpha=0.2, color='b', **step_kwargs)\n",
    "\n",
    "    plt.xlabel('Recall')\n",
    "    plt.ylabel('Precision')\n",
    "    plt.ylim([0.0, 1.05])\n",
    "    plt.xlim([0.0, 1.0])\n",
    "    \n",
    "    return plt.title('2-class Precision-Recall curve: AP={0:0.2f}'.format(AP))"
   ]
  },
  {
   "cell_type": "code",
   "execution_count": 171,
   "metadata": {},
   "outputs": [],
   "source": [
    "def experiment_func(choosing_test):\n",
    "    test = choosing_test\n",
    "    ## Test_loader012\n",
    "    print('\\nTEST DATASET 012')\n",
    "    result_ID = test(epoch, test_loader012)\n",
    "    len_ID = len(result_ID)\n",
    "\n",
    "    resID = np.empty((0, len_ID))\n",
    "    for i in range (0, len_ID):\n",
    "        newvalue = result_ID[i]\n",
    "        resID = np.append(resID, newvalue)\n",
    "\n",
    "    ## Test_loader345\n",
    "    print('\\nTEST DATASET 345')\n",
    "    result_OOD = test(epoch, test_loader345)\n",
    "    len_OOD = len(result_OOD)\n",
    "\n",
    "    resOOD = np.empty((0, len_OOD))\n",
    "    for i in range (0, len_OOD):\n",
    "        newvalue = result_OOD[i]\n",
    "        resOOD = np.append(resOOD, newvalue) \n",
    "\n",
    "    ## Raccolgo le predizioni max o con entropia in y_scores\n",
    "    y_scores =np.concatenate((resID, resOOD), axis = None)\n",
    "    print(y_scores)\n",
    "\n",
    "    pred_ID = np.ones(len_ID, dtype=int)\n",
    "    pred_OOD = np.zeros(len_OOD, dtype=int)\n",
    "\n",
    "    ## Raccolgo le etichette, agli inD assegno 1, agli outD assegno 0\n",
    "    y_true = np.concatenate((pred_ID, pred_OOD), axis = None)\n",
    "\n",
    "    AP = average_precision_score(y_true, y_scores)\n",
    "\n",
    "    print('L Avarage Precision è: ', AP)\n",
    "\n",
    "    plot_func(y_true, y_scores, AP)\n",
    "    \n",
    "    return AP"
   ]
  },
  {
   "cell_type": "code",
   "execution_count": 172,
   "metadata": {},
   "outputs": [
    {
     "name": "stdout",
     "output_type": "stream",
     "text": [
      "\n",
      "TEST DATASET 012\n",
      "\n",
      "Le probabilità di classificazione sono: \n",
      "[[2.2622035e-06 2.6220558e-04 9.9973541e-01]\n",
      " [5.2772957e-06 1.2230114e-05 9.9998236e-01]\n",
      " [9.9914396e-01 1.7908649e-04 6.7701750e-04]\n",
      " ...\n",
      " [1.2089819e-05 9.9993038e-01 5.7495850e-05]\n",
      " [2.4233266e-06 9.9998760e-01 1.0380157e-05]\n",
      " [1.0000000e+00 5.0456259e-13 1.9552175e-08]]\n",
      "\n",
      "\n",
      "La max probabilità è: \n",
      "[[0.9997354 ]\n",
      " [0.99998236]\n",
      " [0.99914396]\n",
      " ...\n",
      " [0.9999304 ]\n",
      " [0.9999876 ]\n",
      " [1.        ]]\n",
      "\n",
      "Test set: Average loss: 0.0005, Accuracy: 3129/3147 (99%)\n",
      "\n",
      "\n",
      "TEST DATASET 345\n",
      "\n",
      "Le probabilità di classificazione sono: \n",
      "[[2.3413652e-03 3.8959038e-02 9.5869964e-01]\n",
      " [3.2230376e-03 4.4238648e-01 5.5439043e-01]\n",
      " [1.5563564e-02 6.8933493e-01 2.9510149e-01]\n",
      " ...\n",
      " [3.7991378e-01 4.1877416e-01 2.0131201e-01]\n",
      " [4.8006657e-03 9.1703952e-04 9.9428242e-01]\n",
      " [3.6944148e-05 9.5472358e-05 9.9986744e-01]]\n",
      "\n",
      "\n",
      "La max probabilità è: \n",
      "[[0.95869964]\n",
      " [0.55439043]\n",
      " [0.6893349 ]\n",
      " ...\n",
      " [0.41877416]\n",
      " [0.9942824 ]\n",
      " [0.99986744]]\n",
      "\n",
      "Test set: Average loss: 0.1900, Accuracy: 433/2884 (15%)\n",
      "\n",
      "[0.99973541 0.99998236 0.99914396 ... 0.41877416 0.99428242 0.99986744]\n",
      "L Avarage Precision è:  0.9392480152008731\n"
     ]
    },
    {
     "data": {
      "image/png": "[encoded data removed]",
      "text/plain": [
       "<Figure size 432x288 with 1 Axes>"
      ]
     },
     "metadata": {},
     "output_type": "display_data"
    }
   ],
   "source": [
    "max_AP = experiment_func(max_test)"
   ]
  },
  {
   "cell_type": "markdown",
   "metadata": {},
   "source": [
    "## Test eseguiti con entropia"
   ]
  },
  {
   "cell_type": "code",
   "execution_count": 173,
   "metadata": {},
   "outputs": [],
   "source": [
    "def en_test(epoch, loader):\n",
    "    model.eval ()\n",
    "    test_loss = 0\n",
    "    correct = 0\n",
    "    preds_list = []\n",
    "    for data, target in loader:\n",
    "        target = target.type(torch.long)\n",
    "        if cuda:\n",
    "            data, target = data.cuda(), target.cuda()\n",
    "        data = Variable(data)\n",
    "        target = Variable(target)\n",
    "        output = model(data)\n",
    "        preds_list.append(output)\n",
    "        test_loss += F.nll_loss (output, target).item ()  # sum up batch loss\n",
    "        pred = output.max (1, keepdim=True)[1]  # get the index of the max log-probability\n",
    "        correct += pred.eq (target.view_as (pred)).sum ().item ()\n",
    "    ent_pred = predict_entropy(preds_list)\n",
    "    test_loss /= len (loader.dataset)\n",
    "    print ('\\nTest set: Average loss: {:.4f}, Accuracy: {}/{} ({:.0f}%)\\n'.format (\n",
    "        test_loss, correct, len (loader.dataset),\n",
    "        100. * correct / len (loader.dataset)))\n",
    "    return ent_pred"
   ]
  },
  {
   "cell_type": "code",
   "execution_count": 174,
   "metadata": {},
   "outputs": [],
   "source": [
    "def predict_entropy(preds_list):\n",
    "    preds_list = torch.cat(preds_list)\n",
    "    preds_list = torch.exp(preds_list)\n",
    "    preds_list = preds_list.detach()\n",
    "    preds_list = preds_list.numpy()\n",
    "    preds_list = np.matrix(preds_list)\n",
    "    print('\\nLe probabilità di classificazione sono: ')\n",
    "    print(preds_list)\n",
    "    print('')\n",
    "    entropy = (-entr(preds_list)).sum(1)\n",
    "    print('\\nL entropia di ciascuna tripletta è: ')\n",
    "    print(entropy)\n",
    "    return entropy"
   ]
  },
  {
   "cell_type": "code",
   "execution_count": 175,
   "metadata": {},
   "outputs": [
    {
     "name": "stdout",
     "output_type": "stream",
     "text": [
      "\n",
      "TEST DATASET 012\n",
      "\n",
      "Le probabilità di classificazione sono: \n",
      "[[1.1952347e-08 1.0397677e-08 1.0000000e+00]\n",
      " [5.5797028e-07 9.9999523e-01 4.2001184e-06]\n",
      " [2.5006170e-07 9.9999809e-01 1.6374591e-06]\n",
      " ...\n",
      " [3.4976011e-07 3.8841619e-05 9.9996090e-01]\n",
      " [1.1134387e-06 9.9998379e-01 1.5425998e-05]\n",
      " [5.5659675e-06 6.0387933e-06 9.9998856e-01]]\n",
      "\n",
      "\n",
      "L entropia di ciascuna tripletta è: \n",
      "[[-4.0916558e-07]\n",
      " [-6.4801687e-05]\n",
      " [-2.7523503e-05]\n",
      " ...\n",
      " [-4.3877563e-04]\n",
      " [-2.0238708e-04]\n",
      " [-1.5135581e-04]]\n",
      "\n",
      "Test set: Average loss: 0.0005, Accuracy: 3129/3147 (99%)\n",
      "\n",
      "\n",
      "TEST DATASET 345\n",
      "\n",
      "Le probabilità di classificazione sono: \n",
      "[[2.4775835e-04 3.9025301e-03 9.9584967e-01]\n",
      " [4.0786311e-01 7.1526569e-04 5.9142160e-01]\n",
      " [6.8056070e-05 9.3067908e-01 6.9252715e-02]\n",
      " ...\n",
      " [9.9926684e-03 1.3827058e-02 9.7618032e-01]\n",
      " [9.0509403e-01 4.4584827e-05 9.4861522e-02]\n",
      " [1.5233752e-02 1.8984078e-01 7.9492533e-01]]\n",
      "\n",
      "\n",
      "L entropia di ciascuna tripletta è: \n",
      "[[-0.0278428 ]\n",
      " [-0.681592  ]\n",
      " [-0.25241798]\n",
      " ...\n",
      " [-0.12875439]\n",
      " [-0.31413028]\n",
      " [-0.56161636]]\n",
      "\n",
      "Test set: Average loss: 0.1891, Accuracy: 433/2884 (15%)\n",
      "\n",
      "[-4.09165580e-07 -6.48016867e-05 -2.75235034e-05 ... -1.28754392e-01\n",
      " -3.14130276e-01 -5.61616361e-01]\n",
      "L Avarage Precision è:  0.939765557705869\n"
     ]
    },
    {
     "data": {
      "image/png": "[encoded data removed]",
      "text/plain": [
       "<Figure size 432x288 with 1 Axes>"
      ]
     },
     "metadata": {},
     "output_type": "display_data"
    }
   ],
   "source": [
    "en_AP = experiment_func(en_test)"
   ]
  },
  {
   "cell_type": "code",
   "execution_count": 176,
   "metadata": {},
   "outputs": [
    {
     "name": "stdout",
     "output_type": "stream",
     "text": [
      "La differenza tra en_AP e max_AP è:  0.0005175425049959159\n"
     ]
    }
   ],
   "source": [
    "print('La differenza tra en_AP e max_AP è: ', en_AP - max_AP)"
   ]
  },
  {
   "cell_type": "code",
   "execution_count": null,
   "metadata": {},
   "outputs": [],
   "source": []
  }
 ],
 "metadata": {
  "kernelspec": {
   "display_name": "Python 3",
   "language": "python",
   "name": "python3"
  },
  "language_info": {
   "codemirror_mode": {
    "name": "ipython",
    "version": 3
   },
   "file_extension": ".py",
   "mimetype": "text/x-python",
   "name": "python",
   "nbconvert_exporter": "python",
   "pygments_lexer": "ipython3",
   "version": "3.6.5"
  }
 },
 "nbformat": 4,
 "nbformat_minor": 2
}
