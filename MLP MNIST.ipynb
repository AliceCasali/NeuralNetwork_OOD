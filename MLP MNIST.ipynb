{
 "cells": [
  {
   "cell_type": "markdown",
   "metadata": {},
   "source": [
    "# MLP MNIST"
   ]
  },
  {
   "cell_type": "markdown",
   "metadata": {},
   "source": [
    "Vogliamo modellare un multi-layer perceptron utilizzando **Pytorch** per classificare il dataset MNIST."
   ]
  },
  {
   "cell_type": "code",
   "execution_count": 77,
   "metadata": {},
   "outputs": [
    {
     "name": "stdout",
     "output_type": "stream",
     "text": [
      "Using PyTorch version: 0.4.1.post2 CUDA: False\n"
     ]
    }
   ],
   "source": [
    "%matplotlib inline\n",
    "\n",
    "import torch\n",
    "import torch.nn as nn\n",
    "import torch.nn.functional as F\n",
    "import torch.optim as optim\n",
    "from torchvision import datasets, transforms\n",
    "from torch.autograd import Variable\n",
    "\n",
    "import numpy as np\n",
    "import matplotlib.pyplot as plt\n",
    "import seaborn as sns\n",
    "\n",
    "from torch.utils.data import TensorDataset\n",
    "\n",
    "from sklearn.metrics import average_precision_score\n",
    "from sklearn.metrics import precision_recall_curve\n",
    "import matplotlib.pyplot as plt\n",
    "from sklearn.utils.fixes import signature\n",
    "\n",
    "from scipy.special import entr\n",
    "\n",
    "cuda = torch.cuda.is_available()\n",
    "print('Using PyTorch version:', torch.__version__, 'CUDA:', cuda)"
   ]
  },
  {
   "cell_type": "markdown",
   "metadata": {},
   "source": [
    "## Dati\n",
    "Vogliamo utilizzare il dataset MNIST, si può scaricare direttamente o caricarlo dai documenti."
   ]
  },
  {
   "cell_type": "code",
   "execution_count": 78,
   "metadata": {},
   "outputs": [
    {
     "name": "stdout",
     "output_type": "stream",
     "text": [
      "il tipo è <built-in method type of Tensor object at 0x7fd170fb8240>\n"
     ]
    }
   ],
   "source": [
    "batch_size = 32\n",
    "\n",
    "kwargs = {'num_workers': 1, 'pin_memory': True} if cuda else {}\n",
    "\n",
    "train_loader = torch.utils.data.DataLoader(\n",
    "    datasets.MNIST('./data', train=True, download=True,\n",
    "                   transform=transforms.Compose([\n",
    "                       transforms.ToTensor(),\n",
    "                       transforms.Normalize((0.1307,), (0.3081,))\n",
    "                   ])),\n",
    "    batch_size=batch_size, shuffle=True, **kwargs)\n",
    "\n",
    "test_loader = torch.utils.data.DataLoader(\n",
    "    datasets.MNIST('./data', train=False, transform=transforms.Compose([\n",
    "                       transforms.ToTensor(),\n",
    "                       transforms.Normalize((0.1307,), (0.3081,))\n",
    "                   ])),\n",
    "    batch_size=batch_size, shuffle=False, **kwargs)\n",
    "\n",
    "\n",
    "train_new = train_loader.dataset.train_labels\n",
    "print('il tipo è', train_new.type)"
   ]
  },
  {
   "cell_type": "markdown",
   "metadata": {},
   "source": [
    "Vogliamo ora estrarre le prime tre classi in modo da fare il train solo su queste.\n",
    "\n",
    "Inoltre dividiamo il dataset così creato in train (80%) e validate (20%)"
   ]
  },
  {
   "cell_type": "code",
   "execution_count": 79,
   "metadata": {},
   "outputs": [],
   "source": [
    "split = int(np.floor(len(train_loader.dataset.train_labels))*0.8)\n",
    "\n",
    "train_l = train_loader.dataset.train_labels[0:split]\n",
    "train_d = train_loader.dataset.train_data[0:split]\n",
    "\n",
    "val_l = train_loader.dataset.train_labels[split:-1]\n",
    "val_d = train_loader.dataset.train_data[split:-1]\n"
   ]
  },
  {
   "cell_type": "code",
   "execution_count": 80,
   "metadata": {},
   "outputs": [
    {
     "data": {
      "text/plain": [
       "\"zeros = train_d[train_l == 0]\\nones = train_d[train_l == 1]\\ntwos = train_d[train_l == 2]\\n\\ntrain_data012 = torch.cat([zeros, ones, twos])\\ntrain_labels012 = torch.cat([torch.zeros((len(zeros),)), torch.ones((len(ones),)), 2.0*torch.ones((len(twos),))])\\n\\n# ADB: Qui ho notato che c'e' un problema: le immagini sono int8, ma devono essere float32.\\n# Faccio la conversione e divido per 255.0 (cosi' i pixel sono fra 0.0 e 1.0).\\ntrain_data012 = train_data012.type(torch.float32) / 255.0\\nprint(len(train_data012), len(train_labels012))\""
      ]
     },
     "execution_count": 80,
     "metadata": {},
     "output_type": "execute_result"
    }
   ],
   "source": [
    "'''zeros = train_d[train_l == 0]\n",
    "ones = train_d[train_l == 1]\n",
    "twos = train_d[train_l == 2]\n",
    "\n",
    "train_data012 = torch.cat([zeros, ones, twos])\n",
    "train_labels012 = torch.cat([torch.zeros((len(zeros),)), torch.ones((len(ones),)), 2.0*torch.ones((len(twos),))])\n",
    "\n",
    "# ADB: Qui ho notato che c'e' un problema: le immagini sono int8, ma devono essere float32.\n",
    "# Faccio la conversione e divido per 255.0 (cosi' i pixel sono fra 0.0 e 1.0).\n",
    "train_data012 = train_data012.type(torch.float32) / 255.0\n",
    "print(len(train_data012), len(train_labels012))'''"
   ]
  },
  {
   "cell_type": "code",
   "execution_count": 81,
   "metadata": {},
   "outputs": [
    {
     "name": "stdout",
     "output_type": "stream",
     "text": [
      "33577 33577\n"
     ]
    }
   ],
   "source": [
    "zeros = train_d[train_l == 0]\n",
    "ones = train_d[train_l == 1]\n",
    "twos = train_d[train_l == 2]\n",
    "threes = train_d[train_l == 3]\n",
    "fours = train_d[train_l == 4]\n",
    "fives = train_d[train_l == 5]\n",
    "sixs = train_d[train_l == 6]\n",
    "\n",
    "train_data012 = torch.cat([zeros, ones, twos, threes, fours, fives, sixs])\n",
    "train_labels012 = torch.cat([torch.zeros((len(zeros),)), torch.ones((len(ones),)),\n",
    "                             2.0*torch.ones((len(twos),)), 3.0*torch.ones((len(threes),)),\n",
    "                             4.0*torch.ones((len(fours),)), 5.0*torch.ones((len(fives),)), 6.0*torch.ones((len(sixs),))])\n",
    "\n",
    "# ADB: Qui ho notato che c'e' un problema: le immagini sono int8, ma devono essere float32.\n",
    "# Faccio la conversione e divido per 255.0 (cosi' i pixel sono fra 0.0 e 1.0).\n",
    "train_data012 = train_data012.type(torch.float32) / 255.0\n",
    "print(len(train_data012), len(train_labels012))"
   ]
  },
  {
   "cell_type": "code",
   "execution_count": 82,
   "metadata": {},
   "outputs": [
    {
     "data": {
      "text/plain": [
       "\"zeros = val_d[val_l == 0]\\nones = val_d[val_l == 1]\\ntwos = val_d[val_l == 2]\\n\\nprint(len(zeros))\\nprint(len(ones))\\n\\nval_data012 = torch.cat([zeros, ones, twos])\\nval_labels012 = torch.cat([torch.zeros((len(zeros),)), torch.ones((len(ones),)), 2.0*torch.ones((len(twos),))])\\n\\n# ADB: Qui ho notato che c'e' un problema: le immagini sono int8, ma devono essere float32.\\n# Faccio la conversione e divido per 255.0 (cosi' i pixel sono fra 0.0 e 1.0).\\nval_data012 = val_data012.type(torch.float32) / 255.0\""
      ]
     },
     "execution_count": 82,
     "metadata": {},
     "output_type": "execute_result"
    }
   ],
   "source": [
    "'''zeros = val_d[val_l == 0]\n",
    "ones = val_d[val_l == 1]\n",
    "twos = val_d[val_l == 2]\n",
    "\n",
    "print(len(zeros))\n",
    "print(len(ones))\n",
    "\n",
    "val_data012 = torch.cat([zeros, ones, twos])\n",
    "val_labels012 = torch.cat([torch.zeros((len(zeros),)), torch.ones((len(ones),)), 2.0*torch.ones((len(twos),))])\n",
    "\n",
    "# ADB: Qui ho notato che c'e' un problema: le immagini sono int8, ma devono essere float32.\n",
    "# Faccio la conversione e divido per 255.0 (cosi' i pixel sono fra 0.0 e 1.0).\n",
    "val_data012 = val_data012.type(torch.float32) / 255.0'''\n"
   ]
  },
  {
   "cell_type": "code",
   "execution_count": 83,
   "metadata": {},
   "outputs": [
    {
     "name": "stdout",
     "output_type": "stream",
     "text": [
      "8358 8358\n"
     ]
    }
   ],
   "source": [
    "zeros = val_d[val_l == 0]\n",
    "ones = val_d[val_l == 1]\n",
    "twos = val_d[val_l == 2]\n",
    "threes = val_d[val_l == 3]\n",
    "fours = val_d[val_l == 4]\n",
    "fives = val_d[val_l == 5]\n",
    "sixs = val_d[val_l == 6]\n",
    "\n",
    "val_data012 = torch.cat([zeros, ones, twos, threes, fours, fives, sixs])\n",
    "val_labels012 = torch.cat([torch.zeros((len(zeros),)), torch.ones((len(ones),)),\n",
    "                             2.0*torch.ones((len(twos),)), 3.0*torch.ones((len(threes),)),\n",
    "                             4.0*torch.ones((len(fours),)), 5.0*torch.ones((len(fives),)), 6.0*torch.ones((len(sixs),))])\n",
    "\n",
    "# ADB: Qui ho notato che c'e' un problema: le immagini sono int8, ma devono essere float32.\n",
    "# Faccio la conversione e divido per 255.0 (cosi' i pixel sono fra 0.0 e 1.0).\n",
    "val_data012 = val_data012.type(torch.float32) / 255.0\n",
    "print(len(val_data012), len(val_labels012))"
   ]
  },
  {
   "cell_type": "markdown",
   "metadata": {},
   "source": [
    "Adesso creiamo dei nuovi dataset per il train in modo da vedere come reagisce il classificatore con dati ID e OOD:"
   ]
  },
  {
   "cell_type": "code",
   "execution_count": 84,
   "metadata": {},
   "outputs": [
    {
     "data": {
      "text/plain": [
       "\"test_l012 = test_loader.dataset.test_labels\\ntest_d012 = test_loader.dataset.test_data\\n\\nzeros = test_d012[test_l012 == 0]\\nones = test_d012[test_l012 == 1]\\ntwos = test_d012[test_l012 == 2]\\n\\n\\ntest_data012 = torch.cat([zeros, ones, twos])\\ntest_labels012 = torch.cat([torch.zeros((len(zeros),)), torch.ones((len(ones),)), 2.0*torch.ones((len(twos),))])\\n\\n# ADB: Qui ho notato che c'e' un problema: le immagini sono int8, ma devono essere float32.\\n# Faccio la conversione e divido per 255.0 (cosi' i pixel sono fra 0.0 e 1.0).\\ntest_data012 = test_data012.type(torch.float32) / 255.0\\nprint(len(test_data012))\""
      ]
     },
     "execution_count": 84,
     "metadata": {},
     "output_type": "execute_result"
    }
   ],
   "source": [
    "'''test_l012 = test_loader.dataset.test_labels\n",
    "test_d012 = test_loader.dataset.test_data\n",
    "\n",
    "zeros = test_d012[test_l012 == 0]\n",
    "ones = test_d012[test_l012 == 1]\n",
    "twos = test_d012[test_l012 == 2]\n",
    "\n",
    "\n",
    "test_data012 = torch.cat([zeros, ones, twos])\n",
    "test_labels012 = torch.cat([torch.zeros((len(zeros),)), torch.ones((len(ones),)), 2.0*torch.ones((len(twos),))])\n",
    "\n",
    "# ADB: Qui ho notato che c'e' un problema: le immagini sono int8, ma devono essere float32.\n",
    "# Faccio la conversione e divido per 255.0 (cosi' i pixel sono fra 0.0 e 1.0).\n",
    "test_data012 = test_data012.type(torch.float32) / 255.0\n",
    "print(len(test_data012))'''"
   ]
  },
  {
   "cell_type": "code",
   "execution_count": 85,
   "metadata": {},
   "outputs": [
    {
     "name": "stdout",
     "output_type": "stream",
     "text": [
      "6989 6989\n"
     ]
    }
   ],
   "source": [
    "test_l012 = test_loader.dataset.test_labels\n",
    "test_d012 = test_loader.dataset.test_data\n",
    "\n",
    "zeros = test_d012[test_l012 == 0]\n",
    "ones = test_d012[test_l012 == 1]\n",
    "twos = test_d012[test_l012 == 2]\n",
    "threes = test_d012[test_l012 == 3]\n",
    "fours = test_d012[test_l012 == 4]\n",
    "fives = test_d012[test_l012 == 5]\n",
    "sixs = test_d012[test_l012 == 6]\n",
    "\n",
    "test_data012 = torch.cat([zeros, ones, twos, threes, fours, fives, sixs])\n",
    "test_labels012 = torch.cat([torch.zeros((len(zeros),)), torch.ones((len(ones),)),\n",
    "                             2.0*torch.ones((len(twos),)), 3.0*torch.ones((len(threes),)),\n",
    "                             4.0*torch.ones((len(fours),)), 5.0*torch.ones((len(fives),)), 6.0*torch.ones((len(sixs),))])\n",
    "\n",
    "test_data012 = test_data012.type(torch.float32) / 255.0\n",
    "print(len(test_data012), len(test_labels012))"
   ]
  },
  {
   "cell_type": "code",
   "execution_count": 86,
   "metadata": {},
   "outputs": [
    {
     "data": {
      "text/plain": [
       "\"test_l = test_loader.dataset.test_labels\\ntest_d = test_loader.dataset.test_data\\n\\nthrees = test_d[test_l == 3]\\nfours = test_d[test_l == 4]\\nfives = test_d[test_l == 5]\\n\\ntest_data345 = torch.cat([threes, fours, fives])\\ntest_labels345 = torch.cat([torch.zeros((len(threes),)), torch.ones((len(fours),)), 2.0*torch.ones((len(fives),))])\\n#test_labels345 = torch.cat([3.0*torch.ones((len(threes),)), 4.0*torch.ones((len(fours),)), 5.0*torch.ones((len(fives),))])\\n\\n# ADB: Qui ho notato che c'e' un problema: le immagini sono int8, ma devono essere float32.\\n# Faccio la conversione e divido per 255.0 (cosi' i pixel sono fra 0.0 e 1.0).\\ntest_data345 = test_data345.type(torch.float32) / 255.0\\nprint(len(test_data345))\""
      ]
     },
     "execution_count": 86,
     "metadata": {},
     "output_type": "execute_result"
    }
   ],
   "source": [
    "'''test_l = test_loader.dataset.test_labels\n",
    "test_d = test_loader.dataset.test_data\n",
    "\n",
    "threes = test_d[test_l == 3]\n",
    "fours = test_d[test_l == 4]\n",
    "fives = test_d[test_l == 5]\n",
    "\n",
    "test_data345 = torch.cat([threes, fours, fives])\n",
    "test_labels345 = torch.cat([torch.zeros((len(threes),)), torch.ones((len(fours),)), 2.0*torch.ones((len(fives),))])\n",
    "#test_labels345 = torch.cat([3.0*torch.ones((len(threes),)), 4.0*torch.ones((len(fours),)), 5.0*torch.ones((len(fives),))])\n",
    "\n",
    "# ADB: Qui ho notato che c'e' un problema: le immagini sono int8, ma devono essere float32.\n",
    "# Faccio la conversione e divido per 255.0 (cosi' i pixel sono fra 0.0 e 1.0).\n",
    "test_data345 = test_data345.type(torch.float32) / 255.0\n",
    "print(len(test_data345))'''"
   ]
  },
  {
   "cell_type": "code",
   "execution_count": 87,
   "metadata": {},
   "outputs": [
    {
     "name": "stdout",
     "output_type": "stream",
     "text": [
      "3011 3011\n"
     ]
    }
   ],
   "source": [
    "test_l = test_loader.dataset.test_labels\n",
    "test_d = test_loader.dataset.test_data\n",
    "\n",
    "sevens = test_d[test_l == 7]\n",
    "eights = test_d[test_l == 8]\n",
    "nines = test_d[test_l == 9]\n",
    "\n",
    "test_data345 = torch.cat([sevens, eights, nines])\n",
    "test_labels345 = torch.cat([torch.zeros((len(sevens),)), torch.ones((len(eights),)), 2.0*torch.ones((len(nines),))])\n",
    "#test_labels345 = torch.cat([3.0*torch.ones((len(threes),)), 4.0*torch.ones((len(fours),)), 5.0*torch.ones((len(fives),))])\n",
    "\n",
    "# ADB: Qui ho notato che c'e' un problema: le immagini sono int8, ma devono essere float32.\n",
    "# Faccio la conversione e divido per 255.0 (cosi' i pixel sono fra 0.0 e 1.0).\n",
    "test_data345 = test_data345.type(torch.float32) / 255.0\n",
    "print(len(test_data345),len(test_labels345))"
   ]
  },
  {
   "cell_type": "markdown",
   "metadata": {},
   "source": [
    "Adesso possiamo utilizzare i nuovi dataset creati per train, validation e test."
   ]
  },
  {
   "cell_type": "code",
   "execution_count": 88,
   "metadata": {},
   "outputs": [
    {
     "name": "stdout",
     "output_type": "stream",
     "text": [
      "1050\n",
      "262\n",
      "219\n",
      "95\n"
     ]
    }
   ],
   "source": [
    "# Train012 80%\n",
    "train_ds012 = TensorDataset(train_data012, train_labels012)\n",
    "train_loader012 = torch.utils.data.DataLoader(train_ds012, batch_size=batch_size, shuffle=True, **kwargs)\n",
    "print(len(train_loader012))\n",
    "\n",
    "# Validation012 20%\n",
    "validation_ds012 = TensorDataset(val_data012, val_labels012)\n",
    "validation_loader012 = torch.utils.data.DataLoader(validation_ds012, batch_size=batch_size, shuffle=True, **kwargs)\n",
    "print(len(validation_loader012))\n",
    "\n",
    "# Test012 all\n",
    "test_ds012 = TensorDataset(test_data012, test_labels012)\n",
    "test_loader012 = torch.utils.data.DataLoader(test_ds012, batch_size=batch_size, shuffle=True, **kwargs)\n",
    "print(len(test_loader012))\n",
    "\n",
    "# Test345 all\n",
    "test_ds345 = TensorDataset(test_data345, test_labels345)\n",
    "test_loader345 = torch.utils.data.DataLoader(test_ds345, batch_size=batch_size, shuffle=True, **kwargs)\n",
    "print(len(test_loader345))\n"
   ]
  },
  {
   "cell_type": "markdown",
   "metadata": {},
   "source": [
    "## ADB: Osservazioni\n",
    "\n",
    "- Dati IN DISTRIBUTION per training (il train_loader012 va bene per questo). \n",
    "- Dati IN DISTRIBUTION per validation (i.e. per monitorare quanto bene classifichiamo le classi IN DISTRIBUTION). NON abbiamo questi data per la validation per ora.  \n",
    "- Dati OUT OF DISTRIBUTION (OOD) per i test finali (questo abbiamo, ma abbiamo chiamato 'validation'). Non possiamo usare questi dati nella funzione validate() sotto, per esempio, perche' non abbiamo ettichette e perche' non sono IN DISTRIBUTION. \n"
   ]
  },
  {
   "cell_type": "markdown",
   "metadata": {},
   "source": [
    "## Prove"
   ]
  },
  {
   "cell_type": "markdown",
   "metadata": {},
   "source": [
    "1) Proviamo a stampare le prime 10 immagini del train:"
   ]
  },
  {
   "cell_type": "code",
   "execution_count": 89,
   "metadata": {},
   "outputs": [
    {
     "name": "stdout",
     "output_type": "stream",
     "text": [
      "X_train: torch.Size([32, 28, 28]) type: torch.FloatTensor\n",
      "y_train: torch.Size([32]) type: torch.FloatTensor\n"
     ]
    }
   ],
   "source": [
    "# ADB: qui ho modificato perche' ora ogni batch contiene un gruppo di immagini e anche un gruppo di label.\n",
    "for (X_train, y_train) in train_loader012:\n",
    "    print('X_train:', X_train.size(), 'type:', X_train.type())\n",
    "    print('y_train:', y_train.size(), 'type:', y_train.type())\n",
    "    break"
   ]
  },
  {
   "cell_type": "code",
   "execution_count": 90,
   "metadata": {},
   "outputs": [
    {
     "data": {
      "image/png": "[encoded data removed]",
      "text/plain": [
       "<Figure size 720x72 with 10 Axes>"
      ]
     },
     "metadata": {},
     "output_type": "display_data"
    }
   ],
   "source": [
    "pltsize=1\n",
    "plt.figure(figsize=(10*pltsize, pltsize))\n",
    "\n",
    "for i in range(10):\n",
    "    plt.subplot(1,10,i+1)\n",
    "    plt.axis('off')\n",
    "    plt.imshow(X_train[i, :, :].numpy().reshape(28,28), cmap=\"gray\")"
   ]
  },
  {
   "cell_type": "markdown",
   "metadata": {},
   "source": [
    "2) Proviamo a stampare le prime 10 immagini del validation:"
   ]
  },
  {
   "cell_type": "code",
   "execution_count": 91,
   "metadata": {},
   "outputs": [
    {
     "name": "stdout",
     "output_type": "stream",
     "text": [
      "V_train: torch.Size([32, 28, 28]) type: torch.FloatTensor\n",
      "y_train: torch.Size([32]) type: torch.FloatTensor\n"
     ]
    }
   ],
   "source": [
    "for (V_train, y_train) in validation_loader012:\n",
    "    print('V_train:', V_train.size(), 'type:', V_train.type())\n",
    "    print('y_train:', y_train.size(), 'type:', y_train.type())\n",
    "    break"
   ]
  },
  {
   "cell_type": "code",
   "execution_count": 92,
   "metadata": {},
   "outputs": [
    {
     "data": {
      "image/png": "[encoded data removed]",
      "text/plain": [
       "<Figure size 720x72 with 10 Axes>"
      ]
     },
     "metadata": {},
     "output_type": "display_data"
    }
   ],
   "source": [
    "pltsize=1\n",
    "plt.figure(figsize=(10*pltsize, pltsize))\n",
    "\n",
    "for i in range(10):\n",
    "    plt.subplot(1,10,i+1)\n",
    "    plt.axis('off')\n",
    "    plt.imshow(V_train[i, :, :].numpy().reshape(28,28), cmap=\"gray\")"
   ]
  },
  {
   "cell_type": "markdown",
   "metadata": {},
   "source": [
    "3) Proviamo a stampare le prime 10 immagini del test:"
   ]
  },
  {
   "cell_type": "code",
   "execution_count": 93,
   "metadata": {},
   "outputs": [
    {
     "name": "stdout",
     "output_type": "stream",
     "text": [
      "T_train: torch.Size([32, 28, 28]) type: torch.FloatTensor\n",
      "y_train: torch.Size([32]) type: torch.FloatTensor\n"
     ]
    }
   ],
   "source": [
    "for (T_train, y_train) in test_loader012:\n",
    "    print('T_train:', T_train.size(), 'type:', T_train.type())\n",
    "    print('y_train:', y_train.size(), 'type:', y_train.type())\n",
    "    break"
   ]
  },
  {
   "cell_type": "code",
   "execution_count": 94,
   "metadata": {},
   "outputs": [
    {
     "data": {
      "image/png": "[encoded data removed]",
      "text/plain": [
       "<Figure size 720x72 with 10 Axes>"
      ]
     },
     "metadata": {},
     "output_type": "display_data"
    }
   ],
   "source": [
    "pltsize=1\n",
    "plt.figure(figsize=(10*pltsize, pltsize))\n",
    "\n",
    "for i in range(10):\n",
    "    plt.subplot(1,10,i+1)\n",
    "    plt.axis('off')\n",
    "    plt.imshow(T_train[i, :, :].numpy().reshape(28,28), cmap=\"gray\")"
   ]
  },
  {
   "cell_type": "code",
   "execution_count": 95,
   "metadata": {},
   "outputs": [
    {
     "name": "stdout",
     "output_type": "stream",
     "text": [
      "three_train: torch.Size([32, 28, 28]) type: torch.FloatTensor\n",
      "Y_train: torch.Size([32]) type: torch.FloatTensor\n"
     ]
    }
   ],
   "source": [
    "for (three_test, Y_train) in test_loader345:\n",
    "    print('three_train:', three_test.size(), 'type:', three_test.type())\n",
    "    print('Y_train:', Y_train.size(), 'type:', Y_train.type())\n",
    "    break"
   ]
  },
  {
   "cell_type": "code",
   "execution_count": 96,
   "metadata": {},
   "outputs": [
    {
     "data": {
      "image/png": "[encoded data removed]",
      "text/plain": [
       "<Figure size 720x72 with 10 Axes>"
      ]
     },
     "metadata": {},
     "output_type": "display_data"
    }
   ],
   "source": [
    "pltsize=1\n",
    "plt.figure(figsize=(10*pltsize, pltsize))\n",
    "\n",
    "for i in range(10):\n",
    "    plt.subplot(1,10,i+1)\n",
    "    plt.axis('off')\n",
    "    plt.imshow(three_test[i, :, :].numpy().reshape(28,28), cmap=\"gray\")"
   ]
  },
  {
   "cell_type": "markdown",
   "metadata": {},
   "source": [
    "# Multi-layer Perceptron\n",
    "Definiamo ora la rete neurale come una Python class."
   ]
  },
  {
   "cell_type": "code",
   "execution_count": 110,
   "metadata": {},
   "outputs": [
    {
     "name": "stdout",
     "output_type": "stream",
     "text": [
      "Net(\n",
      "  (fc1): Linear(in_features=784, out_features=128, bias=True)\n",
      "  (fc1_drop): Dropout(p=0.2)\n",
      "  (fc2): Linear(in_features=128, out_features=128, bias=True)\n",
      "  (fc2_drop): Dropout(p=0.2)\n",
      "  (fc3): Linear(in_features=128, out_features=7, bias=True)\n",
      ")\n"
     ]
    }
   ],
   "source": [
    "class Net(nn.Module):\n",
    "    def __init__(self):\n",
    "        super(Net, self).__init__()\n",
    "        self.fc1 = nn.Linear(28*28, 128)\n",
    "        self.fc1_drop = nn.Dropout(0.2)\n",
    "        self.fc2 = nn.Linear(128, 128)\n",
    "        self.fc2_drop = nn.Dropout(0.2)\n",
    "        self.fc3 = nn.Linear(128, 7)     # Numero di output 7.\n",
    "\n",
    "    def forward(self, x):\n",
    "        x = x.view(-1, 28*28)\n",
    "        x = F.relu(self.fc1(x))\n",
    "        x = self.fc1_drop(x)\n",
    "        x = F.relu(self.fc2(x))\n",
    "        x = self.fc2_drop(x)\n",
    "        return F.log_softmax(self.fc3(x), 1)\n",
    "\n",
    "model = Net()\n",
    "if cuda:\n",
    "    model.cuda()\n",
    "    \n",
    "optimizer = optim.SGD(model.parameters(), lr=0.01, momentum=0.5)\n",
    "\n",
    "print(model)\n"
   ]
  },
  {
   "cell_type": "markdown",
   "metadata": {},
   "source": [
    "Definiamo le funzioni di **train** e **test**"
   ]
  },
  {
   "cell_type": "code",
   "execution_count": 98,
   "metadata": {},
   "outputs": [],
   "source": [
    "def train(epoch, log_interval, loader):\n",
    "    model.train()\n",
    "    batch_idx = 0\n",
    "    while(batch_idx != len(loader)):\n",
    "        for (data, target) in loader:\n",
    "            target = target.type(torch.long)\n",
    "            if cuda:\n",
    "                data, target = data.cuda(), target.cuda()\n",
    "            data, target = Variable(data), Variable(target)\n",
    "            optimizer.zero_grad()\n",
    "            output = model(data)\n",
    "            loss = F.nll_loss(output, target)\n",
    "            loss.backward()\n",
    "            optimizer.step()\n",
    "            if batch_idx % log_interval == 0:\n",
    "                print('Train Epoch: {} [{}/{} ({:.0f}%)]\\tLoss: {:.6f}'.format(\n",
    "                    epoch, batch_idx * len(data), len(loader.dataset),\n",
    "                    100. * batch_idx / len(loader), loss.item()))\n",
    "            batch_idx = batch_idx + 1"
   ]
  },
  {
   "cell_type": "code",
   "execution_count": 99,
   "metadata": {},
   "outputs": [],
   "source": [
    "def validate(loss_vector, accuracy_vector, loader):\n",
    "    model.eval()\n",
    "    val_loss, correct = 0, 0\n",
    "    for data, target in loader:\n",
    "        target = target.type(torch.long)\n",
    "        if cuda:\n",
    "            data, target = data.cuda(), target.cuda()\n",
    "        data, target = Variable(data), Variable(target)\n",
    "        output = model(data)\n",
    "        val_loss += F.nll_loss(output, target).item()\n",
    "        pred = output.data.max(1)[1] # get the index of the max log-probability\n",
    "        correct += pred.eq(target.data).cpu().sum()\n",
    "\n",
    "    val_loss /= len(loader)\n",
    "    loss_vector.append(val_loss)\n",
    "\n",
    "    accuracy = 100. * correct / len(loader.dataset)\n",
    "    accuracy_vector.append(accuracy)\n",
    "    \n",
    "    print('\\nValidation set: Average loss: {:.4f}, Accuracy: {}/{} ({:.0f}%)\\n'.format(\n",
    "        val_loss, correct, len(loader.dataset), accuracy))"
   ]
  },
  {
   "cell_type": "code",
   "execution_count": 100,
   "metadata": {},
   "outputs": [
    {
     "name": "stdout",
     "output_type": "stream",
     "text": [
      "Train Epoch: 1 [0/33577 (0%)]\tLoss: 1.941513\n",
      "Train Epoch: 1 [3200/33577 (10%)]\tLoss: 1.829853\n",
      "Train Epoch: 1 [6400/33577 (19%)]\tLoss: 1.253301\n",
      "Train Epoch: 1 [9600/33577 (29%)]\tLoss: 0.783308\n",
      "Train Epoch: 1 [12800/33577 (38%)]\tLoss: 0.573214\n",
      "Train Epoch: 1 [16000/33577 (48%)]\tLoss: 0.537617\n",
      "Train Epoch: 1 [19200/33577 (57%)]\tLoss: 0.416911\n",
      "Train Epoch: 1 [22400/33577 (67%)]\tLoss: 0.233280\n",
      "Train Epoch: 1 [25600/33577 (76%)]\tLoss: 0.366324\n",
      "Train Epoch: 1 [28800/33577 (86%)]\tLoss: 0.406810\n",
      "Train Epoch: 1 [32000/33577 (95%)]\tLoss: 0.639513\n",
      "\n",
      "Validation set: Average loss: 0.2201, Accuracy: 6547/6989 (93%)\n",
      "\n",
      "Train Epoch: 2 [0/33577 (0%)]\tLoss: 0.367304\n",
      "Train Epoch: 2 [3200/33577 (10%)]\tLoss: 0.381304\n",
      "Train Epoch: 2 [6400/33577 (19%)]\tLoss: 0.277971\n",
      "Train Epoch: 2 [9600/33577 (29%)]\tLoss: 0.290810\n",
      "Train Epoch: 2 [12800/33577 (38%)]\tLoss: 0.233494\n",
      "Train Epoch: 2 [16000/33577 (48%)]\tLoss: 0.146998\n",
      "Train Epoch: 2 [19200/33577 (57%)]\tLoss: 0.277383\n",
      "Train Epoch: 2 [22400/33577 (67%)]\tLoss: 0.115015\n",
      "Train Epoch: 2 [25600/33577 (76%)]\tLoss: 0.191051\n",
      "Train Epoch: 2 [28800/33577 (86%)]\tLoss: 0.512647\n",
      "Train Epoch: 2 [32000/33577 (95%)]\tLoss: 0.152895\n",
      "\n",
      "Validation set: Average loss: 0.1625, Accuracy: 6652/6989 (95%)\n",
      "\n",
      "Train Epoch: 3 [0/33577 (0%)]\tLoss: 0.080354\n",
      "Train Epoch: 3 [3200/33577 (10%)]\tLoss: 0.118288\n",
      "Train Epoch: 3 [6400/33577 (19%)]\tLoss: 0.173298\n",
      "Train Epoch: 3 [9600/33577 (29%)]\tLoss: 0.335985\n",
      "Train Epoch: 3 [12800/33577 (38%)]\tLoss: 0.122651\n",
      "Train Epoch: 3 [16000/33577 (48%)]\tLoss: 0.099842\n",
      "Train Epoch: 3 [19200/33577 (57%)]\tLoss: 0.042452\n",
      "Train Epoch: 3 [22400/33577 (67%)]\tLoss: 0.346476\n",
      "Train Epoch: 3 [25600/33577 (76%)]\tLoss: 0.132119\n",
      "Train Epoch: 3 [28800/33577 (86%)]\tLoss: 0.175247\n",
      "Train Epoch: 3 [32000/33577 (95%)]\tLoss: 0.107967\n",
      "\n",
      "Validation set: Average loss: 0.1323, Accuracy: 6706/6989 (95%)\n",
      "\n",
      "Train Epoch: 4 [0/33577 (0%)]\tLoss: 0.396875\n",
      "Train Epoch: 4 [3200/33577 (10%)]\tLoss: 0.278414\n",
      "Train Epoch: 4 [6400/33577 (19%)]\tLoss: 0.089247\n",
      "Train Epoch: 4 [9600/33577 (29%)]\tLoss: 0.262998\n",
      "Train Epoch: 4 [12800/33577 (38%)]\tLoss: 0.105287\n",
      "Train Epoch: 4 [16000/33577 (48%)]\tLoss: 0.231858\n",
      "Train Epoch: 4 [19200/33577 (57%)]\tLoss: 0.080008\n",
      "Train Epoch: 4 [22400/33577 (67%)]\tLoss: 0.059495\n",
      "Train Epoch: 4 [25600/33577 (76%)]\tLoss: 0.053767\n",
      "Train Epoch: 4 [28800/33577 (86%)]\tLoss: 0.125651\n",
      "Train Epoch: 4 [32000/33577 (95%)]\tLoss: 0.091176\n",
      "\n",
      "Validation set: Average loss: 0.1094, Accuracy: 6756/6989 (96%)\n",
      "\n",
      "Train Epoch: 5 [0/33577 (0%)]\tLoss: 0.108297\n",
      "Train Epoch: 5 [3200/33577 (10%)]\tLoss: 0.125428\n",
      "Train Epoch: 5 [6400/33577 (19%)]\tLoss: 0.117349\n",
      "Train Epoch: 5 [9600/33577 (29%)]\tLoss: 0.121568\n",
      "Train Epoch: 5 [12800/33577 (38%)]\tLoss: 0.042214\n",
      "Train Epoch: 5 [16000/33577 (48%)]\tLoss: 0.054702\n",
      "Train Epoch: 5 [19200/33577 (57%)]\tLoss: 0.038842\n",
      "Train Epoch: 5 [22400/33577 (67%)]\tLoss: 0.066845\n",
      "Train Epoch: 5 [25600/33577 (76%)]\tLoss: 0.132547\n",
      "Train Epoch: 5 [28800/33577 (86%)]\tLoss: 0.103411\n",
      "Train Epoch: 5 [32000/33577 (95%)]\tLoss: 0.088969\n",
      "\n",
      "Validation set: Average loss: 0.0939, Accuracy: 6785/6989 (97%)\n",
      "\n",
      "Train Epoch: 6 [0/33577 (0%)]\tLoss: 0.168940\n",
      "Train Epoch: 6 [3200/33577 (10%)]\tLoss: 0.035425\n",
      "Train Epoch: 6 [6400/33577 (19%)]\tLoss: 0.073582\n",
      "Train Epoch: 6 [9600/33577 (29%)]\tLoss: 0.059585\n",
      "Train Epoch: 6 [12800/33577 (38%)]\tLoss: 0.021391\n",
      "Train Epoch: 6 [16000/33577 (48%)]\tLoss: 0.035600\n",
      "Train Epoch: 6 [19200/33577 (57%)]\tLoss: 0.021087\n",
      "Train Epoch: 6 [22400/33577 (67%)]\tLoss: 0.104307\n",
      "Train Epoch: 6 [25600/33577 (76%)]\tLoss: 0.134491\n",
      "Train Epoch: 6 [28800/33577 (86%)]\tLoss: 0.048674\n",
      "Train Epoch: 6 [32000/33577 (95%)]\tLoss: 0.146000\n",
      "\n",
      "Validation set: Average loss: 0.0810, Accuracy: 6813/6989 (97%)\n",
      "\n",
      "Train Epoch: 7 [0/33577 (0%)]\tLoss: 0.047741\n",
      "Train Epoch: 7 [3200/33577 (10%)]\tLoss: 0.013062\n",
      "Train Epoch: 7 [6400/33577 (19%)]\tLoss: 0.053955\n",
      "Train Epoch: 7 [9600/33577 (29%)]\tLoss: 0.425532\n",
      "Train Epoch: 7 [12800/33577 (38%)]\tLoss: 0.104402\n",
      "Train Epoch: 7 [16000/33577 (48%)]\tLoss: 0.050264\n",
      "Train Epoch: 7 [19200/33577 (57%)]\tLoss: 0.172668\n",
      "Train Epoch: 7 [22400/33577 (67%)]\tLoss: 0.026919\n",
      "Train Epoch: 7 [25600/33577 (76%)]\tLoss: 0.057455\n",
      "Train Epoch: 7 [28800/33577 (86%)]\tLoss: 0.081852\n",
      "Train Epoch: 7 [32000/33577 (95%)]\tLoss: 0.140502\n",
      "\n",
      "Validation set: Average loss: 0.0749, Accuracy: 6830/6989 (97%)\n",
      "\n",
      "Train Epoch: 8 [0/33577 (0%)]\tLoss: 0.100898\n",
      "Train Epoch: 8 [3200/33577 (10%)]\tLoss: 0.090692\n",
      "Train Epoch: 8 [6400/33577 (19%)]\tLoss: 0.127080\n",
      "Train Epoch: 8 [9600/33577 (29%)]\tLoss: 0.054701\n",
      "Train Epoch: 8 [12800/33577 (38%)]\tLoss: 0.113099\n",
      "Train Epoch: 8 [16000/33577 (48%)]\tLoss: 0.146237\n",
      "Train Epoch: 8 [19200/33577 (57%)]\tLoss: 0.186737\n",
      "Train Epoch: 8 [22400/33577 (67%)]\tLoss: 0.039216\n",
      "Train Epoch: 8 [25600/33577 (76%)]\tLoss: 0.162676\n",
      "Train Epoch: 8 [28800/33577 (86%)]\tLoss: 0.145481\n",
      "Train Epoch: 8 [32000/33577 (95%)]\tLoss: 0.031874\n",
      "\n",
      "Validation set: Average loss: 0.0703, Accuracy: 6841/6989 (97%)\n",
      "\n",
      "Train Epoch: 9 [0/33577 (0%)]\tLoss: 0.078001\n",
      "Train Epoch: 9 [3200/33577 (10%)]\tLoss: 0.144429\n",
      "Train Epoch: 9 [6400/33577 (19%)]\tLoss: 0.050916\n",
      "Train Epoch: 9 [9600/33577 (29%)]\tLoss: 0.072345\n",
      "Train Epoch: 9 [12800/33577 (38%)]\tLoss: 0.103683\n",
      "Train Epoch: 9 [16000/33577 (48%)]\tLoss: 0.013851\n",
      "Train Epoch: 9 [19200/33577 (57%)]\tLoss: 0.076373\n",
      "Train Epoch: 9 [22400/33577 (67%)]\tLoss: 0.058830\n",
      "Train Epoch: 9 [25600/33577 (76%)]\tLoss: 0.204659\n",
      "Train Epoch: 9 [28800/33577 (86%)]\tLoss: 0.146436\n",
      "Train Epoch: 9 [32000/33577 (95%)]\tLoss: 0.082331\n",
      "\n",
      "Validation set: Average loss: 0.0633, Accuracy: 6853/6989 (98%)\n",
      "\n",
      "Train Epoch: 10 [0/33577 (0%)]\tLoss: 0.091216\n",
      "Train Epoch: 10 [3200/33577 (10%)]\tLoss: 0.105466\n",
      "Train Epoch: 10 [6400/33577 (19%)]\tLoss: 0.095846\n",
      "Train Epoch: 10 [9600/33577 (29%)]\tLoss: 0.141371\n",
      "Train Epoch: 10 [12800/33577 (38%)]\tLoss: 0.123965\n",
      "Train Epoch: 10 [16000/33577 (48%)]\tLoss: 0.019501\n",
      "Train Epoch: 10 [19200/33577 (57%)]\tLoss: 0.192675\n",
      "Train Epoch: 10 [22400/33577 (67%)]\tLoss: 0.090008\n",
      "Train Epoch: 10 [25600/33577 (76%)]\tLoss: 0.035360\n",
      "Train Epoch: 10 [28800/33577 (86%)]\tLoss: 0.037894\n",
      "Train Epoch: 10 [32000/33577 (95%)]\tLoss: 0.110577\n",
      "\n",
      "Validation set: Average loss: 0.0585, Accuracy: 6855/6989 (98%)\n",
      "\n"
     ]
    }
   ],
   "source": [
    "## Addestramento della rete su dataset012 con 3 epoche\n",
    "epochs = 10\n",
    "\n",
    "lossv, accv = [], []\n",
    "for epoch in range(1, epochs + 1):\n",
    "    train(epoch, 100, train_loader012)\n",
    "    validate(lossv, accv, test_loader012)"
   ]
  },
  {
   "cell_type": "markdown",
   "metadata": {},
   "source": [
    "Possiamo adesso addestrare il nostro modello, ogni epoca passa attraverso tutto il dataset del train. Dopo ogni epoca valutiamo il modello attraverso il test(). L'obiettivo è verificare che il modello riconosca come 0, 1, 2 anche le immagini di 3, 4, 5 quindi la classificazione è **out of distribution**. Per farlo addestriamo la rete sul data012 e testiamo la precisione dei test sia su 012 che su 345 utilizzando avarage_precision_score."
   ]
  },
  {
   "cell_type": "markdown",
   "metadata": {},
   "source": [
    "## Test eseguiti con probabilità massima "
   ]
  },
  {
   "cell_type": "code",
   "execution_count": 101,
   "metadata": {},
   "outputs": [],
   "source": [
    "def max_test(epoch, loader):\n",
    "    model.eval ()\n",
    "    test_loss = 0\n",
    "    correct = 0\n",
    "    preds_list = []\n",
    "    for data, target in loader:\n",
    "        target = target.type(torch.long)\n",
    "        if cuda:\n",
    "            data, target = data.cuda(), target.cuda()\n",
    "        data = Variable(data)\n",
    "        target = Variable(target)\n",
    "        output = model(data)\n",
    "        preds_list.append(output)\n",
    "        test_loss += F.nll_loss (output, target).item ()  # sum up batch loss\n",
    "        pred = output.max (1, keepdim=True)[1]  # get the index of the max log-probability\n",
    "        correct += pred.eq (target.view_as (pred)).sum ().item ()\n",
    "    max_pred = new_predict(preds_list)\n",
    "    test_loss /= len (loader.dataset)\n",
    "    print ('\\nTest set: Average loss: {:.4f}, Accuracy: {}/{} ({:.0f}%)\\n'.format (\n",
    "        test_loss, correct, len (loader.dataset),\n",
    "        100. * correct / len (loader.dataset)))\n",
    "    return max_pred"
   ]
  },
  {
   "cell_type": "code",
   "execution_count": 102,
   "metadata": {},
   "outputs": [],
   "source": [
    "###### rifaccio funzione predict che prende gli output di test li mette in numpy come matrice\n",
    "def new_predict(preds_list):\n",
    "    preds_list = torch.cat(preds_list)\n",
    "    preds_list = torch.exp(preds_list)\n",
    "    preds_list = preds_list.detach()\n",
    "    preds_list = preds_list.numpy()\n",
    "    preds_list = np.matrix(preds_list)\n",
    "    print('\\nLe probabilità di classificazione sono: ')\n",
    "    print(preds_list)\n",
    "    print('')\n",
    "    idness = np.max(preds_list, 1)\n",
    "    print ('\\nLa max probabilità è: ')\n",
    "    print(idness)\n",
    "    return idness"
   ]
  },
  {
   "cell_type": "code",
   "execution_count": 103,
   "metadata": {},
   "outputs": [],
   "source": [
    "def plot_func(y_true, y_scores, AP):\n",
    "    precision, recall, _ = precision_recall_curve(y_true, y_scores)\n",
    "\n",
    "    # In matplotlib < 1.5, plt.fill_between does not have a 'step' argument\n",
    "    step_kwargs = ({'step': 'post'}\n",
    "                   if 'step' in signature(plt.fill_between).parameters\n",
    "                   else {})\n",
    "    plt.step(recall, precision, color='b', alpha=0.2,\n",
    "             where='post')\n",
    "    plt.fill_between(recall, precision, alpha=0.2, color='b', **step_kwargs)\n",
    "\n",
    "    plt.xlabel('Recall')\n",
    "    plt.ylabel('Precision')\n",
    "    plt.ylim([0.0, 1.05])\n",
    "    plt.xlim([0.0, 1.0])\n",
    "    \n",
    "    return plt.title('2-class Precision-Recall curve: AP={0:0.2f}'.format(AP))"
   ]
  },
  {
   "cell_type": "code",
   "execution_count": 104,
   "metadata": {},
   "outputs": [],
   "source": [
    "def experiment_func(choosing_test):\n",
    "    test = choosing_test\n",
    "    ## Test_loader012\n",
    "    print('\\nTEST DATASET 012')\n",
    "    result_ID = test(epoch, test_loader012)\n",
    "    len_ID = len(result_ID)\n",
    "\n",
    "    resID = np.empty((0, len_ID))\n",
    "    for i in range (0, len_ID):\n",
    "        newvalue = result_ID[i]\n",
    "        resID = np.append(resID, newvalue)\n",
    "\n",
    "    ## Test_loader345\n",
    "    print('\\nTEST DATASET 345')\n",
    "    result_OOD = test(epoch, test_loader345)\n",
    "    len_OOD = len(result_OOD)\n",
    "\n",
    "    resOOD = np.empty((0, len_OOD))\n",
    "    for i in range (0, len_OOD):\n",
    "        newvalue = result_OOD[i]\n",
    "        resOOD = np.append(resOOD, newvalue) \n",
    "\n",
    "    ## Raccolgo le predizioni max o con entropia in y_scores\n",
    "    y_scores =np.concatenate((resID, resOOD), axis = None)\n",
    "    print(y_scores)\n",
    "\n",
    "    pred_ID = np.ones(len_ID, dtype=int)\n",
    "    pred_OOD = np.zeros(len_OOD, dtype=int)\n",
    "\n",
    "    ## Raccolgo le etichette, agli inD assegno 1, agli outD assegno 0\n",
    "    y_true = np.concatenate((pred_ID, pred_OOD), axis = None)\n",
    "\n",
    "    AP = average_precision_score(y_true, y_scores)\n",
    "\n",
    "    print('L Avarage Precision è: ', AP)\n",
    "\n",
    "    plot_func(y_true, y_scores, AP)\n",
    "    \n",
    "    return AP"
   ]
  },
  {
   "cell_type": "code",
   "execution_count": 105,
   "metadata": {},
   "outputs": [
    {
     "name": "stdout",
     "output_type": "stream",
     "text": [
      "\n",
      "TEST DATASET 012\n",
      "\n",
      "Le probabilità di classificazione sono: \n",
      "[[1.5122185e-06 2.1439139e-06 9.9934506e-01 ... 1.6630979e-04\n",
      "  9.6611423e-08 4.2284551e-04]\n",
      " [9.9999619e-01 4.6170862e-12 9.5944650e-08 ... 6.9184475e-10\n",
      "  3.4056930e-06 4.6864622e-07]\n",
      " [1.1181815e-04 5.3168201e-06 9.2400191e-04 ... 2.9925746e-04\n",
      "  1.0141254e-04 9.9855810e-01]\n",
      " ...\n",
      " [9.9938601e-01 7.1149621e-08 5.3650758e-04 ... 5.7334514e-06\n",
      "  1.8876477e-05 1.4217656e-05]\n",
      " [4.0006344e-05 1.2866749e-02 9.8167348e-01 ... 1.3985217e-04\n",
      "  1.2779451e-04 3.4439594e-03]\n",
      " [1.0387010e-05 1.0749760e-05 4.7895824e-06 ... 6.4297337e-06\n",
      "  9.9822205e-01 4.0021917e-04]]\n",
      "\n",
      "\n",
      "La max probabilità è: \n",
      "[[0.99934506]\n",
      " [0.9999962 ]\n",
      " [0.9985581 ]\n",
      " ...\n",
      " [0.999386  ]\n",
      " [0.9816735 ]\n",
      " [0.99822205]]\n",
      "\n",
      "Test set: Average loss: 0.0018, Accuracy: 6855/6989 (98%)\n",
      "\n",
      "\n",
      "TEST DATASET 345\n",
      "\n",
      "Le probabilità di classificazione sono: \n",
      "[[3.2904540e-04 2.2352373e-03 4.2829916e-04 ... 9.3584388e-01\n",
      "  1.0028569e-02 3.8946848e-05]\n",
      " [3.6566387e-05 1.1063682e-02 6.9196499e-04 ... 8.2301778e-01\n",
      "  1.8352068e-03 2.6478438e-05]\n",
      " [5.6935530e-03 2.2262684e-01 1.9876482e-01 ... 2.1550424e-01\n",
      "  5.8857650e-02 1.4051685e-01]\n",
      " ...\n",
      " [2.4296176e-03 2.4125499e-03 1.8369814e-02 ... 8.7573075e-01\n",
      "  5.9530349e-03 8.0143240e-05]\n",
      " [1.6554274e-03 3.9967652e-02 6.9753087e-01 ... 2.5960160e-03\n",
      "  3.2386495e-04 1.2323668e-04]\n",
      " [1.6529112e-03 5.2352123e-02 2.3023382e-01 ... 1.7938833e-01\n",
      "  3.2008009e-03 3.1153663e-04]]\n",
      "\n",
      "\n",
      "La max probabilità è: \n",
      "[[0.9358439 ]\n",
      " [0.8230178 ]\n",
      " [0.22262684]\n",
      " ...\n",
      " [0.87573075]\n",
      " [0.69753087]\n",
      " [0.53286064]]\n",
      "\n",
      "Test set: Average loss: 0.1699, Accuracy: 166/3011 (6%)\n",
      "\n",
      "[0.99934506 0.99999619 0.9985581  ... 0.87573075 0.69753087 0.53286064]\n",
      "L Avarage Precision è:  0.968776740561524\n"
     ]
    },
    {
     "data": {
      "image/png": "[encoded data removed]",
      "text/plain": [
       "<Figure size 432x288 with 1 Axes>"
      ]
     },
     "metadata": {},
     "output_type": "display_data"
    }
   ],
   "source": [
    "max_AP = experiment_func(max_test)"
   ]
  },
  {
   "cell_type": "markdown",
   "metadata": {},
   "source": [
    "## Test eseguiti con entropia"
   ]
  },
  {
   "cell_type": "code",
   "execution_count": 106,
   "metadata": {},
   "outputs": [],
   "source": [
    "def en_test(epoch, loader):\n",
    "    model.eval ()\n",
    "    test_loss = 0\n",
    "    correct = 0\n",
    "    preds_list = []\n",
    "    for data, target in loader:\n",
    "        target = target.type(torch.long)\n",
    "        if cuda:\n",
    "            data, target = data.cuda(), target.cuda()\n",
    "        data = Variable(data)\n",
    "        target = Variable(target)\n",
    "        output = model(data)\n",
    "        preds_list.append(output)\n",
    "        test_loss += F.nll_loss (output, target).item ()  # sum up batch loss\n",
    "        pred = output.max (1, keepdim=True)[1]  # get the index of the max log-probability\n",
    "        correct += pred.eq (target.view_as (pred)).sum ().item ()\n",
    "    ent_pred = predict_entropy(preds_list)\n",
    "    test_loss /= len (loader.dataset)\n",
    "    print ('\\nTest set: Average loss: {:.4f}, Accuracy: {}/{} ({:.0f}%)\\n'.format (\n",
    "        test_loss, correct, len (loader.dataset),\n",
    "        100. * correct / len (loader.dataset)))\n",
    "    return ent_pred"
   ]
  },
  {
   "cell_type": "code",
   "execution_count": 107,
   "metadata": {},
   "outputs": [],
   "source": [
    "def predict_entropy(preds_list):\n",
    "    preds_list = torch.cat(preds_list)\n",
    "    preds_list = torch.exp(preds_list)\n",
    "    preds_list = preds_list.detach()\n",
    "    preds_list = preds_list.numpy()\n",
    "    preds_list = np.matrix(preds_list)\n",
    "    print('\\nLe probabilità di classificazione sono: ')\n",
    "    print(preds_list)\n",
    "    print('')\n",
    "    entropy = (-entr(preds_list)).sum(1)\n",
    "    print('\\nL entropia di ciascuna tripletta è: ')\n",
    "    print(entropy)\n",
    "    return entropy"
   ]
  },
  {
   "cell_type": "code",
   "execution_count": 108,
   "metadata": {},
   "outputs": [
    {
     "name": "stdout",
     "output_type": "stream",
     "text": [
      "\n",
      "TEST DATASET 012\n",
      "\n",
      "Le probabilità di classificazione sono: \n",
      "[[1.0188784e-04 3.8248280e-04 6.0920476e-05 ... 6.0373545e-04\n",
      "  1.3641630e-02 9.8510927e-01]\n",
      " [3.4569422e-04 7.2139996e-04 2.0082382e-04 ... 2.4767331e-04\n",
      "  9.8234355e-01 1.6035927e-03]\n",
      " [9.9989414e-01 2.3881736e-08 3.9853643e-05 ... 1.9261461e-06\n",
      "  9.7072098e-06 5.3841661e-05]\n",
      " ...\n",
      " [1.5823766e-06 4.9280214e-07 2.3155619e-05 ... 9.9993134e-01\n",
      "  9.6416024e-06 3.2608943e-05]\n",
      " [7.0743295e-07 5.5340485e-07 9.6213580e-06 ... 9.9996090e-01\n",
      "  1.7870236e-05 8.2835368e-06]\n",
      " [5.5652404e-06 9.9816203e-01 2.3340069e-04 ... 5.6659686e-04\n",
      "  3.3548728e-04 1.3602189e-04]]\n",
      "\n",
      "\n",
      "L entropia di ciascuna tripletta è: \n",
      "[[-0.08329885]\n",
      " [-0.10106818]\n",
      " [-0.00118371]\n",
      " ...\n",
      " [-0.00081093]\n",
      " [-0.00048824]\n",
      " [-0.01618468]]\n",
      "\n",
      "Test set: Average loss: 0.0018, Accuracy: 6855/6989 (98%)\n",
      "\n",
      "\n",
      "TEST DATASET 345\n",
      "\n",
      "Le probabilità di classificazione sono: \n",
      "[[9.99150634e-01 1.82124438e-07 9.70057008e-05 ... 5.47167765e-05\n",
      "  6.23619242e-04 4.87374964e-05]\n",
      " [7.20980112e-03 3.28388773e-02 3.98288667e-02 ... 1.89458504e-02\n",
      "  3.34646821e-01 1.46152275e-02]\n",
      " [1.34156900e-03 7.16134608e-01 4.00900319e-02 ... 1.30705303e-02\n",
      "  7.75190219e-02 2.00490188e-03]\n",
      " ...\n",
      " [3.59452941e-04 6.89608380e-02 2.90044607e-03 ... 1.97638109e-01\n",
      "  2.05020886e-03 2.71717090e-05]\n",
      " [1.27618521e-04 1.52137736e-05 1.72797343e-04 ... 9.97046530e-01\n",
      "  7.12028472e-04 1.83994180e-05]\n",
      " [3.33004934e-03 4.23583342e-03 1.11327402e-01 ... 1.16025424e-02\n",
      "  1.75004383e-03 7.95430024e-05]]\n",
      "\n",
      "\n",
      "L entropia di ciascuna tripletta è: \n",
      "[[-0.00764087]\n",
      " [-1.1073883 ]\n",
      " [-0.9287404 ]\n",
      " ...\n",
      " [-0.76868737]\n",
      " [-0.02306291]\n",
      " [-0.4732612 ]]\n",
      "\n",
      "Test set: Average loss: 0.1701, Accuracy: 166/3011 (6%)\n",
      "\n",
      "[-0.08329885 -0.10106818 -0.00118371 ... -0.76868737 -0.02306291\n",
      " -0.47326121]\n",
      "L Avarage Precision è:  0.9695540628853034\n"
     ]
    },
    {
     "data": {
      "image/png": "[encoded data removed]",
      "text/plain": [
       "<Figure size 432x288 with 1 Axes>"
      ]
     },
     "metadata": {},
     "output_type": "display_data"
    }
   ],
   "source": [
    "en_AP = experiment_func(en_test)"
   ]
  },
  {
   "cell_type": "code",
   "execution_count": 109,
   "metadata": {},
   "outputs": [
    {
     "name": "stdout",
     "output_type": "stream",
     "text": [
      "La differenza tra en_AP e max_AP è:  0.0007773223237794724\n"
     ]
    }
   ],
   "source": [
    "print('La differenza tra en_AP e max_AP è: ', en_AP - max_AP)"
   ]
  }
 ],
 "metadata": {
  "kernelspec": {
   "display_name": "Python 3",
   "language": "python",
   "name": "python3"
  },
  "language_info": {
   "codemirror_mode": {
    "name": "ipython",
    "version": 3
   },
   "file_extension": ".py",
   "mimetype": "text/x-python",
   "name": "python",
   "nbconvert_exporter": "python",
   "pygments_lexer": "ipython3",
   "version": "3.6.5"
  }
 },
 "nbformat": 4,
 "nbformat_minor": 2
}
